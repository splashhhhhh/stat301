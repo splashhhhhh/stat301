{
 "cells": [
  {
   "cell_type": "markdown",
   "id": "35fecdb0-a6ef-4a99-9baf-68a6cbae20aa",
   "metadata": {
    "tags": []
   },
   "source": [
    "# **Final Group Report**\n",
    "#### *Group 11: Calvin Choi, Ruby Liu, Muhan Yang, Leon Zhang*"
   ]
  },
  {
   "cell_type": "code",
   "execution_count": 130,
   "id": "3e29ea65-6541-49ae-a7a9-a0c37bb1615e",
   "metadata": {
    "tags": []
   },
   "outputs": [],
   "source": [
    "# import R libraries\n",
    "library(tidyverse)\n",
    "library(mltools)\n",
    "library(leaps)\n",
    "library(ggplot2)\n",
    "library(moderndive)\n",
    "library(dplyr)\n",
    "library(gridExtra)\n",
    "library(reshape2)\n",
    "library(caret)\n",
    "library(glmnet)"
   ]
  },
  {
   "cell_type": "markdown",
   "id": "83505720-e447-49a1-b1cc-dc73c4cb68f9",
   "metadata": {
    "tags": []
   },
   "source": [
    "# Introduction"
   ]
  },
  {
   "cell_type": "markdown",
   "id": "74e1ede4-e447-4666-b25f-4132321ccc12",
   "metadata": {
    "tags": []
   },
   "source": [
    "GitHub is one of the largest collection of open source software in the world (Borges et al., 2016). One feature of hosted repositories in Github is that they allow GitHub users to ***star*** them, which is mainly used for fellow developers to show appreciation, manifest interest or satisfaction with the current project, or bookmark a certain repository for future utility (Begel et al., 2013). Past research has shown that factors such as programming languages, number of forks, number of commits, application domains, and so on may affect the number of stars a GitHub repository obtains, according to Borges et al. (2016).\n",
    "\n",
    "Our project investigates potential statistical models on various factors that might relate to numbers of stars in popular GitHub repositories, based on a dataset of information of the most popular GitHub repositories. The dataset we are using is the \"Most Popular Github Repositories (Projects)\" dataset from Kaggle (URL: https://www.kaggle.com/datasets/donbarbos/github-repos/data), which contains a list of top GitHub project repositories by the number of stars. The data is collected using GitHub search API and the query function to obtain projects with over 167 stars.\n",
    "\n",
    "The repositories dataset consists of 215,029 project repositories (i.e., rows/observations) and 24 columns (i.e., variables) in total. Of the 24 columns, there are five columns containing the integer type of data of repositories: `Size`, `Stars`, `Forks`, `Issues`, and `Watchers`, and the data type of the remaining 19 variables are characters. Of those 19 columns, there are nine binary variables that contain data coded as \"True\" or \"False\" - `Has.Issues`, `Has.Projects`, `Has.Downloads`, `Has.Wiki`, `Has.Pages`, `Has.Discussions`, `Is.Fork`, `Is.Archived`, and `Is.Template`. There are also two columns, consisting of temporal data as character data type, within the rest ten variables: `Created.At` and `Updated.At`.\n",
    "\n",
    "For our purposes of the project, we aim to build a predictive model and an inferential model using the number of stars as the outcome variable, and figure out the most significant factors/characteristics of a repository that impact its number of stars received. Here are our two questions:\n",
    "1. What characteristic(s) of a GitHub repository can help to predict the number of stars/likes the repository received?\n",
    "2. Can we predict the popularity of the repository? Using the response variable: `Stars`.\n",
    "\n",
    "The first one is mostly proposed for making predictions on the number of stars the top repositories received based on the data. This question is an exploratory one and is aiming to find a best predictive model for Stars, using the knowledge from model selection and evaluation.\n",
    "\n",
    "***!!! SAY SOMETHING ABOUT THE SECOND ONE?***"
   ]
  },
  {
   "cell_type": "markdown",
   "id": "43f59036-eece-4f72-b30c-57ed1f95d6cc",
   "metadata": {},
   "source": [
    "## Data Description"
   ]
  },
  {
   "cell_type": "markdown",
   "id": "dd3e0d36-e025-4d91-a203-8ac6978bb182",
   "metadata": {},
   "source": [
    "The dataset we were given is called the repository dataset from Kaggle. It is a dataset that lists the top 215k projects by star with over 167 stars on Github. This dataset contains data pertaining to the characteristics such as the size, creation date and homepage associated to the repo as well as its characteristics that tell us about its current state such as whether or not it has issues or projects. The dataset has a good diversity of numerical, text and categorical data which can also be combined to create metrics.\n",
    "The author of this dataset went through quite a tedious process to collect this data. They used the github search api and ran a query through it which would only allow the author to extract 1000 observations at a time. They were able to capture all the observation by changing the stars criteria by changing the min and max every time. This does raise the question on whether or not the author had trustworthy workflow to acquire the data as the repetition could compromise the data to human error.\n",
    "\n",
    "***!!! REPEATED INFO FROM THE DESCRIPTION THAT IS IN THE INTRODUCTION***"
   ]
  },
  {
   "cell_type": "markdown",
   "id": "e45b330d-56c6-49be-8858-e6ac3f799d92",
   "metadata": {},
   "source": [
    "### Breakdown of columns from Kaggle description\n",
    "\n",
    "| Variable Name | Data Type | Summary |\n",
    "| --- | --- | --- |\n",
    "| **`Name`** | chr (character) | The name of the GitHub repository |\n",
    "| **`Description`** | chr (character) | A brief textual description that summarizes the purpose or focus of the repository (may also include emojis) |\n",
    "| **`URL`** | chr (character | The URL or web address that links to the GitHub repository, which is a unique identified for the repository |\n",
    "| **`Created.At`** | dttm (date time) | The date and time when the repository was initially created on GitHub, in ISO 8601 format |\n",
    "| **`Updated.At`** | dttm (date time) | The date and time of the most recent update or modification to the repository, in ISO 8601 format |\n",
    "| **`Homepage`** | chr (character) | The URL to the homepage or landing page associated with the repository, providing additional information or resources |\n",
    "| **`Size`** | dbl (double) | The size of the repository in bytes, indicating the total storage space used by the repository's files and data |\n",
    "| **`Stars`** | dbl (double) | The number of stars or likes that the repository has received from other GitHub users, indicating its popularity or interest |\n",
    "| **`Forks`** | dbl (double) | The number of times the repository has been forked by other GitHub users |\n",
    "| **`Issues`** | dbl (double) | The total number of open issues (items that can be created to plan, discuss, and track work) |\n",
    "| **`Watchers`** | dbl (double) | The number of GitHub users who are \"watching\" or monitoring the repository for updates and changes |\n",
    "| **`Language`** | chr (character) | The primary programming language |\n",
    "| **`License`** | chr (character) | Information about the software license using a license identifier |\n",
    "| **`Topics`** | chr (character) | A list of topics or tags associated with the repository, helping users discover related projects and topics of interest |\n",
    "| **`Has.Issues`** | lgl (logical) | A boolean value indicating whether or not the repository has an issue tracker enabled (if true, then the repository has an issue tracker) |\n",
    "| **`Has.Projects`** | lgl (logical) | A boolean value indicating whether the repository uses GitHub Projects to manage and organize tasks and work items |\n",
    "| **`Has.Downloads`** | lgl (logical) | A boolean value indicating whether the repository offers downloadable files or assets to users |\n",
    "| **`Has.Wiki`** | lgl (logical) | A boolean value indicating whether the repository has an associated wiki with additional documentation and information |\n",
    "| **`Has.Pages`** | lgl (logical) | A boolean value indicating whether the repository has GitHub Pages enabled, allowing the creation of a website associated with the repository |\n",
    "| **`Has.Discussions`** | lgl (logical) | A boolean value indicating whether the repository has GitHub Discussions enabled, allowing community discussions and information |\n",
    "| **`Is.Fork`** | lgl (logical) | A boolean value indicating whether the repository is a fork of another repository (if false, then the repository is not a fork) |\n",
    "| **`Is.Archived`** | lgl (logical) | A boolean value indicating whether the repository is archived (typically read-only and no longer actively maintained) |\n",
    "| **`Is.Template`** | lgl (logical) | A boolean value indicating whether the repository is set up as a template |\n",
    "| **`Default.Branch`** | chr (character) | The name of the default branch |"
   ]
  },
  {
   "cell_type": "markdown",
   "id": "12647803-7bf4-42c6-b27b-0646a4953e40",
   "metadata": {},
   "source": [
    "# Methods and Results"
   ]
  },
  {
   "cell_type": "markdown",
   "id": "b3530c8c-0352-4d3b-8383-273718abeabb",
   "metadata": {},
   "source": [
    "## Exploratory Data Analysis"
   ]
  },
  {
   "cell_type": "markdown",
   "id": "e4b54ea1-9ccc-49c7-92ab-58947d5d112b",
   "metadata": {
    "tags": []
   },
   "source": [
    "### Data Wrangling"
   ]
  },
  {
   "cell_type": "code",
   "execution_count": 199,
   "id": "1e3b20a2-5969-4d4a-a89e-5daa21fcf5f3",
   "metadata": {
    "tags": []
   },
   "outputs": [],
   "source": [
    "# reading from the web into R using a github link to csv dataset\n",
    "link <- \"https://raw.githubusercontent.com/splashhhhhh/stat301/main/repositories.csv\"\n",
    "\n",
    "# read data\n",
    "data <- read.csv(link)"
   ]
  },
  {
   "cell_type": "code",
   "execution_count": 200,
   "id": "658f5898-c5dc-43c1-a7c3-c5827cb644bc",
   "metadata": {
    "tags": []
   },
   "outputs": [
    {
     "data": {
      "text/html": [
       "<table class=\"dataframe\">\n",
       "<caption>A data.frame: 6 × 24</caption>\n",
       "<thead>\n",
       "\t<tr><th></th><th scope=col>Name</th><th scope=col>Description</th><th scope=col>URL</th><th scope=col>Created.At</th><th scope=col>Updated.At</th><th scope=col>Homepage</th><th scope=col>Size</th><th scope=col>Stars</th><th scope=col>Forks</th><th scope=col>Issues</th><th scope=col>⋯</th><th scope=col>Has.Issues</th><th scope=col>Has.Projects</th><th scope=col>Has.Downloads</th><th scope=col>Has.Wiki</th><th scope=col>Has.Pages</th><th scope=col>Has.Discussions</th><th scope=col>Is.Fork</th><th scope=col>Is.Archived</th><th scope=col>Is.Template</th><th scope=col>Default.Branch</th></tr>\n",
       "\t<tr><th></th><th scope=col>&lt;chr&gt;</th><th scope=col>&lt;chr&gt;</th><th scope=col>&lt;chr&gt;</th><th scope=col>&lt;chr&gt;</th><th scope=col>&lt;chr&gt;</th><th scope=col>&lt;chr&gt;</th><th scope=col>&lt;int&gt;</th><th scope=col>&lt;int&gt;</th><th scope=col>&lt;int&gt;</th><th scope=col>&lt;int&gt;</th><th scope=col>⋯</th><th scope=col>&lt;chr&gt;</th><th scope=col>&lt;chr&gt;</th><th scope=col>&lt;chr&gt;</th><th scope=col>&lt;chr&gt;</th><th scope=col>&lt;chr&gt;</th><th scope=col>&lt;chr&gt;</th><th scope=col>&lt;chr&gt;</th><th scope=col>&lt;chr&gt;</th><th scope=col>&lt;chr&gt;</th><th scope=col>&lt;chr&gt;</th></tr>\n",
       "</thead>\n",
       "<tbody>\n",
       "\t<tr><th scope=row>1</th><td>freeCodeCamp               </td><td>freeCodeCamp.org's open-source codebase and curriculum. Learn to code for free.         </td><td>https://github.com/freeCodeCamp/freeCodeCamp             </td><td>2014-12-24T17:49:19Z</td><td>2023-09-21T11:32:33Z</td><td>http://contribute.freecodecamp.org/                      </td><td>387451</td><td>374074</td><td>33599</td><td>  248</td><td>⋯</td><td>True </td><td>True </td><td>True</td><td>False</td><td>True </td><td>False</td><td>False</td><td>False</td><td>False</td><td>main  </td></tr>\n",
       "\t<tr><th scope=row>2</th><td>free-programming-books     </td><td>:books: Freely available programming books                                              </td><td>https://github.com/EbookFoundation/free-programming-books</td><td>2013-10-11T06:50:37Z</td><td>2023-09-21T11:09:25Z</td><td>https://ebookfoundation.github.io/free-programming-books/</td><td> 17087</td><td>298393</td><td>57194</td><td>   46</td><td>⋯</td><td>True </td><td>False</td><td>True</td><td>False</td><td>True </td><td>False</td><td>False</td><td>False</td><td>False</td><td>main  </td></tr>\n",
       "\t<tr><th scope=row>3</th><td>awesome                    </td><td>😎 Awesome lists about all kinds of interesting topics                                  </td><td>https://github.com/sindresorhus/awesome                  </td><td>2014-07-11T13:42:37Z</td><td>2023-09-21T11:18:22Z</td><td>                                                         </td><td>  1441</td><td>269997</td><td>26485</td><td>   61</td><td>⋯</td><td>True </td><td>False</td><td>True</td><td>False</td><td>True </td><td>False</td><td>False</td><td>False</td><td>False</td><td>main  </td></tr>\n",
       "\t<tr><th scope=row>4</th><td>996.ICU                    </td><td>Repo for counting stars and contributing. Press F to pay respect to glorious developers.</td><td>https://github.com/996icu/996.ICU                        </td><td>2019-03-26T07:31:14Z</td><td>2023-09-21T08:09:01Z</td><td>https://996.icu                                          </td><td>187799</td><td>267901</td><td>21497</td><td>16712</td><td>⋯</td><td>False</td><td>False</td><td>True</td><td>False</td><td>False</td><td>False</td><td>False</td><td>True </td><td>False</td><td>master</td></tr>\n",
       "\t<tr><th scope=row>5</th><td>coding-interview-university</td><td>A complete computer science study plan to become a software engineer.                   </td><td>https://github.com/jwasham/coding-interview-university   </td><td>2016-06-06T02:34:12Z</td><td>2023-09-21T10:54:48Z</td><td>                                                         </td><td> 20998</td><td>265161</td><td>69434</td><td>   56</td><td>⋯</td><td>True </td><td>False</td><td>True</td><td>False</td><td>False</td><td>False</td><td>False</td><td>False</td><td>False</td><td>main  </td></tr>\n",
       "\t<tr><th scope=row>6</th><td>public-apis                </td><td>A collective list of free APIs                                                          </td><td>https://github.com/public-apis/public-apis               </td><td>2016-03-20T23:49:42Z</td><td>2023-09-21T11:22:06Z</td><td>http://public-apis.org                                   </td><td>  5088</td><td>256615</td><td>29254</td><td>  191</td><td>⋯</td><td>True </td><td>False</td><td>True</td><td>False</td><td>False</td><td>False</td><td>False</td><td>False</td><td>False</td><td>master</td></tr>\n",
       "</tbody>\n",
       "</table>\n"
      ],
      "text/latex": [
       "A data.frame: 6 × 24\n",
       "\\begin{tabular}{r|lllllllllllllllllllll}\n",
       "  & Name & Description & URL & Created.At & Updated.At & Homepage & Size & Stars & Forks & Issues & ⋯ & Has.Issues & Has.Projects & Has.Downloads & Has.Wiki & Has.Pages & Has.Discussions & Is.Fork & Is.Archived & Is.Template & Default.Branch\\\\\n",
       "  & <chr> & <chr> & <chr> & <chr> & <chr> & <chr> & <int> & <int> & <int> & <int> & ⋯ & <chr> & <chr> & <chr> & <chr> & <chr> & <chr> & <chr> & <chr> & <chr> & <chr>\\\\\n",
       "\\hline\n",
       "\t1 & freeCodeCamp                & freeCodeCamp.org's open-source codebase and curriculum. Learn to code for free.          & https://github.com/freeCodeCamp/freeCodeCamp              & 2014-12-24T17:49:19Z & 2023-09-21T11:32:33Z & http://contribute.freecodecamp.org/                       & 387451 & 374074 & 33599 &   248 & ⋯ & True  & True  & True & False & True  & False & False & False & False & main  \\\\\n",
       "\t2 & free-programming-books      & :books: Freely available programming books                                               & https://github.com/EbookFoundation/free-programming-books & 2013-10-11T06:50:37Z & 2023-09-21T11:09:25Z & https://ebookfoundation.github.io/free-programming-books/ &  17087 & 298393 & 57194 &    46 & ⋯ & True  & False & True & False & True  & False & False & False & False & main  \\\\\n",
       "\t3 & awesome                     & 😎 Awesome lists about all kinds of interesting topics                                   & https://github.com/sindresorhus/awesome                   & 2014-07-11T13:42:37Z & 2023-09-21T11:18:22Z &                                                           &   1441 & 269997 & 26485 &    61 & ⋯ & True  & False & True & False & True  & False & False & False & False & main  \\\\\n",
       "\t4 & 996.ICU                     & Repo for counting stars and contributing. Press F to pay respect to glorious developers. & https://github.com/996icu/996.ICU                         & 2019-03-26T07:31:14Z & 2023-09-21T08:09:01Z & https://996.icu                                           & 187799 & 267901 & 21497 & 16712 & ⋯ & False & False & True & False & False & False & False & True  & False & master\\\\\n",
       "\t5 & coding-interview-university & A complete computer science study plan to become a software engineer.                    & https://github.com/jwasham/coding-interview-university    & 2016-06-06T02:34:12Z & 2023-09-21T10:54:48Z &                                                           &  20998 & 265161 & 69434 &    56 & ⋯ & True  & False & True & False & False & False & False & False & False & main  \\\\\n",
       "\t6 & public-apis                 & A collective list of free APIs                                                           & https://github.com/public-apis/public-apis                & 2016-03-20T23:49:42Z & 2023-09-21T11:22:06Z & http://public-apis.org                                    &   5088 & 256615 & 29254 &   191 & ⋯ & True  & False & True & False & False & False & False & False & False & master\\\\\n",
       "\\end{tabular}\n"
      ],
      "text/markdown": [
       "\n",
       "A data.frame: 6 × 24\n",
       "\n",
       "| <!--/--> | Name &lt;chr&gt; | Description &lt;chr&gt; | URL &lt;chr&gt; | Created.At &lt;chr&gt; | Updated.At &lt;chr&gt; | Homepage &lt;chr&gt; | Size &lt;int&gt; | Stars &lt;int&gt; | Forks &lt;int&gt; | Issues &lt;int&gt; | ⋯ ⋯ | Has.Issues &lt;chr&gt; | Has.Projects &lt;chr&gt; | Has.Downloads &lt;chr&gt; | Has.Wiki &lt;chr&gt; | Has.Pages &lt;chr&gt; | Has.Discussions &lt;chr&gt; | Is.Fork &lt;chr&gt; | Is.Archived &lt;chr&gt; | Is.Template &lt;chr&gt; | Default.Branch &lt;chr&gt; |\n",
       "|---|---|---|---|---|---|---|---|---|---|---|---|---|---|---|---|---|---|---|---|---|---|\n",
       "| 1 | freeCodeCamp                | freeCodeCamp.org's open-source codebase and curriculum. Learn to code for free.          | https://github.com/freeCodeCamp/freeCodeCamp              | 2014-12-24T17:49:19Z | 2023-09-21T11:32:33Z | http://contribute.freecodecamp.org/                       | 387451 | 374074 | 33599 |   248 | ⋯ | True  | True  | True | False | True  | False | False | False | False | main   |\n",
       "| 2 | free-programming-books      | :books: Freely available programming books                                               | https://github.com/EbookFoundation/free-programming-books | 2013-10-11T06:50:37Z | 2023-09-21T11:09:25Z | https://ebookfoundation.github.io/free-programming-books/ |  17087 | 298393 | 57194 |    46 | ⋯ | True  | False | True | False | True  | False | False | False | False | main   |\n",
       "| 3 | awesome                     | 😎 Awesome lists about all kinds of interesting topics                                   | https://github.com/sindresorhus/awesome                   | 2014-07-11T13:42:37Z | 2023-09-21T11:18:22Z | <!----> |   1441 | 269997 | 26485 |    61 | ⋯ | True  | False | True | False | True  | False | False | False | False | main   |\n",
       "| 4 | 996.ICU                     | Repo for counting stars and contributing. Press F to pay respect to glorious developers. | https://github.com/996icu/996.ICU                         | 2019-03-26T07:31:14Z | 2023-09-21T08:09:01Z | https://996.icu                                           | 187799 | 267901 | 21497 | 16712 | ⋯ | False | False | True | False | False | False | False | True  | False | master |\n",
       "| 5 | coding-interview-university | A complete computer science study plan to become a software engineer.                    | https://github.com/jwasham/coding-interview-university    | 2016-06-06T02:34:12Z | 2023-09-21T10:54:48Z | <!----> |  20998 | 265161 | 69434 |    56 | ⋯ | True  | False | True | False | False | False | False | False | False | main   |\n",
       "| 6 | public-apis                 | A collective list of free APIs                                                           | https://github.com/public-apis/public-apis                | 2016-03-20T23:49:42Z | 2023-09-21T11:22:06Z | http://public-apis.org                                    |   5088 | 256615 | 29254 |   191 | ⋯ | True  | False | True | False | False | False | False | False | False | master |\n",
       "\n"
      ],
      "text/plain": [
       "  Name                       \n",
       "1 freeCodeCamp               \n",
       "2 free-programming-books     \n",
       "3 awesome                    \n",
       "4 996.ICU                    \n",
       "5 coding-interview-university\n",
       "6 public-apis                \n",
       "  Description                                                                             \n",
       "1 freeCodeCamp.org's open-source codebase and curriculum. Learn to code for free.         \n",
       "2 :books: Freely available programming books                                              \n",
       "3 😎 Awesome lists about all kinds of interesting topics                                  \n",
       "4 Repo for counting stars and contributing. Press F to pay respect to glorious developers.\n",
       "5 A complete computer science study plan to become a software engineer.                   \n",
       "6 A collective list of free APIs                                                          \n",
       "  URL                                                      \n",
       "1 https://github.com/freeCodeCamp/freeCodeCamp             \n",
       "2 https://github.com/EbookFoundation/free-programming-books\n",
       "3 https://github.com/sindresorhus/awesome                  \n",
       "4 https://github.com/996icu/996.ICU                        \n",
       "5 https://github.com/jwasham/coding-interview-university   \n",
       "6 https://github.com/public-apis/public-apis               \n",
       "  Created.At           Updated.At          \n",
       "1 2014-12-24T17:49:19Z 2023-09-21T11:32:33Z\n",
       "2 2013-10-11T06:50:37Z 2023-09-21T11:09:25Z\n",
       "3 2014-07-11T13:42:37Z 2023-09-21T11:18:22Z\n",
       "4 2019-03-26T07:31:14Z 2023-09-21T08:09:01Z\n",
       "5 2016-06-06T02:34:12Z 2023-09-21T10:54:48Z\n",
       "6 2016-03-20T23:49:42Z 2023-09-21T11:22:06Z\n",
       "  Homepage                                                  Size   Stars  Forks\n",
       "1 http://contribute.freecodecamp.org/                       387451 374074 33599\n",
       "2 https://ebookfoundation.github.io/free-programming-books/  17087 298393 57194\n",
       "3                                                             1441 269997 26485\n",
       "4 https://996.icu                                           187799 267901 21497\n",
       "5                                                            20998 265161 69434\n",
       "6 http://public-apis.org                                      5088 256615 29254\n",
       "  Issues ⋯ Has.Issues Has.Projects Has.Downloads Has.Wiki Has.Pages\n",
       "1   248  ⋯ True       True         True          False    True     \n",
       "2    46  ⋯ True       False        True          False    True     \n",
       "3    61  ⋯ True       False        True          False    True     \n",
       "4 16712  ⋯ False      False        True          False    False    \n",
       "5    56  ⋯ True       False        True          False    False    \n",
       "6   191  ⋯ True       False        True          False    False    \n",
       "  Has.Discussions Is.Fork Is.Archived Is.Template Default.Branch\n",
       "1 False           False   False       False       main          \n",
       "2 False           False   False       False       main          \n",
       "3 False           False   False       False       main          \n",
       "4 False           False   True        False       master        \n",
       "5 False           False   False       False       main          \n",
       "6 False           False   False       False       master        "
      ]
     },
     "metadata": {},
     "output_type": "display_data"
    }
   ],
   "source": [
    "head(data)"
   ]
  },
  {
   "cell_type": "markdown",
   "id": "50be1552-b858-425f-aedb-9e83c1f5575f",
   "metadata": {},
   "source": [
    "We can see that we may have some outliers in our data by looking at the median and mean values and comparing it to the max value. For example, observe the summary of `Size`."
   ]
  },
  {
   "cell_type": "code",
   "execution_count": 201,
   "id": "1b46ea87-4cb4-41a8-baac-4f612f1d01f3",
   "metadata": {
    "tags": []
   },
   "outputs": [
    {
     "name": "stdout",
     "output_type": "stream",
     "text": [
      "           Name     Description             URL      Created.At      Updated.At \n",
      "              0               0               0               0               0 \n",
      "       Homepage            Size           Stars           Forks          Issues \n",
      "              0               0               0               0               0 \n",
      "       Watchers        Language         License          Topics      Has.Issues \n",
      "              0               0               0               0               0 \n",
      "   Has.Projects   Has.Downloads        Has.Wiki       Has.Pages Has.Discussions \n",
      "              0               0               0               0               0 \n",
      "        Is.Fork     Is.Archived     Is.Template  Default.Branch \n",
      "              0               0               0               0 \n"
     ]
    }
   ],
   "source": [
    "na_counts <- colSums(is.na(data)) # check for NA values\n",
    "print(na_counts)"
   ]
  },
  {
   "cell_type": "markdown",
   "id": "f633a985-05f4-4d75-9b66-1b4d663ac3c5",
   "metadata": {},
   "source": [
    "At this point, we can already recognize some columns that will either be out of the scope of this course's analysis or likely be noise in our models:\n",
    "\n",
    "- `Name`: likely noise, too difficult to Bag of Words encode\n",
    "- `Description`: likely noise, too difficult to Bag of Words encode\n",
    "- `URL`: likely noise, could turn into binary (Yes/No URL)\n",
    "- `Created.At`/`Updated.At`: could encode date, however that would be difficult given the scope what we have learned in this course\n",
    "- `Homepage`: likely noise, could turn into binary (Yes/No URL)\n",
    "- `Language`: could be meaningful but we would probably want to impute NA values\n",
    "- `License`: again, could be meaningful but we would probably want to impute NA values\n",
    "- `Topics`: formatted in a way where we can't handle the data (List of topics (str)), so for now we can remove it and hopefully we can deal with it later"
   ]
  },
  {
   "cell_type": "markdown",
   "id": "3dee754a-2188-47f0-80e3-ea3cc000468e",
   "metadata": {},
   "source": [
    "For the `Default.Branch` column, most of its data is either main and master. Therefore, we will filter out the rest."
   ]
  },
  {
   "cell_type": "code",
   "execution_count": 202,
   "id": "acf485aa-9130-4802-9f64-e11b0d25640a",
   "metadata": {
    "tags": []
   },
   "outputs": [],
   "source": [
    "# filter default branch to contain only main and master\n",
    "data <- data %>%\n",
    "    filter(Default.Branch == \"main\" | Default.Branch == \"master\")"
   ]
  },
  {
   "cell_type": "code",
   "execution_count": 203,
   "id": "fb761f4a-af55-4f9c-953f-0ee9248a69fa",
   "metadata": {
    "tags": []
   },
   "outputs": [
    {
     "data": {
      "text/html": [
       "<table class=\"dataframe\">\n",
       "<caption>A data.frame: 6 × 15</caption>\n",
       "<thead>\n",
       "\t<tr><th></th><th scope=col>Size</th><th scope=col>Stars</th><th scope=col>Forks</th><th scope=col>Issues</th><th scope=col>Watchers</th><th scope=col>Has.Issues</th><th scope=col>Has.Projects</th><th scope=col>Has.Downloads</th><th scope=col>Has.Wiki</th><th scope=col>Has.Pages</th><th scope=col>Has.Discussions</th><th scope=col>Is.Fork</th><th scope=col>Is.Archived</th><th scope=col>Is.Template</th><th scope=col>Default.Branch</th></tr>\n",
       "\t<tr><th></th><th scope=col>&lt;int&gt;</th><th scope=col>&lt;int&gt;</th><th scope=col>&lt;int&gt;</th><th scope=col>&lt;int&gt;</th><th scope=col>&lt;int&gt;</th><th scope=col>&lt;chr&gt;</th><th scope=col>&lt;chr&gt;</th><th scope=col>&lt;chr&gt;</th><th scope=col>&lt;chr&gt;</th><th scope=col>&lt;chr&gt;</th><th scope=col>&lt;chr&gt;</th><th scope=col>&lt;chr&gt;</th><th scope=col>&lt;chr&gt;</th><th scope=col>&lt;chr&gt;</th><th scope=col>&lt;chr&gt;</th></tr>\n",
       "</thead>\n",
       "<tbody>\n",
       "\t<tr><th scope=row>1</th><td>387451</td><td>374074</td><td>33599</td><td>  248</td><td>374074</td><td>True </td><td>True </td><td>True</td><td>False</td><td>True </td><td>False</td><td>False</td><td>False</td><td>False</td><td>main  </td></tr>\n",
       "\t<tr><th scope=row>2</th><td> 17087</td><td>298393</td><td>57194</td><td>   46</td><td>298393</td><td>True </td><td>False</td><td>True</td><td>False</td><td>True </td><td>False</td><td>False</td><td>False</td><td>False</td><td>main  </td></tr>\n",
       "\t<tr><th scope=row>3</th><td>  1441</td><td>269997</td><td>26485</td><td>   61</td><td>269997</td><td>True </td><td>False</td><td>True</td><td>False</td><td>True </td><td>False</td><td>False</td><td>False</td><td>False</td><td>main  </td></tr>\n",
       "\t<tr><th scope=row>4</th><td>187799</td><td>267901</td><td>21497</td><td>16712</td><td>267901</td><td>False</td><td>False</td><td>True</td><td>False</td><td>False</td><td>False</td><td>False</td><td>True </td><td>False</td><td>master</td></tr>\n",
       "\t<tr><th scope=row>5</th><td> 20998</td><td>265161</td><td>69434</td><td>   56</td><td>265161</td><td>True </td><td>False</td><td>True</td><td>False</td><td>False</td><td>False</td><td>False</td><td>False</td><td>False</td><td>main  </td></tr>\n",
       "\t<tr><th scope=row>6</th><td>  5088</td><td>256615</td><td>29254</td><td>  191</td><td>256615</td><td>True </td><td>False</td><td>True</td><td>False</td><td>False</td><td>False</td><td>False</td><td>False</td><td>False</td><td>master</td></tr>\n",
       "</tbody>\n",
       "</table>\n"
      ],
      "text/latex": [
       "A data.frame: 6 × 15\n",
       "\\begin{tabular}{r|lllllllllllllll}\n",
       "  & Size & Stars & Forks & Issues & Watchers & Has.Issues & Has.Projects & Has.Downloads & Has.Wiki & Has.Pages & Has.Discussions & Is.Fork & Is.Archived & Is.Template & Default.Branch\\\\\n",
       "  & <int> & <int> & <int> & <int> & <int> & <chr> & <chr> & <chr> & <chr> & <chr> & <chr> & <chr> & <chr> & <chr> & <chr>\\\\\n",
       "\\hline\n",
       "\t1 & 387451 & 374074 & 33599 &   248 & 374074 & True  & True  & True & False & True  & False & False & False & False & main  \\\\\n",
       "\t2 &  17087 & 298393 & 57194 &    46 & 298393 & True  & False & True & False & True  & False & False & False & False & main  \\\\\n",
       "\t3 &   1441 & 269997 & 26485 &    61 & 269997 & True  & False & True & False & True  & False & False & False & False & main  \\\\\n",
       "\t4 & 187799 & 267901 & 21497 & 16712 & 267901 & False & False & True & False & False & False & False & True  & False & master\\\\\n",
       "\t5 &  20998 & 265161 & 69434 &    56 & 265161 & True  & False & True & False & False & False & False & False & False & main  \\\\\n",
       "\t6 &   5088 & 256615 & 29254 &   191 & 256615 & True  & False & True & False & False & False & False & False & False & master\\\\\n",
       "\\end{tabular}\n"
      ],
      "text/markdown": [
       "\n",
       "A data.frame: 6 × 15\n",
       "\n",
       "| <!--/--> | Size &lt;int&gt; | Stars &lt;int&gt; | Forks &lt;int&gt; | Issues &lt;int&gt; | Watchers &lt;int&gt; | Has.Issues &lt;chr&gt; | Has.Projects &lt;chr&gt; | Has.Downloads &lt;chr&gt; | Has.Wiki &lt;chr&gt; | Has.Pages &lt;chr&gt; | Has.Discussions &lt;chr&gt; | Is.Fork &lt;chr&gt; | Is.Archived &lt;chr&gt; | Is.Template &lt;chr&gt; | Default.Branch &lt;chr&gt; |\n",
       "|---|---|---|---|---|---|---|---|---|---|---|---|---|---|---|---|\n",
       "| 1 | 387451 | 374074 | 33599 |   248 | 374074 | True  | True  | True | False | True  | False | False | False | False | main   |\n",
       "| 2 |  17087 | 298393 | 57194 |    46 | 298393 | True  | False | True | False | True  | False | False | False | False | main   |\n",
       "| 3 |   1441 | 269997 | 26485 |    61 | 269997 | True  | False | True | False | True  | False | False | False | False | main   |\n",
       "| 4 | 187799 | 267901 | 21497 | 16712 | 267901 | False | False | True | False | False | False | False | True  | False | master |\n",
       "| 5 |  20998 | 265161 | 69434 |    56 | 265161 | True  | False | True | False | False | False | False | False | False | main   |\n",
       "| 6 |   5088 | 256615 | 29254 |   191 | 256615 | True  | False | True | False | False | False | False | False | False | master |\n",
       "\n"
      ],
      "text/plain": [
       "  Size   Stars  Forks Issues Watchers Has.Issues Has.Projects Has.Downloads\n",
       "1 387451 374074 33599   248  374074   True       True         True         \n",
       "2  17087 298393 57194    46  298393   True       False        True         \n",
       "3   1441 269997 26485    61  269997   True       False        True         \n",
       "4 187799 267901 21497 16712  267901   False      False        True         \n",
       "5  20998 265161 69434    56  265161   True       False        True         \n",
       "6   5088 256615 29254   191  256615   True       False        True         \n",
       "  Has.Wiki Has.Pages Has.Discussions Is.Fork Is.Archived Is.Template\n",
       "1 False    True      False           False   False       False      \n",
       "2 False    True      False           False   False       False      \n",
       "3 False    True      False           False   False       False      \n",
       "4 False    False     False           False   True        False      \n",
       "5 False    False     False           False   False       False      \n",
       "6 False    False     False           False   False       False      \n",
       "  Default.Branch\n",
       "1 main          \n",
       "2 main          \n",
       "3 main          \n",
       "4 master        \n",
       "5 main          \n",
       "6 master        "
      ]
     },
     "metadata": {},
     "output_type": "display_data"
    }
   ],
   "source": [
    "# Columns to drop\n",
    "columns_to_drop <- c(\"Name\", \"Description\", \"URL\", \"Created.At\", \"Updated.At\", \"Homepage\", \"Language\", \"License\", 'Topics')\n",
    "\n",
    "# Create a new data frame excluding the specified columns\n",
    "dropped_data <- data[, !(names(data) %in% columns_to_drop)]\n",
    "head(dropped_data)"
   ]
  },
  {
   "cell_type": "code",
   "execution_count": 204,
   "id": "5872d27c-c8fe-44f5-a10b-c980068a5a8f",
   "metadata": {
    "tags": []
   },
   "outputs": [],
   "source": [
    "#features_to_scale <- c(\"Size\", \"Forks\", \"Issues\", \"Watchers\")\n",
    "\n",
    "#dropped_data[features_to_scale] <- as.data.frame(scale(dropped_data[features_to_scale]))"
   ]
  },
  {
   "cell_type": "code",
   "execution_count": 205,
   "id": "212a9deb-818d-4129-ac6c-373f62dcee50",
   "metadata": {
    "tags": []
   },
   "outputs": [
    {
     "data": {
      "text/html": [
       "<table class=\"dataframe\">\n",
       "<caption>A data.frame: 6 × 15</caption>\n",
       "<thead>\n",
       "\t<tr><th></th><th scope=col>Size</th><th scope=col>Stars</th><th scope=col>Forks</th><th scope=col>Issues</th><th scope=col>Watchers</th><th scope=col>Has.Issues</th><th scope=col>Has.Projects</th><th scope=col>Has.Downloads</th><th scope=col>Has.Wiki</th><th scope=col>Has.Pages</th><th scope=col>Has.Discussions</th><th scope=col>Is.Fork</th><th scope=col>Is.Archived</th><th scope=col>Is.Template</th><th scope=col>Default.Branch</th></tr>\n",
       "\t<tr><th></th><th scope=col>&lt;int&gt;</th><th scope=col>&lt;int&gt;</th><th scope=col>&lt;int&gt;</th><th scope=col>&lt;int&gt;</th><th scope=col>&lt;int&gt;</th><th scope=col>&lt;chr&gt;</th><th scope=col>&lt;chr&gt;</th><th scope=col>&lt;chr&gt;</th><th scope=col>&lt;chr&gt;</th><th scope=col>&lt;chr&gt;</th><th scope=col>&lt;chr&gt;</th><th scope=col>&lt;chr&gt;</th><th scope=col>&lt;chr&gt;</th><th scope=col>&lt;chr&gt;</th><th scope=col>&lt;chr&gt;</th></tr>\n",
       "</thead>\n",
       "<tbody>\n",
       "\t<tr><th scope=row>1</th><td>387451</td><td>374074</td><td>33599</td><td>  248</td><td>374074</td><td>True </td><td>True </td><td>True</td><td>False</td><td>True </td><td>False</td><td>False</td><td>False</td><td>False</td><td>main  </td></tr>\n",
       "\t<tr><th scope=row>2</th><td> 17087</td><td>298393</td><td>57194</td><td>   46</td><td>298393</td><td>True </td><td>False</td><td>True</td><td>False</td><td>True </td><td>False</td><td>False</td><td>False</td><td>False</td><td>main  </td></tr>\n",
       "\t<tr><th scope=row>3</th><td>  1441</td><td>269997</td><td>26485</td><td>   61</td><td>269997</td><td>True </td><td>False</td><td>True</td><td>False</td><td>True </td><td>False</td><td>False</td><td>False</td><td>False</td><td>main  </td></tr>\n",
       "\t<tr><th scope=row>4</th><td>187799</td><td>267901</td><td>21497</td><td>16712</td><td>267901</td><td>False</td><td>False</td><td>True</td><td>False</td><td>False</td><td>False</td><td>False</td><td>True </td><td>False</td><td>master</td></tr>\n",
       "\t<tr><th scope=row>5</th><td> 20998</td><td>265161</td><td>69434</td><td>   56</td><td>265161</td><td>True </td><td>False</td><td>True</td><td>False</td><td>False</td><td>False</td><td>False</td><td>False</td><td>False</td><td>main  </td></tr>\n",
       "\t<tr><th scope=row>6</th><td>  5088</td><td>256615</td><td>29254</td><td>  191</td><td>256615</td><td>True </td><td>False</td><td>True</td><td>False</td><td>False</td><td>False</td><td>False</td><td>False</td><td>False</td><td>master</td></tr>\n",
       "</tbody>\n",
       "</table>\n"
      ],
      "text/latex": [
       "A data.frame: 6 × 15\n",
       "\\begin{tabular}{r|lllllllllllllll}\n",
       "  & Size & Stars & Forks & Issues & Watchers & Has.Issues & Has.Projects & Has.Downloads & Has.Wiki & Has.Pages & Has.Discussions & Is.Fork & Is.Archived & Is.Template & Default.Branch\\\\\n",
       "  & <int> & <int> & <int> & <int> & <int> & <chr> & <chr> & <chr> & <chr> & <chr> & <chr> & <chr> & <chr> & <chr> & <chr>\\\\\n",
       "\\hline\n",
       "\t1 & 387451 & 374074 & 33599 &   248 & 374074 & True  & True  & True & False & True  & False & False & False & False & main  \\\\\n",
       "\t2 &  17087 & 298393 & 57194 &    46 & 298393 & True  & False & True & False & True  & False & False & False & False & main  \\\\\n",
       "\t3 &   1441 & 269997 & 26485 &    61 & 269997 & True  & False & True & False & True  & False & False & False & False & main  \\\\\n",
       "\t4 & 187799 & 267901 & 21497 & 16712 & 267901 & False & False & True & False & False & False & False & True  & False & master\\\\\n",
       "\t5 &  20998 & 265161 & 69434 &    56 & 265161 & True  & False & True & False & False & False & False & False & False & main  \\\\\n",
       "\t6 &   5088 & 256615 & 29254 &   191 & 256615 & True  & False & True & False & False & False & False & False & False & master\\\\\n",
       "\\end{tabular}\n"
      ],
      "text/markdown": [
       "\n",
       "A data.frame: 6 × 15\n",
       "\n",
       "| <!--/--> | Size &lt;int&gt; | Stars &lt;int&gt; | Forks &lt;int&gt; | Issues &lt;int&gt; | Watchers &lt;int&gt; | Has.Issues &lt;chr&gt; | Has.Projects &lt;chr&gt; | Has.Downloads &lt;chr&gt; | Has.Wiki &lt;chr&gt; | Has.Pages &lt;chr&gt; | Has.Discussions &lt;chr&gt; | Is.Fork &lt;chr&gt; | Is.Archived &lt;chr&gt; | Is.Template &lt;chr&gt; | Default.Branch &lt;chr&gt; |\n",
       "|---|---|---|---|---|---|---|---|---|---|---|---|---|---|---|---|\n",
       "| 1 | 387451 | 374074 | 33599 |   248 | 374074 | True  | True  | True | False | True  | False | False | False | False | main   |\n",
       "| 2 |  17087 | 298393 | 57194 |    46 | 298393 | True  | False | True | False | True  | False | False | False | False | main   |\n",
       "| 3 |   1441 | 269997 | 26485 |    61 | 269997 | True  | False | True | False | True  | False | False | False | False | main   |\n",
       "| 4 | 187799 | 267901 | 21497 | 16712 | 267901 | False | False | True | False | False | False | False | True  | False | master |\n",
       "| 5 |  20998 | 265161 | 69434 |    56 | 265161 | True  | False | True | False | False | False | False | False | False | main   |\n",
       "| 6 |   5088 | 256615 | 29254 |   191 | 256615 | True  | False | True | False | False | False | False | False | False | master |\n",
       "\n"
      ],
      "text/plain": [
       "  Size   Stars  Forks Issues Watchers Has.Issues Has.Projects Has.Downloads\n",
       "1 387451 374074 33599   248  374074   True       True         True         \n",
       "2  17087 298393 57194    46  298393   True       False        True         \n",
       "3   1441 269997 26485    61  269997   True       False        True         \n",
       "4 187799 267901 21497 16712  267901   False      False        True         \n",
       "5  20998 265161 69434    56  265161   True       False        True         \n",
       "6   5088 256615 29254   191  256615   True       False        True         \n",
       "  Has.Wiki Has.Pages Has.Discussions Is.Fork Is.Archived Is.Template\n",
       "1 False    True      False           False   False       False      \n",
       "2 False    True      False           False   False       False      \n",
       "3 False    True      False           False   False       False      \n",
       "4 False    False     False           False   True        False      \n",
       "5 False    False     False           False   False       False      \n",
       "6 False    False     False           False   False       False      \n",
       "  Default.Branch\n",
       "1 main          \n",
       "2 main          \n",
       "3 main          \n",
       "4 master        \n",
       "5 main          \n",
       "6 master        "
      ]
     },
     "metadata": {},
     "output_type": "display_data"
    }
   ],
   "source": [
    "processed_data <-  dropped_data\n",
    "head(processed_data)"
   ]
  },
  {
   "cell_type": "markdown",
   "id": "96f901dd-dbfb-43bd-b7ef-c9c6332e6577",
   "metadata": {},
   "source": [
    "We can calculate our sample size as follows:\n",
    "\n",
    "$$n = \\frac{Z^2 * p * (1-p)}{E^2}$$\n",
    "\n",
    "Where:\n",
    "\n",
    "- $n$ = required sample size\n",
    "- $Z$ = $Z$-score corresponding to the desired confidence level (1.96 for 95% confidence level)\n",
    "- $p$ = estimated proportion of the population (0.5 to account for maximum variability)\n",
    "- $E$ = desired margin of error (0.05)"
   ]
  },
  {
   "cell_type": "code",
   "execution_count": 206,
   "id": "5f55d14f-af92-477c-be38-e774ed3bbdec",
   "metadata": {
    "tags": []
   },
   "outputs": [
    {
     "name": "stdout",
     "output_type": "stream",
     "text": [
      "[1] 384.16\n"
     ]
    }
   ],
   "source": [
    "# performing the above calculation\n",
    "n <- (1.96**2 * 0.5 * (1-0.5))/0.05**2\n",
    "print(n)"
   ]
  },
  {
   "cell_type": "markdown",
   "id": "a42c7a9b-4e97-4010-926e-2b76def3754a",
   "metadata": {
    "tags": []
   },
   "source": [
    "### Conditional Distribution of `Stars` ###"
   ]
  },
  {
   "cell_type": "code",
   "execution_count": 207,
   "id": "6331797b-0311-4329-8264-138ba59adca9",
   "metadata": {
    "tags": []
   },
   "outputs": [
    {
     "data": {
      "text/html": [
       "<table class=\"dataframe\">\n",
       "<caption>A data.frame: 1 × 5</caption>\n",
       "<thead>\n",
       "\t<tr><th scope=col>Min</th><th scope=col>1st Quartile</th><th scope=col>2nd Quartile</th><th scope=col>3rd Quartile</th><th scope=col>Max</th></tr>\n",
       "\t<tr><th scope=col>&lt;int&gt;</th><th scope=col>&lt;dbl&gt;</th><th scope=col>&lt;dbl&gt;</th><th scope=col>&lt;dbl&gt;</th><th scope=col>&lt;int&gt;</th></tr>\n",
       "</thead>\n",
       "<tbody>\n",
       "\t<tr><td>167</td><td>236</td><td>373</td><td>784</td><td>374074</td></tr>\n",
       "</tbody>\n",
       "</table>\n"
      ],
      "text/latex": [
       "A data.frame: 1 × 5\n",
       "\\begin{tabular}{lllll}\n",
       " Min & 1st Quartile & 2nd Quartile & 3rd Quartile & Max\\\\\n",
       " <int> & <dbl> & <dbl> & <dbl> & <int>\\\\\n",
       "\\hline\n",
       "\t 167 & 236 & 373 & 784 & 374074\\\\\n",
       "\\end{tabular}\n"
      ],
      "text/markdown": [
       "\n",
       "A data.frame: 1 × 5\n",
       "\n",
       "| Min &lt;int&gt; | 1st Quartile &lt;dbl&gt; | 2nd Quartile &lt;dbl&gt; | 3rd Quartile &lt;dbl&gt; | Max &lt;int&gt; |\n",
       "|---|---|---|---|---|\n",
       "| 167 | 236 | 373 | 784 | 374074 |\n",
       "\n"
      ],
      "text/plain": [
       "  Min 1st Quartile 2nd Quartile 3rd Quartile Max   \n",
       "1 167 236          373          784          374074"
      ]
     },
     "metadata": {},
     "output_type": "display_data"
    }
   ],
   "source": [
    "cond_dist <- data |>\n",
    "    summarize(\n",
    "        \"Min\" = min(Stars),\n",
    "        \"1st Quartile\" = quantile(Stars, 0.25),\n",
    "        \"2nd Quartile\" = quantile(Stars, 0.5),\n",
    "        \"3rd Quartile\" = quantile(Stars, 0.75),\n",
    "        \"Max\" = max(Stars)\n",
    "    )\n",
    "\n",
    "cond_dist"
   ]
  },
  {
   "cell_type": "markdown",
   "id": "7348588d-4855-414d-b3ed-6f11cf216059",
   "metadata": {},
   "source": [
    "Conditional distribution of the `Stars` variable of the 384 repositories. The top repository by `Stars` count being named _freeCodeCamp_ has 374074 `Stars`. The lowest repository by `Stars` in the sample has 167 `Stars`. The median of `Stars` is 373."
   ]
  },
  {
   "cell_type": "code",
   "execution_count": 208,
   "id": "0fe1b957-4914-464f-b54e-88994993ad22",
   "metadata": {
    "tags": []
   },
   "outputs": [
    {
     "data": {
      "text/html": [
       "<table class=\"dataframe\">\n",
       "<caption>A data.frame: 6 × 15</caption>\n",
       "<thead>\n",
       "\t<tr><th></th><th scope=col>Size</th><th scope=col>Stars</th><th scope=col>Forks</th><th scope=col>Issues</th><th scope=col>Watchers</th><th scope=col>Has.Issues</th><th scope=col>Has.Projects</th><th scope=col>Has.Downloads</th><th scope=col>Has.Wiki</th><th scope=col>Has.Pages</th><th scope=col>Has.Discussions</th><th scope=col>Is.Fork</th><th scope=col>Is.Archived</th><th scope=col>Is.Template</th><th scope=col>Default.Branch</th></tr>\n",
       "\t<tr><th></th><th scope=col>&lt;int&gt;</th><th scope=col>&lt;int&gt;</th><th scope=col>&lt;int&gt;</th><th scope=col>&lt;int&gt;</th><th scope=col>&lt;int&gt;</th><th scope=col>&lt;chr&gt;</th><th scope=col>&lt;chr&gt;</th><th scope=col>&lt;chr&gt;</th><th scope=col>&lt;chr&gt;</th><th scope=col>&lt;chr&gt;</th><th scope=col>&lt;chr&gt;</th><th scope=col>&lt;chr&gt;</th><th scope=col>&lt;chr&gt;</th><th scope=col>&lt;chr&gt;</th><th scope=col>&lt;chr&gt;</th></tr>\n",
       "</thead>\n",
       "<tbody>\n",
       "\t<tr><th scope=row>1</th><td>69132</td><td> 447</td><td> 69</td><td> 2</td><td> 447</td><td>True </td><td>True </td><td>True</td><td>False</td><td>False</td><td>False</td><td>False</td><td>False</td><td>False</td><td>main  </td></tr>\n",
       "\t<tr><th scope=row>2</th><td>57956</td><td> 874</td><td>116</td><td>28</td><td> 874</td><td>True </td><td>True </td><td>True</td><td>False</td><td>False</td><td>True </td><td>False</td><td>False</td><td>False</td><td>main  </td></tr>\n",
       "\t<tr><th scope=row>3</th><td>  799</td><td> 198</td><td>111</td><td>14</td><td> 198</td><td>True </td><td>True </td><td>True</td><td>True </td><td>False</td><td>False</td><td>False</td><td>False</td><td>False</td><td>master</td></tr>\n",
       "\t<tr><th scope=row>4</th><td>  128</td><td>2005</td><td>126</td><td> 0</td><td>2005</td><td>False</td><td>False</td><td>True</td><td>False</td><td>False</td><td>False</td><td>False</td><td>True </td><td>False</td><td>master</td></tr>\n",
       "\t<tr><th scope=row>5</th><td> 7202</td><td>4538</td><td>115</td><td>31</td><td>4538</td><td>True </td><td>True </td><td>True</td><td>False</td><td>False</td><td>True </td><td>False</td><td>False</td><td>False</td><td>master</td></tr>\n",
       "\t<tr><th scope=row>6</th><td>   31</td><td> 289</td><td> 29</td><td> 7</td><td> 289</td><td>True </td><td>True </td><td>True</td><td>True </td><td>False</td><td>False</td><td>False</td><td>False</td><td>False</td><td>master</td></tr>\n",
       "</tbody>\n",
       "</table>\n"
      ],
      "text/latex": [
       "A data.frame: 6 × 15\n",
       "\\begin{tabular}{r|lllllllllllllll}\n",
       "  & Size & Stars & Forks & Issues & Watchers & Has.Issues & Has.Projects & Has.Downloads & Has.Wiki & Has.Pages & Has.Discussions & Is.Fork & Is.Archived & Is.Template & Default.Branch\\\\\n",
       "  & <int> & <int> & <int> & <int> & <int> & <chr> & <chr> & <chr> & <chr> & <chr> & <chr> & <chr> & <chr> & <chr> & <chr>\\\\\n",
       "\\hline\n",
       "\t1 & 69132 &  447 &  69 &  2 &  447 & True  & True  & True & False & False & False & False & False & False & main  \\\\\n",
       "\t2 & 57956 &  874 & 116 & 28 &  874 & True  & True  & True & False & False & True  & False & False & False & main  \\\\\n",
       "\t3 &   799 &  198 & 111 & 14 &  198 & True  & True  & True & True  & False & False & False & False & False & master\\\\\n",
       "\t4 &   128 & 2005 & 126 &  0 & 2005 & False & False & True & False & False & False & False & True  & False & master\\\\\n",
       "\t5 &  7202 & 4538 & 115 & 31 & 4538 & True  & True  & True & False & False & True  & False & False & False & master\\\\\n",
       "\t6 &    31 &  289 &  29 &  7 &  289 & True  & True  & True & True  & False & False & False & False & False & master\\\\\n",
       "\\end{tabular}\n"
      ],
      "text/markdown": [
       "\n",
       "A data.frame: 6 × 15\n",
       "\n",
       "| <!--/--> | Size &lt;int&gt; | Stars &lt;int&gt; | Forks &lt;int&gt; | Issues &lt;int&gt; | Watchers &lt;int&gt; | Has.Issues &lt;chr&gt; | Has.Projects &lt;chr&gt; | Has.Downloads &lt;chr&gt; | Has.Wiki &lt;chr&gt; | Has.Pages &lt;chr&gt; | Has.Discussions &lt;chr&gt; | Is.Fork &lt;chr&gt; | Is.Archived &lt;chr&gt; | Is.Template &lt;chr&gt; | Default.Branch &lt;chr&gt; |\n",
       "|---|---|---|---|---|---|---|---|---|---|---|---|---|---|---|---|\n",
       "| 1 | 69132 |  447 |  69 |  2 |  447 | True  | True  | True | False | False | False | False | False | False | main   |\n",
       "| 2 | 57956 |  874 | 116 | 28 |  874 | True  | True  | True | False | False | True  | False | False | False | main   |\n",
       "| 3 |   799 |  198 | 111 | 14 |  198 | True  | True  | True | True  | False | False | False | False | False | master |\n",
       "| 4 |   128 | 2005 | 126 |  0 | 2005 | False | False | True | False | False | False | False | True  | False | master |\n",
       "| 5 |  7202 | 4538 | 115 | 31 | 4538 | True  | True  | True | False | False | True  | False | False | False | master |\n",
       "| 6 |    31 |  289 |  29 |  7 |  289 | True  | True  | True | True  | False | False | False | False | False | master |\n",
       "\n"
      ],
      "text/plain": [
       "  Size  Stars Forks Issues Watchers Has.Issues Has.Projects Has.Downloads\n",
       "1 69132  447   69    2      447     True       True         True         \n",
       "2 57956  874  116   28      874     True       True         True         \n",
       "3   799  198  111   14      198     True       True         True         \n",
       "4   128 2005  126    0     2005     False      False        True         \n",
       "5  7202 4538  115   31     4538     True       True         True         \n",
       "6    31  289   29    7      289     True       True         True         \n",
       "  Has.Wiki Has.Pages Has.Discussions Is.Fork Is.Archived Is.Template\n",
       "1 False    False     False           False   False       False      \n",
       "2 False    False     True            False   False       False      \n",
       "3 True     False     False           False   False       False      \n",
       "4 False    False     False           False   True        False      \n",
       "5 False    False     True            False   False       False      \n",
       "6 True     False     False           False   False       False      \n",
       "  Default.Branch\n",
       "1 main          \n",
       "2 main          \n",
       "3 master        \n",
       "4 master        \n",
       "5 master        \n",
       "6 master        "
      ]
     },
     "metadata": {},
     "output_type": "display_data"
    }
   ],
   "source": [
    "set.seed(2024)\n",
    "\n",
    "# running a sampling of the data using the above size\n",
    "sample_data <- processed_data %>%\n",
    "  sample_n(size = n, replace = FALSE)\n",
    "head(sample_data)"
   ]
  },
  {
   "cell_type": "code",
   "execution_count": 209,
   "id": "a6bdb6f5-d59a-4e4b-9529-186a67c67f61",
   "metadata": {
    "tags": []
   },
   "outputs": [
    {
     "data": {
      "text/html": [
       "<table class=\"dataframe\">\n",
       "<caption>A data.frame: 6 × 15</caption>\n",
       "<thead>\n",
       "\t<tr><th></th><th scope=col>Size</th><th scope=col>Stars</th><th scope=col>Forks</th><th scope=col>Issues</th><th scope=col>Watchers</th><th scope=col>Has.Issues</th><th scope=col>Has.Projects</th><th scope=col>Has.Downloads</th><th scope=col>Has.Wiki</th><th scope=col>Has.Pages</th><th scope=col>Has.Discussions</th><th scope=col>Is.Fork</th><th scope=col>Is.Archived</th><th scope=col>Is.Template</th><th scope=col>Default.Branch</th></tr>\n",
       "\t<tr><th></th><th scope=col>&lt;int&gt;</th><th scope=col>&lt;int&gt;</th><th scope=col>&lt;int&gt;</th><th scope=col>&lt;int&gt;</th><th scope=col>&lt;int&gt;</th><th scope=col>&lt;fct&gt;</th><th scope=col>&lt;fct&gt;</th><th scope=col>&lt;fct&gt;</th><th scope=col>&lt;fct&gt;</th><th scope=col>&lt;fct&gt;</th><th scope=col>&lt;fct&gt;</th><th scope=col>&lt;fct&gt;</th><th scope=col>&lt;fct&gt;</th><th scope=col>&lt;fct&gt;</th><th scope=col>&lt;fct&gt;</th></tr>\n",
       "</thead>\n",
       "<tbody>\n",
       "\t<tr><th scope=row>1</th><td>69132</td><td> 447</td><td> 69</td><td> 2</td><td> 447</td><td>True </td><td>True </td><td>True</td><td>False</td><td>False</td><td>False</td><td>False</td><td>False</td><td>False</td><td>main  </td></tr>\n",
       "\t<tr><th scope=row>2</th><td>57956</td><td> 874</td><td>116</td><td>28</td><td> 874</td><td>True </td><td>True </td><td>True</td><td>False</td><td>False</td><td>True </td><td>False</td><td>False</td><td>False</td><td>main  </td></tr>\n",
       "\t<tr><th scope=row>3</th><td>  799</td><td> 198</td><td>111</td><td>14</td><td> 198</td><td>True </td><td>True </td><td>True</td><td>True </td><td>False</td><td>False</td><td>False</td><td>False</td><td>False</td><td>master</td></tr>\n",
       "\t<tr><th scope=row>4</th><td>  128</td><td>2005</td><td>126</td><td> 0</td><td>2005</td><td>False</td><td>False</td><td>True</td><td>False</td><td>False</td><td>False</td><td>False</td><td>True </td><td>False</td><td>master</td></tr>\n",
       "\t<tr><th scope=row>5</th><td> 7202</td><td>4538</td><td>115</td><td>31</td><td>4538</td><td>True </td><td>True </td><td>True</td><td>False</td><td>False</td><td>True </td><td>False</td><td>False</td><td>False</td><td>master</td></tr>\n",
       "\t<tr><th scope=row>6</th><td>   31</td><td> 289</td><td> 29</td><td> 7</td><td> 289</td><td>True </td><td>True </td><td>True</td><td>True </td><td>False</td><td>False</td><td>False</td><td>False</td><td>False</td><td>master</td></tr>\n",
       "</tbody>\n",
       "</table>\n"
      ],
      "text/latex": [
       "A data.frame: 6 × 15\n",
       "\\begin{tabular}{r|lllllllllllllll}\n",
       "  & Size & Stars & Forks & Issues & Watchers & Has.Issues & Has.Projects & Has.Downloads & Has.Wiki & Has.Pages & Has.Discussions & Is.Fork & Is.Archived & Is.Template & Default.Branch\\\\\n",
       "  & <int> & <int> & <int> & <int> & <int> & <fct> & <fct> & <fct> & <fct> & <fct> & <fct> & <fct> & <fct> & <fct> & <fct>\\\\\n",
       "\\hline\n",
       "\t1 & 69132 &  447 &  69 &  2 &  447 & True  & True  & True & False & False & False & False & False & False & main  \\\\\n",
       "\t2 & 57956 &  874 & 116 & 28 &  874 & True  & True  & True & False & False & True  & False & False & False & main  \\\\\n",
       "\t3 &   799 &  198 & 111 & 14 &  198 & True  & True  & True & True  & False & False & False & False & False & master\\\\\n",
       "\t4 &   128 & 2005 & 126 &  0 & 2005 & False & False & True & False & False & False & False & True  & False & master\\\\\n",
       "\t5 &  7202 & 4538 & 115 & 31 & 4538 & True  & True  & True & False & False & True  & False & False & False & master\\\\\n",
       "\t6 &    31 &  289 &  29 &  7 &  289 & True  & True  & True & True  & False & False & False & False & False & master\\\\\n",
       "\\end{tabular}\n"
      ],
      "text/markdown": [
       "\n",
       "A data.frame: 6 × 15\n",
       "\n",
       "| <!--/--> | Size &lt;int&gt; | Stars &lt;int&gt; | Forks &lt;int&gt; | Issues &lt;int&gt; | Watchers &lt;int&gt; | Has.Issues &lt;fct&gt; | Has.Projects &lt;fct&gt; | Has.Downloads &lt;fct&gt; | Has.Wiki &lt;fct&gt; | Has.Pages &lt;fct&gt; | Has.Discussions &lt;fct&gt; | Is.Fork &lt;fct&gt; | Is.Archived &lt;fct&gt; | Is.Template &lt;fct&gt; | Default.Branch &lt;fct&gt; |\n",
       "|---|---|---|---|---|---|---|---|---|---|---|---|---|---|---|---|\n",
       "| 1 | 69132 |  447 |  69 |  2 |  447 | True  | True  | True | False | False | False | False | False | False | main   |\n",
       "| 2 | 57956 |  874 | 116 | 28 |  874 | True  | True  | True | False | False | True  | False | False | False | main   |\n",
       "| 3 |   799 |  198 | 111 | 14 |  198 | True  | True  | True | True  | False | False | False | False | False | master |\n",
       "| 4 |   128 | 2005 | 126 |  0 | 2005 | False | False | True | False | False | False | False | True  | False | master |\n",
       "| 5 |  7202 | 4538 | 115 | 31 | 4538 | True  | True  | True | False | False | True  | False | False | False | master |\n",
       "| 6 |    31 |  289 |  29 |  7 |  289 | True  | True  | True | True  | False | False | False | False | False | master |\n",
       "\n"
      ],
      "text/plain": [
       "  Size  Stars Forks Issues Watchers Has.Issues Has.Projects Has.Downloads\n",
       "1 69132  447   69    2      447     True       True         True         \n",
       "2 57956  874  116   28      874     True       True         True         \n",
       "3   799  198  111   14      198     True       True         True         \n",
       "4   128 2005  126    0     2005     False      False        True         \n",
       "5  7202 4538  115   31     4538     True       True         True         \n",
       "6    31  289   29    7      289     True       True         True         \n",
       "  Has.Wiki Has.Pages Has.Discussions Is.Fork Is.Archived Is.Template\n",
       "1 False    False     False           False   False       False      \n",
       "2 False    False     True            False   False       False      \n",
       "3 True     False     False           False   False       False      \n",
       "4 False    False     False           False   True        False      \n",
       "5 False    False     True            False   False       False      \n",
       "6 True     False     False           False   False       False      \n",
       "  Default.Branch\n",
       "1 main          \n",
       "2 main          \n",
       "3 master        \n",
       "4 master        \n",
       "5 master        \n",
       "6 master        "
      ]
     },
     "metadata": {},
     "output_type": "display_data"
    }
   ],
   "source": [
    "names <- c('Has.Issues', 'Has.Projects', 'Has.Downloads', 'Has.Wiki', 'Has.Pages', 'Has.Discussions', 'Is.Fork', 'Is.Archived', 'Is.Template', 'Default.Branch')\n",
    "sample_data_factored <- sample_data %>%\n",
    "  mutate(across(names, as.factor))\n",
    "\n",
    "head(sample_data_factored)"
   ]
  },
  {
   "cell_type": "markdown",
   "id": "ca936a11-6e35-4b01-93da-0b526bafea5f",
   "metadata": {},
   "source": [
    "# The prediction won't work because I commented out the data_s (above)"
   ]
  },
  {
   "cell_type": "markdown",
   "id": "85629338-2f2e-490d-86f0-957a88dc0204",
   "metadata": {
    "jp-MarkdownHeadingCollapsed": true
   },
   "source": [
    "#### Predictive question (Needs to be updated):\n",
    "We were going to first split the sample data containing 3,000 random selected samples into training set and testing set using a 70-30 ratio basis, use training set to determine a well-trained model using Linear Regression function, and test our model using the testing set, which contains 30% of 3000-observation sample data (i.e., 0.3*3000 = 900 observations) randomly selected from our dataset.\n",
    "\n",
    "Using the forward stepwise selection, we can use the BIC (Bayesian Information Criterion) of each model to select the model, since we want the model to be predictive rather than generative. We can also plot the Cp plot of the model out and select the minimum Cp model. Also, BIC can be used to approximate the test MSE, without looking at the test data."
   ]
  },
  {
   "cell_type": "markdown",
   "id": "ae4614c1-9da5-428e-8e41-07c526f0a41c",
   "metadata": {
    "tags": []
   },
   "source": [
    "###  Implementation of a proposed model"
   ]
  },
  {
   "cell_type": "code",
   "execution_count": 210,
   "id": "633055d4-1dd1-4f88-9dbf-494ff5f08f08",
   "metadata": {
    "tags": []
   },
   "outputs": [],
   "source": [
    "set.seed(2024)\n",
    "\n",
    "sample_data_factored$ID <- rownames(sample_data_factored)\n",
    "\n",
    "training_dat <- sample_n(sample_data_factored, size = nrow(sample_data_factored) * 0.7, replace = F)\n",
    "\n",
    "testing_dat <- anti_join(sample_data_factored, training_dat, by = \"ID\")\n",
    "\n",
    "training_dat <- training_dat |> select(-\"ID\", -\"Is.Fork\")\n",
    "testing_dat <- testing_dat |> select(-\"ID\", -\"Is.Fork\")"
   ]
  },
  {
   "cell_type": "code",
   "execution_count": 215,
   "id": "64f80b3e-7c1d-4643-b981-e10584ea8f1d",
   "metadata": {
    "tags": []
   },
   "outputs": [],
   "source": [
    "for_sel <- regsubsets(\n",
    "    x = Stars ~ ., nvmax = 13,\n",
    "    data = training_dat,\n",
    "    method = \"forward\"\n",
    ")\n",
    "\n",
    "fwd_summary <- summary(for_sel)\n",
    "\n",
    "fwd_summary_df <- tibble(\n",
    "    n_input_variables = 1:13,\n",
    "    RSQ = fwd_summary$rsq,\n",
    "    RSS = fwd_summary$rss,\n",
    "    ADJ.R2 = fwd_summary$adjr2,\n",
    "    CP = fwd_summary$cp\n",
    ")"
   ]
  },
  {
   "cell_type": "code",
   "execution_count": 216,
   "id": "572f8243-371b-4ccd-9665-764ded41b259",
   "metadata": {
    "tags": []
   },
   "outputs": [
    {
     "data": {
      "text/html": [
       "<table class=\"dataframe\">\n",
       "<caption>A tibble: 13 × 5</caption>\n",
       "<thead>\n",
       "\t<tr><th scope=col>n_input_variables</th><th scope=col>RSQ</th><th scope=col>RSS</th><th scope=col>ADJ.R2</th><th scope=col>CP</th></tr>\n",
       "\t<tr><th scope=col>&lt;int&gt;</th><th scope=col>&lt;dbl&gt;</th><th scope=col>&lt;dbl&gt;</th><th scope=col>&lt;dbl&gt;</th><th scope=col>&lt;dbl&gt;</th></tr>\n",
       "</thead>\n",
       "<tbody>\n",
       "\t<tr><td> 1</td><td>1</td><td>1.017963e-22</td><td>1</td><td>914.339692</td></tr>\n",
       "\t<tr><td> 2</td><td>1</td><td>7.486775e-23</td><td>1</td><td>604.629238</td></tr>\n",
       "\t<tr><td> 3</td><td>1</td><td>2.427848e-23</td><td>1</td><td> 21.034746</td></tr>\n",
       "\t<tr><td> 4</td><td>1</td><td>2.289829e-23</td><td>1</td><td>  7.058459</td></tr>\n",
       "\t<tr><td> 5</td><td>1</td><td>2.256645e-23</td><td>1</td><td>  5.217208</td></tr>\n",
       "\t<tr><td> 6</td><td>1</td><td>2.233927e-23</td><td>1</td><td>  4.587487</td></tr>\n",
       "\t<tr><td> 7</td><td>1</td><td>2.213241e-23</td><td>1</td><td>  4.193006</td></tr>\n",
       "\t<tr><td> 8</td><td>1</td><td>2.201449e-23</td><td>1</td><td>  4.828057</td></tr>\n",
       "\t<tr><td> 9</td><td>1</td><td>2.195891e-23</td><td>1</td><td>  6.184600</td></tr>\n",
       "\t<tr><td>10</td><td>1</td><td>2.195000e-23</td><td>1</td><td>  8.081525</td></tr>\n",
       "\t<tr><td>11</td><td>1</td><td>2.194371e-23</td><td>1</td><td> 10.008657</td></tr>\n",
       "\t<tr><td>12</td><td>1</td><td>2.194321e-23</td><td>1</td><td> 12.002911</td></tr>\n",
       "\t<tr><td>13</td><td>1</td><td>2.194296e-23</td><td>1</td><td> 14.000000</td></tr>\n",
       "</tbody>\n",
       "</table>\n"
      ],
      "text/latex": [
       "A tibble: 13 × 5\n",
       "\\begin{tabular}{lllll}\n",
       " n\\_input\\_variables & RSQ & RSS & ADJ.R2 & CP\\\\\n",
       " <int> & <dbl> & <dbl> & <dbl> & <dbl>\\\\\n",
       "\\hline\n",
       "\t  1 & 1 & 1.017963e-22 & 1 & 914.339692\\\\\n",
       "\t  2 & 1 & 7.486775e-23 & 1 & 604.629238\\\\\n",
       "\t  3 & 1 & 2.427848e-23 & 1 &  21.034746\\\\\n",
       "\t  4 & 1 & 2.289829e-23 & 1 &   7.058459\\\\\n",
       "\t  5 & 1 & 2.256645e-23 & 1 &   5.217208\\\\\n",
       "\t  6 & 1 & 2.233927e-23 & 1 &   4.587487\\\\\n",
       "\t  7 & 1 & 2.213241e-23 & 1 &   4.193006\\\\\n",
       "\t  8 & 1 & 2.201449e-23 & 1 &   4.828057\\\\\n",
       "\t  9 & 1 & 2.195891e-23 & 1 &   6.184600\\\\\n",
       "\t 10 & 1 & 2.195000e-23 & 1 &   8.081525\\\\\n",
       "\t 11 & 1 & 2.194371e-23 & 1 &  10.008657\\\\\n",
       "\t 12 & 1 & 2.194321e-23 & 1 &  12.002911\\\\\n",
       "\t 13 & 1 & 2.194296e-23 & 1 &  14.000000\\\\\n",
       "\\end{tabular}\n"
      ],
      "text/markdown": [
       "\n",
       "A tibble: 13 × 5\n",
       "\n",
       "| n_input_variables &lt;int&gt; | RSQ &lt;dbl&gt; | RSS &lt;dbl&gt; | ADJ.R2 &lt;dbl&gt; | CP &lt;dbl&gt; |\n",
       "|---|---|---|---|---|\n",
       "|  1 | 1 | 1.017963e-22 | 1 | 914.339692 |\n",
       "|  2 | 1 | 7.486775e-23 | 1 | 604.629238 |\n",
       "|  3 | 1 | 2.427848e-23 | 1 |  21.034746 |\n",
       "|  4 | 1 | 2.289829e-23 | 1 |   7.058459 |\n",
       "|  5 | 1 | 2.256645e-23 | 1 |   5.217208 |\n",
       "|  6 | 1 | 2.233927e-23 | 1 |   4.587487 |\n",
       "|  7 | 1 | 2.213241e-23 | 1 |   4.193006 |\n",
       "|  8 | 1 | 2.201449e-23 | 1 |   4.828057 |\n",
       "|  9 | 1 | 2.195891e-23 | 1 |   6.184600 |\n",
       "| 10 | 1 | 2.195000e-23 | 1 |   8.081525 |\n",
       "| 11 | 1 | 2.194371e-23 | 1 |  10.008657 |\n",
       "| 12 | 1 | 2.194321e-23 | 1 |  12.002911 |\n",
       "| 13 | 1 | 2.194296e-23 | 1 |  14.000000 |\n",
       "\n"
      ],
      "text/plain": [
       "   n_input_variables RSQ RSS          ADJ.R2 CP        \n",
       "1   1                1   1.017963e-22 1      914.339692\n",
       "2   2                1   7.486775e-23 1      604.629238\n",
       "3   3                1   2.427848e-23 1       21.034746\n",
       "4   4                1   2.289829e-23 1        7.058459\n",
       "5   5                1   2.256645e-23 1        5.217208\n",
       "6   6                1   2.233927e-23 1        4.587487\n",
       "7   7                1   2.213241e-23 1        4.193006\n",
       "8   8                1   2.201449e-23 1        4.828057\n",
       "9   9                1   2.195891e-23 1        6.184600\n",
       "10 10                1   2.195000e-23 1        8.081525\n",
       "11 11                1   2.194371e-23 1       10.008657\n",
       "12 12                1   2.194321e-23 1       12.002911\n",
       "13 13                1   2.194296e-23 1       14.000000"
      ]
     },
     "metadata": {},
     "output_type": "display_data"
    },
    {
     "data": {
      "text/plain": [
       "Subset selection object\n",
       "Call: regsubsets.formula(x = Stars ~ ., nvmax = 13, data = training_dat, \n",
       "    method = \"forward\")\n",
       "13 Variables  (and intercept)\n",
       "                     Forced in Forced out\n",
       "Size                     FALSE      FALSE\n",
       "Forks                    FALSE      FALSE\n",
       "Issues                   FALSE      FALSE\n",
       "Watchers                 FALSE      FALSE\n",
       "Has.IssuesTrue           FALSE      FALSE\n",
       "Has.ProjectsTrue         FALSE      FALSE\n",
       "Has.DownloadsTrue        FALSE      FALSE\n",
       "Has.WikiTrue             FALSE      FALSE\n",
       "Has.PagesTrue            FALSE      FALSE\n",
       "Has.DiscussionsTrue      FALSE      FALSE\n",
       "Is.ArchivedTrue          FALSE      FALSE\n",
       "Is.TemplateTrue          FALSE      FALSE\n",
       "Default.Branchmaster     FALSE      FALSE\n",
       "1 subsets of each size up to 13\n",
       "Selection Algorithm: forward\n",
       "          Size Forks Issues Watchers Has.IssuesTrue Has.ProjectsTrue\n",
       "1  ( 1 )  \" \"  \" \"   \" \"    \"*\"      \" \"            \" \"             \n",
       "2  ( 1 )  \" \"  \" \"   \"*\"    \"*\"      \" \"            \" \"             \n",
       "3  ( 1 )  \" \"  \"*\"   \"*\"    \"*\"      \" \"            \" \"             \n",
       "4  ( 1 )  \"*\"  \"*\"   \"*\"    \"*\"      \" \"            \" \"             \n",
       "5  ( 1 )  \"*\"  \"*\"   \"*\"    \"*\"      \" \"            \" \"             \n",
       "6  ( 1 )  \"*\"  \"*\"   \"*\"    \"*\"      \" \"            \"*\"             \n",
       "7  ( 1 )  \"*\"  \"*\"   \"*\"    \"*\"      \" \"            \"*\"             \n",
       "8  ( 1 )  \"*\"  \"*\"   \"*\"    \"*\"      \" \"            \"*\"             \n",
       "9  ( 1 )  \"*\"  \"*\"   \"*\"    \"*\"      \" \"            \"*\"             \n",
       "10  ( 1 ) \"*\"  \"*\"   \"*\"    \"*\"      \" \"            \"*\"             \n",
       "11  ( 1 ) \"*\"  \"*\"   \"*\"    \"*\"      \" \"            \"*\"             \n",
       "12  ( 1 ) \"*\"  \"*\"   \"*\"    \"*\"      \"*\"            \"*\"             \n",
       "13  ( 1 ) \"*\"  \"*\"   \"*\"    \"*\"      \"*\"            \"*\"             \n",
       "          Has.DownloadsTrue Has.WikiTrue Has.PagesTrue Has.DiscussionsTrue\n",
       "1  ( 1 )  \" \"               \" \"          \" \"           \" \"                \n",
       "2  ( 1 )  \" \"               \" \"          \" \"           \" \"                \n",
       "3  ( 1 )  \" \"               \" \"          \" \"           \" \"                \n",
       "4  ( 1 )  \" \"               \" \"          \" \"           \" \"                \n",
       "5  ( 1 )  \" \"               \" \"          \" \"           \"*\"                \n",
       "6  ( 1 )  \" \"               \" \"          \" \"           \"*\"                \n",
       "7  ( 1 )  \" \"               \" \"          \"*\"           \"*\"                \n",
       "8  ( 1 )  \" \"               \" \"          \"*\"           \"*\"                \n",
       "9  ( 1 )  \" \"               \"*\"          \"*\"           \"*\"                \n",
       "10  ( 1 ) \" \"               \"*\"          \"*\"           \"*\"                \n",
       "11  ( 1 ) \"*\"               \"*\"          \"*\"           \"*\"                \n",
       "12  ( 1 ) \"*\"               \"*\"          \"*\"           \"*\"                \n",
       "13  ( 1 ) \"*\"               \"*\"          \"*\"           \"*\"                \n",
       "          Is.ArchivedTrue Is.TemplateTrue Default.Branchmaster\n",
       "1  ( 1 )  \" \"             \" \"             \" \"                 \n",
       "2  ( 1 )  \" \"             \" \"             \" \"                 \n",
       "3  ( 1 )  \" \"             \" \"             \" \"                 \n",
       "4  ( 1 )  \" \"             \" \"             \" \"                 \n",
       "5  ( 1 )  \" \"             \" \"             \" \"                 \n",
       "6  ( 1 )  \" \"             \" \"             \" \"                 \n",
       "7  ( 1 )  \" \"             \" \"             \" \"                 \n",
       "8  ( 1 )  \" \"             \" \"             \"*\"                 \n",
       "9  ( 1 )  \" \"             \" \"             \"*\"                 \n",
       "10  ( 1 ) \"*\"             \" \"             \"*\"                 \n",
       "11  ( 1 ) \"*\"             \" \"             \"*\"                 \n",
       "12  ( 1 ) \"*\"             \" \"             \"*\"                 \n",
       "13  ( 1 ) \"*\"             \"*\"             \"*\"                 "
      ]
     },
     "metadata": {},
     "output_type": "display_data"
    }
   ],
   "source": [
    "fwd_summary_df\n",
    "\n",
    "fwd_summary"
   ]
  },
  {
   "cell_type": "code",
   "execution_count": 224,
   "id": "37666b33-c63d-452c-a5b7-a6daad32f805",
   "metadata": {
    "tags": []
   },
   "outputs": [],
   "source": [
    "# Identify the size of the model that minimizes Cp\n",
    "cp_min = which.min(fwd_summary_df$CP)\n",
    "\n",
    "# Find the name of the variables for the best model\n",
    "selected_var <- names(coef(for_sel, cp_min))[-1]\n",
    "selected_var <- c('Size','Forks', 'Issues','Watchers','Has.Projects','Has.Pages','Has.Discussions')\n",
    "\n",
    "# Reduce dataset to only include the selected predictors\n",
    "training_subset <- training_dat %>% select(all_of(selected_var),Stars)\n",
    "\n",
    "# Train the predictive model\n",
    "data_red_OLS <- lm(Stars ~ .,\n",
    "  data = training_subset\n",
    ")\n",
    "\n",
    "# summary(data_red_OLS)"
   ]
  },
  {
   "cell_type": "code",
   "execution_count": 226,
   "id": "4427c1fb-caa1-4b83-bc4a-9720c55f2949",
   "metadata": {
    "tags": []
   },
   "outputs": [],
   "source": [
    "# use the trained model to predict the responses of the testing set\n",
    "data_test_pred_red_OLS <- predict(data_red_OLS, newdata = testing_dat)"
   ]
  },
  {
   "cell_type": "code",
   "execution_count": 233,
   "id": "eeacbcc4-7dde-4675-98dd-6f81facdc58b",
   "metadata": {
    "tags": []
   },
   "outputs": [],
   "source": [
    "# build an additive predictive model\n",
    "data_full_OLS <- lm(Stars ~ ., data = training_data)\n",
    "# data_full_OLS"
   ]
  },
  {
   "cell_type": "code",
   "execution_count": 234,
   "id": "37708597-2574-4585-b470-a2cfa07c7ee9",
   "metadata": {
    "tags": []
   },
   "outputs": [],
   "source": [
    "# obtain the (out-of-sample) predicted values\n",
    "data_test_pred_full_OLS <- predict(data_full_OLS, newdata = testing_data)\n",
    "# head(data_test_pred_full_OLS)"
   ]
  },
  {
   "cell_type": "code",
   "execution_count": 235,
   "id": "1ceed535-50a5-43da-bad8-be291f9a114f",
   "metadata": {
    "tags": []
   },
   "outputs": [],
   "source": [
    "data_RMSE_models <- tibble(\n",
    "  Model = \"OLS Full Regression\",\n",
    "  RMSE = rmse(\n",
    "    data_test_pred_full_OLS,\n",
    "    testing_dat$Stars\n",
    "  )\n",
    ")\n",
    "# data_RMSE_models"
   ]
  },
  {
   "cell_type": "code",
   "execution_count": 236,
   "id": "997e1ef5-a251-430c-b402-809d25f6a0e8",
   "metadata": {
    "tags": []
   },
   "outputs": [
    {
     "data": {
      "text/html": [
       "<table class=\"dataframe\">\n",
       "<caption>A tibble: 2 × 2</caption>\n",
       "<thead>\n",
       "\t<tr><th scope=col>Model</th><th scope=col>RMSE</th></tr>\n",
       "\t<tr><th scope=col>&lt;chr&gt;</th><th scope=col>&lt;dbl&gt;</th></tr>\n",
       "</thead>\n",
       "<tbody>\n",
       "\t<tr><td>OLS Full Regression   </td><td>1.116237e+03</td></tr>\n",
       "\t<tr><td>OLS Reduced Regression</td><td>2.548134e-13</td></tr>\n",
       "</tbody>\n",
       "</table>\n"
      ],
      "text/latex": [
       "A tibble: 2 × 2\n",
       "\\begin{tabular}{ll}\n",
       " Model & RMSE\\\\\n",
       " <chr> & <dbl>\\\\\n",
       "\\hline\n",
       "\t OLS Full Regression    & 1.116237e+03\\\\\n",
       "\t OLS Reduced Regression & 2.548134e-13\\\\\n",
       "\\end{tabular}\n"
      ],
      "text/markdown": [
       "\n",
       "A tibble: 2 × 2\n",
       "\n",
       "| Model &lt;chr&gt; | RMSE &lt;dbl&gt; |\n",
       "|---|---|\n",
       "| OLS Full Regression    | 1.116237e+03 |\n",
       "| OLS Reduced Regression | 2.548134e-13 |\n",
       "\n"
      ],
      "text/plain": [
       "  Model                  RMSE        \n",
       "1 OLS Full Regression    1.116237e+03\n",
       "2 OLS Reduced Regression 2.548134e-13"
      ]
     },
     "metadata": {},
     "output_type": "display_data"
    }
   ],
   "source": [
    "# compute the RMSE of predicted stars in testing set\n",
    "data_RMSE_models <- rbind(\n",
    "  data_RMSE_models,\n",
    "  tibble(\n",
    "    Model = \"OLS Reduced Regression\",\n",
    "    RMSE = rmse(data_test_pred_red_OLS, testing_dat$Stars)\n",
    "    )\n",
    "  )\n",
    "data_RMSE_models"
   ]
  },
  {
   "cell_type": "markdown",
   "id": "8743a8bd-76cc-4817-982c-f9128f64f1d7",
   "metadata": {
    "tags": []
   },
   "source": [
    "## Discussion"
   ]
  },
  {
   "cell_type": "markdown",
   "id": "dc3ba838-bc0c-4b0e-bc18-8f6611d29d5b",
   "metadata": {},
   "source": [
    "### Prediction"
   ]
  },
  {
   "cell_type": "markdown",
   "id": "b1959f14-87a0-42d7-8e9e-68610cb75aae",
   "metadata": {},
   "source": [
    "The results showed that the full regression model had a better out-of-sample prediction performance compared to our reduced ones, which indicates that the full OLS regression model is better at making predictions when considering all factors.\n",
    "\n",
    "However, note that this is only a one-time estimate of the true test RMSE based on a random split of the data. If we split the data in a different way or by a different ratio, we might be very likely to obtain a different result, given that the RMSE value difference between the full regression and the reduced regression is quite trivial. \n",
    "\n",
    "Also, since we tend to use simpler statistical model since we would like to have a balance between fit and parsimony when selecting models, we finally would pick the reduced regression model, since it has a similar RMSE compared to the full model, but includes less variables/predictors.\n",
    "\n",
    "Future study might want to include different ways and ratios of splitting the data and see if a similar result can be obtained. Moreover, while making predictions using the current dataset, note that the dataset is relatively large and we only included a random selected sample from it (3000 observations out of 215,029) and it contains a lot of missing data, although we did not include them in our analysis. In addition, the dataset only focused on the most popular repositories on GitHub. Therefore, future studies can use other datasets with more diverse data in terms of the popularity of repositories, and see if the result and prediction can be generalized to the overall GitHub repository population at large."
   ]
  },
  {
   "cell_type": "markdown",
   "id": "c94f8c0a-e507-4f25-aa1e-fa1ea4f49f3d",
   "metadata": {},
   "source": [
    "## References"
   ]
  },
  {
   "cell_type": "markdown",
   "id": "7e9b4ffd-460c-46d6-9d7c-a83d2ea386bc",
   "metadata": {},
   "source": [
    "A. Begel, J. Bosch and M. -A. Storey, \"Social Networking Meets Software Development: Perspectives from GitHub, MSDN, Stack Exchange, and TopCoder,\" in IEEE Software, vol. 30, no. 1, pp. 52-66, Jan.-Feb. 2013, doi: 10.1109/MS.2013.13.\n",
    "\n",
    "H. Borges, A. Hora and M. T. Valente, \"Understanding the Factors That Impact the Popularity of GitHub Repositories,\" 2016 IEEE International Conference on Software Maintenance and Evolution (ICSME), Raleigh, NC, USA, 2016, pp. 334-344, doi: 10.1109/ICSME.2016.31. \n"
   ]
  }
 ],
 "metadata": {
  "kernelspec": {
   "display_name": "R",
   "language": "R",
   "name": "ir"
  },
  "language_info": {
   "codemirror_mode": "r",
   "file_extension": ".r",
   "mimetype": "text/x-r-source",
   "name": "R",
   "pygments_lexer": "r",
   "version": "4.2.3"
  }
 },
 "nbformat": 4,
 "nbformat_minor": 5
}
