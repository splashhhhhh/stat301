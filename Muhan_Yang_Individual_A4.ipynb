{
 "cells": [
  {
   "cell_type": "markdown",
   "id": "506bfa07-42d0-46bf-a7a5-e884dad10a38",
   "metadata": {
    "tags": []
   },
   "source": [
    "# Methods and Plan\n",
    "### *Muhan Yang - Group 11*"
   ]
  },
  {
   "cell_type": "code",
   "execution_count": 44,
   "id": "0e60d1a8-3be8-4cad-a6d6-a6d6b2d02a38",
   "metadata": {
    "tags": []
   },
   "outputs": [],
   "source": [
    "library(tidyverse)\n",
    "library(GGally)\n",
    "library(mltools)\n",
    "library(leaps)"
   ]
  },
  {
   "cell_type": "code",
   "execution_count": 45,
   "id": "5315ef86-d4eb-49b4-b13d-cfab99becf15",
   "metadata": {
    "tags": []
   },
   "outputs": [],
   "source": [
    "# github link to csv dataset\n",
    "link <- \"https://raw.githubusercontent.com/splashhhhhh/stat301/main/repositories.csv\"\n",
    "\n",
    "# read data\n",
    "data <- read.csv(link)\n",
    "\n",
    "# see first few lines of the dataset\n",
    "# head(data)"
   ]
  },
  {
   "cell_type": "markdown",
   "id": "07f6d22f-459c-4cfe-9df9-d6f709448137",
   "metadata": {},
   "source": [
    "## Data Description (Copied from Data & Question)\n",
    "\n",
    "The dataset we are using is the *Most Popular Github Repositories (Projects)* dataset from Kaggle (URL: https://www.kaggle.com/datasets/donbarbos/github-repos/data), which contains a list of top GitHub project repositories by the number of stars. The data is collected using GitHub search API and the query function to obtain projects with over 167 stars.\n",
    "\n",
    "The repositories dataset consists of 215,029 project repositories (i.e., rows/observations) and 24 columns (i.e., variables) in total. Of the 24 columns, there are five columns containing the integer type of data of repositories: Size, Stars, Forks, Issues, and Watchers, and the data type of the rest 19 variables are characters. Of the 19 columns, there are nine binary variables that contain data coded as \"True\" or \"False\" - Has.Issues, Has.Projects, Has.Downloads, Has.Wiki, Has.Pages, Has.Discussions, Is.Fork, Is.Archived, and Is.Template. There are also two columns, consisting temporal data as character data type, within the rest ten variables: Created.At and Updated.At. \n",
    "\n",
    "- `Name`           : chr - name of the repository\n",
    "- `Description`    : chr - brief description of the repository\n",
    "- `URL`            : chr - github url\n",
    "- `Created.At`     : chr - date and time of the creation\n",
    "- `Updated.At`     : chr - date and time of the latest update\n",
    "- `Homepage`       : chr - home page url\n",
    "- `Size`           : int - size of the repository in bytes\n",
    "- `Stars`          : int - number of stars/likes the repository received\n",
    "- `Forks`          : int - number of times other users forked the repository\n",
    "- `Issues`         : int - number of open issues\n",
    "- `Watchers`       : int - number of watchers\n",
    "- `Language`       : chr - programming language used\n",
    "- `License`        : chr - software license information using a license identifier\n",
    "- `Topics`         : chr - a list of topics/tags\n",
    "- `Has.Issues`     : chr - whether the repository has an issue tracker or not\n",
    "- `Has.Projects`   : chr - whether the repository uses GitHub Projects to manage and organize tasks and work items\n",
    "- `Has.Downloads`  : chr - whether the repository offers downloadable files to users\n",
    "- `Has.Wiki`       : chr - whether the repository has a related wiki page\n",
    "- `Has.Pages`      : chr - whether the repository has GitHub Pages enabled\n",
    "- `Has.Discussions`: chr - whether the repository has GitHub Discussions enabled\n",
    "- `Is.Fork`        : chr - whether the repository is a fork of another repository\n",
    "- `Is.Archived`    : chr - whether the repository is archived\n",
    "- `Is.Template`    : chr - whether the repository is set up as a template\n",
    "- `Default.Branch` : chr - the name of the default branch\n",
    "\n",
    "Above is a list of bulletpoints of the name, the type of each variable, and its descriptions."
   ]
  },
  {
   "cell_type": "code",
   "execution_count": 46,
   "id": "de046997-0648-4cf2-81dd-641501893e78",
   "metadata": {
    "tags": []
   },
   "outputs": [],
   "source": [
    "# very brief wrangling to exclude unrelated columns\n",
    "data <- data %>%\n",
    "    select(-Description, -Language, -Created.At, -Updated.At, -URL, -Homepage, -Topics, -License)\n",
    "# head(data)"
   ]
  },
  {
   "cell_type": "code",
   "execution_count": 47,
   "id": "9dfa5bb9-91db-4805-ac68-5537ec4c4d97",
   "metadata": {
    "tags": []
   },
   "outputs": [
    {
     "data": {
      "text/html": [
       "<style>\n",
       ".dl-inline {width: auto; margin:0; padding: 0}\n",
       ".dl-inline>dt, .dl-inline>dd {float: none; width: auto; display: inline-block}\n",
       ".dl-inline>dt::after {content: \":\\0020\"; padding-right: .5ex}\n",
       ".dl-inline>dt:not(:first-of-type) {padding-left: .5ex}\n",
       "</style><dl class=dl-inline><dt>Name</dt><dd>0</dd><dt>Size</dt><dd>151</dd><dt>Stars</dt><dd>0</dd><dt>Forks</dt><dd>216</dd><dt>Issues</dt><dd>23647</dd><dt>Watchers</dt><dd>0</dd><dt>Has.Issues</dt><dd>0</dd><dt>Has.Projects</dt><dd>0</dd><dt>Has.Downloads</dt><dd>0</dd><dt>Has.Wiki</dt><dd>0</dd><dt>Has.Pages</dt><dd>0</dd><dt>Has.Discussions</dt><dd>0</dd><dt>Is.Fork</dt><dd>0</dd><dt>Is.Archived</dt><dd>0</dd><dt>Is.Template</dt><dd>0</dd><dt>Default.Branch</dt><dd>0</dd></dl>\n"
      ],
      "text/latex": [
       "\\begin{description*}\n",
       "\\item[Name] 0\n",
       "\\item[Size] 151\n",
       "\\item[Stars] 0\n",
       "\\item[Forks] 216\n",
       "\\item[Issues] 23647\n",
       "\\item[Watchers] 0\n",
       "\\item[Has.Issues] 0\n",
       "\\item[Has.Projects] 0\n",
       "\\item[Has.Downloads] 0\n",
       "\\item[Has.Wiki] 0\n",
       "\\item[Has.Pages] 0\n",
       "\\item[Has.Discussions] 0\n",
       "\\item[Is.Fork] 0\n",
       "\\item[Is.Archived] 0\n",
       "\\item[Is.Template] 0\n",
       "\\item[Default.Branch] 0\n",
       "\\end{description*}\n"
      ],
      "text/markdown": [
       "Name\n",
       ":   0Size\n",
       ":   151Stars\n",
       ":   0Forks\n",
       ":   216Issues\n",
       ":   23647Watchers\n",
       ":   0Has.Issues\n",
       ":   0Has.Projects\n",
       ":   0Has.Downloads\n",
       ":   0Has.Wiki\n",
       ":   0Has.Pages\n",
       ":   0Has.Discussions\n",
       ":   0Is.Fork\n",
       ":   0Is.Archived\n",
       ":   0Is.Template\n",
       ":   0Default.Branch\n",
       ":   0\n",
       "\n"
      ],
      "text/plain": [
       "           Name            Size           Stars           Forks          Issues \n",
       "              0             151               0             216           23647 \n",
       "       Watchers      Has.Issues    Has.Projects   Has.Downloads        Has.Wiki \n",
       "              0               0               0               0               0 \n",
       "      Has.Pages Has.Discussions         Is.Fork     Is.Archived     Is.Template \n",
       "              0               0               0               0               0 \n",
       " Default.Branch \n",
       "              0 "
      ]
     },
     "metadata": {},
     "output_type": "display_data"
    },
    {
     "data": {
      "text/html": [
       "<style>\n",
       ".dl-inline {width: auto; margin:0; padding: 0}\n",
       ".dl-inline>dt, .dl-inline>dd {float: none; width: auto; display: inline-block}\n",
       ".dl-inline>dt::after {content: \":\\0020\"; padding-right: .5ex}\n",
       ".dl-inline>dt:not(:first-of-type) {padding-left: .5ex}\n",
       "</style><dl class=dl-inline><dt>Name</dt><dd>2</dd><dt>Size</dt><dd>0</dd><dt>Stars</dt><dd>0</dd><dt>Forks</dt><dd>0</dd><dt>Issues</dt><dd>0</dd><dt>Watchers</dt><dd>0</dd><dt>Has.Issues</dt><dd>0</dd><dt>Has.Projects</dt><dd>0</dd><dt>Has.Downloads</dt><dd>0</dd><dt>Has.Wiki</dt><dd>0</dd><dt>Has.Pages</dt><dd>0</dd><dt>Has.Discussions</dt><dd>0</dd><dt>Is.Fork</dt><dd>0</dd><dt>Is.Archived</dt><dd>0</dd><dt>Is.Template</dt><dd>0</dd><dt>Default.Branch</dt><dd>0</dd></dl>\n"
      ],
      "text/latex": [
       "\\begin{description*}\n",
       "\\item[Name] 2\n",
       "\\item[Size] 0\n",
       "\\item[Stars] 0\n",
       "\\item[Forks] 0\n",
       "\\item[Issues] 0\n",
       "\\item[Watchers] 0\n",
       "\\item[Has.Issues] 0\n",
       "\\item[Has.Projects] 0\n",
       "\\item[Has.Downloads] 0\n",
       "\\item[Has.Wiki] 0\n",
       "\\item[Has.Pages] 0\n",
       "\\item[Has.Discussions] 0\n",
       "\\item[Is.Fork] 0\n",
       "\\item[Is.Archived] 0\n",
       "\\item[Is.Template] 0\n",
       "\\item[Default.Branch] 0\n",
       "\\end{description*}\n"
      ],
      "text/markdown": [
       "Name\n",
       ":   2Size\n",
       ":   0Stars\n",
       ":   0Forks\n",
       ":   0Issues\n",
       ":   0Watchers\n",
       ":   0Has.Issues\n",
       ":   0Has.Projects\n",
       ":   0Has.Downloads\n",
       ":   0Has.Wiki\n",
       ":   0Has.Pages\n",
       ":   0Has.Discussions\n",
       ":   0Is.Fork\n",
       ":   0Is.Archived\n",
       ":   0Is.Template\n",
       ":   0Default.Branch\n",
       ":   0\n",
       "\n"
      ],
      "text/plain": [
       "           Name            Size           Stars           Forks          Issues \n",
       "              2               0               0               0               0 \n",
       "       Watchers      Has.Issues    Has.Projects   Has.Downloads        Has.Wiki \n",
       "              0               0               0               0               0 \n",
       "      Has.Pages Has.Discussions         Is.Fork     Is.Archived     Is.Template \n",
       "              0               0               0               0               0 \n",
       " Default.Branch \n",
       "              0 "
      ]
     },
     "metadata": {},
     "output_type": "display_data"
    }
   ],
   "source": [
    "# check NAs, 0s, and empty values\n",
    "colSums(data==0)\n",
    "colSums(data==\"\")"
   ]
  },
  {
   "cell_type": "code",
   "execution_count": 48,
   "id": "50e1a6c0-4907-4ed9-99c6-560efc504557",
   "metadata": {
    "tags": []
   },
   "outputs": [],
   "source": [
    "# Filter out 0s and empty values\n",
    "data <- data %>%\n",
    "    filter(Size != 0, Forks != 0, Issues != 0) %>%\n",
    "    filter(Name != \"\")"
   ]
  },
  {
   "cell_type": "code",
   "execution_count": 49,
   "id": "d5782d03-1a2a-4f29-8880-139950f3a513",
   "metadata": {
    "tags": []
   },
   "outputs": [],
   "source": [
    "# table(data$Default.Branch)"
   ]
  },
  {
   "cell_type": "markdown",
   "id": "bdd6a76f-042a-43fb-8a34-73dc8d93840a",
   "metadata": {},
   "source": [
    "According to the frequency table of default branch, most of its data is in main and master. Therefore, we will filter out the rest."
   ]
  },
  {
   "cell_type": "code",
   "execution_count": 50,
   "id": "d41984d5-36b1-47f3-aa9e-5f2e89ed8f0e",
   "metadata": {
    "tags": []
   },
   "outputs": [],
   "source": [
    "data <- data %>%\n",
    "    filter(Default.Branch == \"main\" | Default.Branch == \"master\")\n",
    "# head(data)"
   ]
  },
  {
   "cell_type": "markdown",
   "id": "ff14ff6b-455c-4841-9e08-4106e985b272",
   "metadata": {},
   "source": [
    "Since the dataset contains huge number of observations, we are only going to use 3,000 observations randomly drawn from the entire data."
   ]
  },
  {
   "cell_type": "code",
   "execution_count": 51,
   "id": "85613b54-1a60-4ccc-9ab5-ab20f6799cba",
   "metadata": {
    "tags": []
   },
   "outputs": [],
   "source": [
    "# random selection of 3,000 observations\n",
    "data_s <- sample_n(data, 3000, replace = FALSE)"
   ]
  },
  {
   "cell_type": "code",
   "execution_count": 52,
   "id": "b89729d3-be3a-49e2-a95f-60cbb1edd60e",
   "metadata": {
    "tags": []
   },
   "outputs": [],
   "source": [
    "# head(data_s)"
   ]
  },
  {
   "cell_type": "markdown",
   "id": "8e024184-1eeb-4df5-944b-b7f4968f03a2",
   "metadata": {},
   "source": [
    "## Question"
   ]
  },
  {
   "cell_type": "markdown",
   "id": "482f44ad-f886-4a99-bf0f-c919511c889d",
   "metadata": {},
   "source": [
    "#### What characteristic(s) of the GitHub repository can help to predict the number of stars/likes the repository received?"
   ]
  },
  {
   "cell_type": "markdown",
   "id": "4bae4a8d-9272-4650-8948-2dc0299bf82a",
   "metadata": {},
   "source": [
    "This question is refined from Data & Question submission.\n",
    "\n",
    "In the question above, the response variable is the number of stars/likes the repository received, which is the information from the `Stars` column. As of predictors, this question is an exploratory one and is aiming to find a best predictive model for `Stars`, using the knowledge from model selection and evaluation.\n",
    "\n",
    "The question is mostly proposed for making predictions on the number of stars the top repositories received based on the data. However, if we found any coefficients significant, we might be able to extend the results to the overall population of the entire GitHub repositories. However, by doing this, we should always bear in mind that our data only sampled from those repositories with top numbers of stars (over 167 stars). Therefore, our results might not be able to generate to the entire population and thus the inference might not work well for the all repositories on GitHub due to restriction of range."
   ]
  },
  {
   "cell_type": "markdown",
   "id": "cdd6d619-8084-49a7-a1d5-66a345e3f464",
   "metadata": {},
   "source": [
    "### Get Descriptive Statistics Summary for Numerical Data"
   ]
  },
  {
   "cell_type": "code",
   "execution_count": 53,
   "id": "0abdbe73-f347-427b-88fc-13eae1f2e41a",
   "metadata": {
    "tags": []
   },
   "outputs": [],
   "source": [
    "# select numerical variables out\n",
    "data_num <- data_s %>%\n",
    "    select(Size, Stars, Forks, Issues, Watchers)"
   ]
  },
  {
   "cell_type": "code",
   "execution_count": 54,
   "id": "53014581-1798-4745-a36d-d31eddb542ac",
   "metadata": {
    "tags": []
   },
   "outputs": [],
   "source": [
    "# convert the dataset into a long format\n",
    "data_long <- data_num %>%\n",
    "    gather(factor_key=TRUE)\n",
    "# head(data_long)"
   ]
  },
  {
   "cell_type": "code",
   "execution_count": 55,
   "id": "40fe11c9-4807-475c-b3db-b1c44ce5acbd",
   "metadata": {
    "tags": []
   },
   "outputs": [],
   "source": [
    "# obtain descriptive stats summary table\n",
    "data_stats <- data_long %>% group_by(key)%>%\n",
    " summarise(mean= mean(value), sd= sd(value), max = max(value),min = min(value))\n",
    "# data_stats"
   ]
  },
  {
   "cell_type": "code",
   "execution_count": 56,
   "id": "77593117-d141-4e75-9aad-84f1656817c9",
   "metadata": {
    "tags": []
   },
   "outputs": [],
   "source": [
    "# select all categorical or binary data, except name\n",
    "data_cat <- data_s %>%\n",
    "    select(-Name, -Size, -Stars, -Forks, -Issues, -Watchers)"
   ]
  },
  {
   "cell_type": "markdown",
   "id": "44883f9e-14b9-461d-ac22-9ff27426cf4b",
   "metadata": {},
   "source": [
    "#### Get frequency table for binary data"
   ]
  },
  {
   "cell_type": "code",
   "execution_count": 57,
   "id": "802d24d8-a572-45ed-ba23-9e40923c7664",
   "metadata": {
    "tags": []
   },
   "outputs": [
    {
     "data": {
      "text/plain": [
       "\n",
       "False  True \n",
       "  386  2614 "
      ]
     },
     "metadata": {},
     "output_type": "display_data"
    }
   ],
   "source": [
    "table(data_cat$Has.Projects)"
   ]
  },
  {
   "cell_type": "code",
   "execution_count": 58,
   "id": "dd431534-f91e-4ee1-bf99-3a3ac66af7ae",
   "metadata": {
    "tags": []
   },
   "outputs": [
    {
     "data": {
      "text/plain": [
       "\n",
       "False  True \n",
       "   81  2919 "
      ]
     },
     "metadata": {},
     "output_type": "display_data"
    }
   ],
   "source": [
    "table(data_cat$Has.Issues)"
   ]
  },
  {
   "cell_type": "code",
   "execution_count": 59,
   "id": "55b6edb0-f5c3-4dd8-9072-4d9baa59b28d",
   "metadata": {
    "tags": []
   },
   "outputs": [
    {
     "data": {
      "text/plain": [
       "\n",
       "False  True \n",
       "   24  2976 "
      ]
     },
     "metadata": {},
     "output_type": "display_data"
    }
   ],
   "source": [
    "table(data_cat$Has.Downloads)"
   ]
  },
  {
   "cell_type": "code",
   "execution_count": 60,
   "id": "15592e46-928a-40c4-b40b-007b3eab34f7",
   "metadata": {
    "tags": []
   },
   "outputs": [
    {
     "data": {
      "text/plain": [
       "\n",
       "False  True \n",
       "  591  2409 "
      ]
     },
     "metadata": {},
     "output_type": "display_data"
    }
   ],
   "source": [
    "table(data_cat$Has.Wiki)"
   ]
  },
  {
   "cell_type": "code",
   "execution_count": 61,
   "id": "860afb45-3645-4e40-b997-0ad5cdf11d5f",
   "metadata": {
    "tags": []
   },
   "outputs": [
    {
     "data": {
      "text/plain": [
       "\n",
       "False  True \n",
       " 2511   489 "
      ]
     },
     "metadata": {},
     "output_type": "display_data"
    }
   ],
   "source": [
    "table(data_cat$Has.Pages)"
   ]
  },
  {
   "cell_type": "code",
   "execution_count": 62,
   "id": "f35e1465-6b74-4881-894b-063a40196895",
   "metadata": {
    "tags": []
   },
   "outputs": [
    {
     "data": {
      "text/plain": [
       "\n",
       "False  True \n",
       " 2641   359 "
      ]
     },
     "metadata": {},
     "output_type": "display_data"
    }
   ],
   "source": [
    "table(data_cat$Has.Discussions)"
   ]
  },
  {
   "cell_type": "code",
   "execution_count": 63,
   "id": "7d1252a3-785d-4015-a369-e60b17395b22",
   "metadata": {
    "tags": []
   },
   "outputs": [
    {
     "data": {
      "text/plain": [
       "\n",
       "False \n",
       " 3000 "
      ]
     },
     "metadata": {},
     "output_type": "display_data"
    }
   ],
   "source": [
    "table(data_cat$Is.Fork)"
   ]
  },
  {
   "cell_type": "code",
   "execution_count": 64,
   "id": "f13047ea-db2d-40b9-9f95-4debbb645e73",
   "metadata": {
    "tags": []
   },
   "outputs": [
    {
     "data": {
      "text/plain": [
       "\n",
       "False  True \n",
       " 2810   190 "
      ]
     },
     "metadata": {},
     "output_type": "display_data"
    }
   ],
   "source": [
    "table(data_cat$Is.Archived)"
   ]
  },
  {
   "cell_type": "code",
   "execution_count": 65,
   "id": "13b99b40-8982-4524-b6ad-de796473bb6d",
   "metadata": {
    "tags": []
   },
   "outputs": [
    {
     "data": {
      "text/plain": [
       "\n",
       "False  True \n",
       " 2985    15 "
      ]
     },
     "metadata": {},
     "output_type": "display_data"
    }
   ],
   "source": [
    "table(data_cat$Is.Template)"
   ]
  },
  {
   "cell_type": "code",
   "execution_count": 66,
   "id": "f3e12ade-e5a1-482b-82c1-b01bb6d12221",
   "metadata": {
    "tags": []
   },
   "outputs": [
    {
     "data": {
      "text/plain": [
       "\n",
       "  main master \n",
       "   583   2417 "
      ]
     },
     "metadata": {},
     "output_type": "display_data"
    }
   ],
   "source": [
    "table(data_cat$Default.Branch)"
   ]
  },
  {
   "cell_type": "markdown",
   "id": "7c7e9158-7604-4425-977c-e6196940ac06",
   "metadata": {},
   "source": [
    "Since `Has.Issues`, `Has.Downloads`, `Is.Fork`, and `Is.Template` are close to only having one value (i.e., the frequency difference between the binary outcome is too small), we will not look at the data of these columns as they might not be reliable in terms of making inferences or prediction because they are not balanced."
   ]
  },
  {
   "cell_type": "code",
   "execution_count": 67,
   "id": "6f0a2f9c-ca06-41c9-a87d-315fe828636d",
   "metadata": {
    "tags": []
   },
   "outputs": [],
   "source": [
    "data_s <- data_s %>%\n",
    "    select(-Has.Issues, -Has.Downloads, -Is.Fork, -Is.Template)\n",
    "# head(data_s)"
   ]
  },
  {
   "cell_type": "markdown",
   "id": "9538f76c-adfa-433a-a1aa-cdf2ce52e160",
   "metadata": {},
   "source": [
    "### Check the Correlation and Distribution of Numerical Variables"
   ]
  },
  {
   "cell_type": "code",
   "execution_count": 68,
   "id": "3a6dbbfb-cc44-46c4-a6ad-e2244d6c7db6",
   "metadata": {
    "tags": []
   },
   "outputs": [],
   "source": [
    "options(repr.plot.width = 8, repr.plot.height = 6)\n",
    "\n",
    "data_pair_plots <- data_num %>%\n",
    "  ggpairs(progress = FALSE) +\n",
    "  theme(\n",
    "    text = element_text(size = 15),\n",
    "    plot.title = element_text(face = \"bold\"),\n",
    "    axis.title = element_text(face = \"bold\")\n",
    "  )"
   ]
  },
  {
   "cell_type": "markdown",
   "id": "abc97660-e095-4f11-bd09-0f61bb54fc89",
   "metadata": {
    "tags": []
   },
   "source": [
    "Since watchers and stars have the perfect correlation of 1, we will only use one of them - `Stars`. From the correlation above, we can see that each numerical variable has a lot of outliers, which makes most points stick at the bottom left corner of each scatterplot."
   ]
  },
  {
   "cell_type": "code",
   "execution_count": 69,
   "id": "eba08fc8-3b09-4091-bf5a-46b7166e3d67",
   "metadata": {
    "tags": []
   },
   "outputs": [],
   "source": [
    "data_s <- data_s %>%\n",
    "    select(-Watchers)\n",
    "data_num <- data_num %>%\n",
    "    select(-Watchers)"
   ]
  },
  {
   "cell_type": "code",
   "execution_count": 70,
   "id": "997cb2a7-f7e5-49b6-b25a-ce3aa6690f5c",
   "metadata": {
    "tags": []
   },
   "outputs": [],
   "source": [
    "# eliminate outliers from numerical variables\n",
    "outliers_size <- boxplot(data_s$Size, plot=FALSE)$out\n",
    "data_s <- data_s[-which(data_s$Size %in% outliers_size),]\n",
    "\n",
    "outliers_stars <- boxplot(data_s$Stars, plot=FALSE)$out\n",
    "data_s <- data_s[-which(data_s$Stars %in% outliers_stars),]\n",
    "\n",
    "outliers_forks <- boxplot(data_s$Forks, plot=FALSE)$out\n",
    "data_s <- data_s[-which(data_s$Forks %in% outliers_forks),]\n",
    "\n",
    "outliers_issues <- boxplot(data_s$Issues, plot=FALSE)$out\n",
    "data_s <- data_s[-which(data_s$Issues %in% outliers_issues),]"
   ]
  },
  {
   "cell_type": "code",
   "execution_count": 71,
   "id": "fddb9cff-0ac0-403a-a838-1b1b8606f679",
   "metadata": {
    "tags": []
   },
   "outputs": [],
   "source": [
    "# generate numerical variable sub-dataset\n",
    "data_num2 <- data_s %>%\n",
    "    select(Size, Stars, Forks, Issues)"
   ]
  },
  {
   "cell_type": "code",
   "execution_count": 72,
   "id": "16d2f777-9332-44ca-839c-067abb49a518",
   "metadata": {
    "tags": []
   },
   "outputs": [],
   "source": [
    "# relook at the correlation between numerical variables\n",
    "data_pair_plots <- data_num2 %>%\n",
    "  ggpairs(progress = FALSE) +\n",
    "  theme(\n",
    "    text = element_text(size = 15),\n",
    "    plot.title = element_text(face = \"bold\"),\n",
    "    axis.title = element_text(face = \"bold\")\n",
    "  )"
   ]
  },
  {
   "cell_type": "code",
   "execution_count": 73,
   "id": "0a43dc9b-1029-41f0-a51e-9bde3dc0c861",
   "metadata": {
    "tags": []
   },
   "outputs": [],
   "source": [
    "# create a melted correlation matrix\n",
    "corr_matrix_data <- data_num2 %>%\n",
    "  cor() %>%\n",
    "  as.data.frame() %>%\n",
    "  rownames_to_column(\"var1\") %>%\n",
    "  pivot_longer(-var1, names_to = \"var2\", values_to = \"corr\")"
   ]
  },
  {
   "cell_type": "code",
   "execution_count": 74,
   "id": "b4cb7f99-b7a4-44a2-a6a3-4e2b163f8346",
   "metadata": {
    "tags": []
   },
   "outputs": [],
   "source": [
    "# create a heatmap with correlation coefficients after dropping outliers\n",
    "plot_corr_matrix_data <- corr_matrix_data %>%\n",
    "  ggplot(aes(x = var1, y = var2)) +\n",
    "  geom_tile(aes(fill = corr), color = \"white\") +\n",
    "  scale_fill_distiller(\"Correlation Coefficient \\n\",\n",
    "    palette =  \"YlOrRd\",\n",
    "    direction = 1, limits = c(-1, 1)\n",
    "  ) +\n",
    "  labs(x = \"first input variable\", y = \"second input variable\") +\n",
    "  theme_minimal() +\n",
    "  theme(\n",
    "    axis.text.x = element_text(\n",
    "      angle = 45, vjust = 1,\n",
    "      size = 18, hjust = 1\n",
    "    ),\n",
    "    axis.text.y = element_text(\n",
    "      vjust = 1,\n",
    "      size = 18, hjust = 1\n",
    "    ),\n",
    "    legend.title = element_text(size = 18, face = \"bold\"),\n",
    "    legend.text = element_text(size = 18),\n",
    "    legend.key.size = unit(2, \"cm\")\n",
    "  ) +\n",
    "  coord_fixed() +\n",
    "  geom_text(aes(x = var1, y = var2, label = round(corr, 2)), color = \"black\", size = 6)\n"
   ]
  },
  {
   "cell_type": "markdown",
   "id": "aae8e38f-1307-45e4-81fd-90029c2c54f4",
   "metadata": {},
   "source": [
    "From the heatmap above, we can see that the most significant numeric predictor of `Stars` would be `Forks`, and the relationship of `Size` and the other three is the least correlated among these numerical variables."
   ]
  },
  {
   "cell_type": "code",
   "execution_count": 75,
   "id": "7ba90b17-9edc-4388-9417-38b97fb7c357",
   "metadata": {
    "tags": []
   },
   "outputs": [],
   "source": [
    "# recode categorical variables\n",
    "data_s$Has.Projects<-ifelse(data_s$Has.Projects==\"True\",1,0)\n",
    "data_s$Has.Wiki<-ifelse(data_s$Has.Wiki==\"True\",1,0)\n",
    "data_s$Has.Pages<-ifelse(data_s$Has.Pages==\"True\",1,0)\n",
    "data_s$Has.Discussions<-ifelse(data_s$Has.Discussions==\"True\",1,0)\n",
    "data_s$Is.Archived<-ifelse(data_s$Is.Archived==\"True\",1,0)\n",
    "data_s <- data_s %>%\n",
    "    mutate(Default.Branch = recode(Default.Branch, \"main\" = 0, \"master\" = 1))"
   ]
  },
  {
   "cell_type": "code",
   "execution_count": 76,
   "id": "8705c9a9-93a3-4b27-b07c-0f7a4877b065",
   "metadata": {
    "tags": []
   },
   "outputs": [],
   "source": [
    "# do last bit of wrangling\n",
    "data_s <- data_s %>%\n",
    "    select(-Name)"
   ]
  },
  {
   "cell_type": "markdown",
   "id": "06e4e307-222f-4273-9399-5d2a5af37040",
   "metadata": {},
   "source": [
    "## Methods and Plan"
   ]
  },
  {
   "cell_type": "markdown",
   "id": "e82fa6bf-3ca5-420a-a62d-92218cdbc229",
   "metadata": {},
   "source": [
    "Since we are doing a prediction question - What characteristic(s) of the GitHub repository can help to predict the number of stars/likes the repository received, we are going to first split the sample data into training set and testing set using a 70-30 basis, use training set to determine a well-trained model using Linear Regression, and test our model using the testing set.\n",
    "\n",
    "Using the forward stepwise selection, we can use the BIC (Bayesian Information Criterion) of each model to select the model, since we want the model to be predictive rather than generative. We can also plot the Cp plot of the model out and select the minimum Cp model. Also, BIC can be used to approximate the test MSE, without looking at the test data.\n",
    "\n",
    "One potential limitation of the methods is that our test would depend on the random split of the data, and different split might lead to different selection of variables to the best predictive model. Also, since we are using the random sample from a large dataset, it might not be accurate enough to capture the full population."
   ]
  },
  {
   "cell_type": "markdown",
   "id": "547baa0e-ddbc-4260-badc-feb74b3f52ef",
   "metadata": {},
   "source": [
    "## Implementation of a Proposed Model"
   ]
  },
  {
   "cell_type": "code",
   "execution_count": 77,
   "id": "95f1b1f4-b949-41a2-91d0-3116eacaa0f1",
   "metadata": {
    "tags": []
   },
   "outputs": [],
   "source": [
    "data_s$ID <- rownames(data_s)\n",
    "training_data <- sample_n(data_s, size = nrow(data_s) * 0.70,\n",
    "  replace = FALSE\n",
    ")\n",
    "\n",
    "testing_data <- anti_join(data_s,\n",
    "  training_data,\n",
    "  by = \"ID\"\n",
    ")\n",
    "\n",
    "training_data <- training_data %>% select(-\"ID\")\n",
    "testing_data <- testing_data %>% select(-\"ID\")\n"
   ]
  },
  {
   "cell_type": "code",
   "execution_count": 78,
   "id": "75fe3f3b-0529-4aef-a6d5-9eaf2597c723",
   "metadata": {
    "tags": []
   },
   "outputs": [],
   "source": [
    "# build an additive predictive model\n",
    "data_full_OLS <- lm(Stars ~ .,\n",
    "  training_data\n",
    ")\n",
    "# data_full_OLS"
   ]
  },
  {
   "cell_type": "code",
   "execution_count": 79,
   "id": "25d289f1-f476-49fb-8513-574951c615af",
   "metadata": {
    "tags": []
   },
   "outputs": [
    {
     "data": {
      "text/html": [
       "<style>\n",
       ".dl-inline {width: auto; margin:0; padding: 0}\n",
       ".dl-inline>dt, .dl-inline>dd {float: none; width: auto; display: inline-block}\n",
       ".dl-inline>dt::after {content: \":\\0020\"; padding-right: .5ex}\n",
       ".dl-inline>dt:not(:first-of-type) {padding-left: .5ex}\n",
       "</style><dl class=dl-inline><dt>1</dt><dd>397.671054810625</dd><dt>2</dt><dd>445.422083376367</dd><dt>3</dt><dd>425.625031738785</dd><dt>4</dt><dd>394.430020166733</dd><dt>5</dt><dd>342.178395778562</dd><dt>6</dt><dd>301.066642404718</dd></dl>\n"
      ],
      "text/latex": [
       "\\begin{description*}\n",
       "\\item[1] 397.671054810625\n",
       "\\item[2] 445.422083376367\n",
       "\\item[3] 425.625031738785\n",
       "\\item[4] 394.430020166733\n",
       "\\item[5] 342.178395778562\n",
       "\\item[6] 301.066642404718\n",
       "\\end{description*}\n"
      ],
      "text/markdown": [
       "1\n",
       ":   397.6710548106252\n",
       ":   445.4220833763673\n",
       ":   425.6250317387854\n",
       ":   394.4300201667335\n",
       ":   342.1783957785626\n",
       ":   301.066642404718\n",
       "\n"
      ],
      "text/plain": [
       "       1        2        3        4        5        6 \n",
       "397.6711 445.4221 425.6250 394.4300 342.1784 301.0666 "
      ]
     },
     "metadata": {},
     "output_type": "display_data"
    }
   ],
   "source": [
    "# obtain the (out-of-sample) predicted values\n",
    "data_test_pred_full_OLS <- predict(data_full_OLS, newdata = testing_data)\n",
    "head(data_test_pred_full_OLS)"
   ]
  },
  {
   "cell_type": "code",
   "execution_count": 80,
   "id": "9df27d55-3f1f-4e4b-93c8-f7e0b8fc69dd",
   "metadata": {
    "tags": []
   },
   "outputs": [],
   "source": [
    "# compute the Root Mean Squared Error (RMSE) using data from the test set \n",
    "data_RMSE_models <- tibble(\n",
    "  Model = \"OLS Full Regression\",\n",
    "  RMSE = rmse(\n",
    "    data_test_pred_full_OLS,\n",
    "    testing_data$Stars\n",
    "  )\n",
    ")\n",
    "# data_RMSE_models"
   ]
  },
  {
   "cell_type": "code",
   "execution_count": 81,
   "id": "b947853c-b062-41b3-bc31-0d2b39184adb",
   "metadata": {
    "tags": []
   },
   "outputs": [],
   "source": [
    "# select a reduced LR using the forward selection algorithm from training set\n",
    "data_forward_sel <- regsubsets(\n",
    "  x = Stars ~., nvmax = 9,\n",
    "  data = training_data,\n",
    "  method = \"forward\"\n",
    ")\n",
    "# data_forward_sel\n",
    "\n",
    "data_fwd_summary <- summary(data_forward_sel)\n",
    "\n",
    "data_fwd_summary <- tibble(\n",
    "   n_input_variables = 1:9,\n",
    "   RSS = data_fwd_summary$rss,\n",
    "   BIC = data_fwd_summary$bic,\n",
    "   Cp = data_fwd_summary$cp\n",
    ")\n"
   ]
  },
  {
   "cell_type": "code",
   "execution_count": 82,
   "id": "8b49f461-13de-4b61-912a-c7678562153c",
   "metadata": {
    "tags": []
   },
   "outputs": [],
   "source": [
    "# data_fwd_summary\n",
    "# summary(data_forward_sel)"
   ]
  },
  {
   "cell_type": "code",
   "execution_count": 83,
   "id": "bc84b6ef-72ab-489b-ac38-71383ccbd57a",
   "metadata": {
    "tags": []
   },
   "outputs": [],
   "source": [
    "# Identify the size of the model that minimizes Cp\n",
    "cp_min = which.min(data_fwd_summary$Cp)\n",
    "\n",
    "# Find the name of the variables for the best model\n",
    "selected_var <- names(coef(data_forward_sel, cp_min))[-1]\n",
    "\n",
    "# Reduce dataset to only include the selected predictors\n",
    "training_subset <- training_data %>% select(all_of(selected_var),Stars)\n",
    "\n",
    "# Train the predictive model\n",
    "data_red_OLS <- lm(Stars ~ .,\n",
    "  data = training_subset\n",
    ")\n",
    "\n",
    "# summary(data_red_OLS)"
   ]
  },
  {
   "cell_type": "code",
   "execution_count": 84,
   "id": "9cf4caa7-5238-42ca-8438-a05c7e1017d3",
   "metadata": {
    "tags": []
   },
   "outputs": [],
   "source": [
    "# use the trained model to predict the responses of the testing set\n",
    "data_test_pred_red_OLS <- predict(data_red_OLS, newdata = testing_data)"
   ]
  },
  {
   "cell_type": "code",
   "execution_count": 85,
   "id": "7cace818-0ee8-492c-a66d-501f8b249fc1",
   "metadata": {
    "tags": []
   },
   "outputs": [
    {
     "data": {
      "text/html": [
       "<table class=\"dataframe\">\n",
       "<caption>A tibble: 2 × 2</caption>\n",
       "<thead>\n",
       "\t<tr><th scope=col>Model</th><th scope=col>RMSE</th></tr>\n",
       "\t<tr><th scope=col>&lt;chr&gt;</th><th scope=col>&lt;dbl&gt;</th></tr>\n",
       "</thead>\n",
       "<tbody>\n",
       "\t<tr><td>OLS Full Regression   </td><td>231.3900</td></tr>\n",
       "\t<tr><td>OLS Reduced Regression</td><td>231.9106</td></tr>\n",
       "</tbody>\n",
       "</table>\n"
      ],
      "text/latex": [
       "A tibble: 2 × 2\n",
       "\\begin{tabular}{ll}\n",
       " Model & RMSE\\\\\n",
       " <chr> & <dbl>\\\\\n",
       "\\hline\n",
       "\t OLS Full Regression    & 231.3900\\\\\n",
       "\t OLS Reduced Regression & 231.9106\\\\\n",
       "\\end{tabular}\n"
      ],
      "text/markdown": [
       "\n",
       "A tibble: 2 × 2\n",
       "\n",
       "| Model &lt;chr&gt; | RMSE &lt;dbl&gt; |\n",
       "|---|---|\n",
       "| OLS Full Regression    | 231.3900 |\n",
       "| OLS Reduced Regression | 231.9106 |\n",
       "\n"
      ],
      "text/plain": [
       "  Model                  RMSE    \n",
       "1 OLS Full Regression    231.3900\n",
       "2 OLS Reduced Regression 231.9106"
      ]
     },
     "metadata": {},
     "output_type": "display_data"
    }
   ],
   "source": [
    "# compute the RMSE of predicted stars in testing set\n",
    "data_RMSE_models <- rbind(\n",
    "  data_RMSE_models,\n",
    "  tibble(\n",
    "    Model = \"OLS Reduced Regression\",\n",
    "    RMSE = rmse(data_test_pred_red_OLS, testing_data$Stars)\n",
    "    )\n",
    "  )\n",
    "data_RMSE_models"
   ]
  },
  {
   "cell_type": "markdown",
   "id": "2c7bc6b1-9ff1-4699-a276-863246cb6882",
   "metadata": {},
   "source": [
    "It turns out that the full regression model has a better out-of-sample prediction performance compared to our reduced ones. However, note that this is only a one-time estimate of the true test RMSE based on a random split of the data. If we split the data in a different way, we might be very likely to obtain a different result, given that the RMSE value difference between the full regression and the reduced regression is trivial."
   ]
  },
  {
   "cell_type": "markdown",
   "id": "0fd5dd20-153f-4f4a-90df-910f655c5ddc",
   "metadata": {},
   "source": [
    "Note: Since the teaching team said on Piazza that we should only keep one table/visualization in our entire assignment 4, I kept the very last result table and commented out other output codes."
   ]
  },
  {
   "cell_type": "code",
   "execution_count": null,
   "id": "dd4623de-5fb4-4fa8-a8ce-3cad235352eb",
   "metadata": {},
   "outputs": [],
   "source": []
  }
 ],
 "metadata": {
  "kernelspec": {
   "display_name": "R",
   "language": "R",
   "name": "ir"
  },
  "language_info": {
   "codemirror_mode": "r",
   "file_extension": ".r",
   "mimetype": "text/x-r-source",
   "name": "R",
   "pygments_lexer": "r",
   "version": "4.2.3"
  }
 },
 "nbformat": 4,
 "nbformat_minor": 5
}
