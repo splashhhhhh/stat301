{
 "cells": [
  {
   "cell_type": "markdown",
   "id": "35fecdb0-a6ef-4a99-9baf-68a6cbae20aa",
   "metadata": {
    "tags": []
   },
   "source": [
    "# **Final Group Report**\n",
    "#### *Group 11: Calvin Choi, Ruby Liu, Muhan Yang, Leon Zhang*"
   ]
  },
  {
   "cell_type": "code",
   "execution_count": 3,
   "id": "3e29ea65-6541-49ae-a7a9-a0c37bb1615e",
   "metadata": {},
   "outputs": [
    {
     "name": "stderr",
     "output_type": "stream",
     "text": [
      "── \u001b[1mAttaching core tidyverse packages\u001b[22m ──────────────────────────────────────────────────────────────── tidyverse 2.0.0 ──\n",
      "\u001b[32m✔\u001b[39m \u001b[34mdplyr    \u001b[39m 1.1.4     \u001b[32m✔\u001b[39m \u001b[34mreadr    \u001b[39m 2.1.5\n",
      "\u001b[32m✔\u001b[39m \u001b[34mforcats  \u001b[39m 1.0.0     \u001b[32m✔\u001b[39m \u001b[34mstringr  \u001b[39m 1.5.1\n",
      "\u001b[32m✔\u001b[39m \u001b[34mggplot2  \u001b[39m 3.4.4     \u001b[32m✔\u001b[39m \u001b[34mtibble   \u001b[39m 3.2.1\n",
      "\u001b[32m✔\u001b[39m \u001b[34mlubridate\u001b[39m 1.9.3     \u001b[32m✔\u001b[39m \u001b[34mtidyr    \u001b[39m 1.3.0\n",
      "\u001b[32m✔\u001b[39m \u001b[34mpurrr    \u001b[39m 1.0.2     \n",
      "── \u001b[1mConflicts\u001b[22m ────────────────────────────────────────────────────────────────────────────────── tidyverse_conflicts() ──\n",
      "\u001b[31m✖\u001b[39m \u001b[34mdplyr\u001b[39m::\u001b[32mfilter()\u001b[39m masks \u001b[34mstats\u001b[39m::filter()\n",
      "\u001b[31m✖\u001b[39m \u001b[34mdplyr\u001b[39m::\u001b[32mlag()\u001b[39m    masks \u001b[34mstats\u001b[39m::lag()\n",
      "\u001b[36mℹ\u001b[39m Use the conflicted package (\u001b[3m\u001b[34m<http://conflicted.r-lib.org/>\u001b[39m\u001b[23m) to force all conflicts to become errors\n"
     ]
    },
    {
     "ename": "ERROR",
     "evalue": "Error in library(mltools): there is no package called 'mltools'\n",
     "output_type": "error",
     "traceback": [
      "Error in library(mltools): there is no package called 'mltools'\nTraceback:\n",
      "1. library(mltools)"
     ]
    }
   ],
   "source": [
    "# import R libraries\n",
    "library(tidyverse)\n",
    "library(mltools)\n",
    "library(leaps)\n",
    "library(ggplot2)\n",
    "library(moderndive)\n",
    "library(dplyr)\n",
    "library(gridExtra)\n",
    "library(reshape2)\n",
    "library(caret)\n",
    "library(glmnet)"
   ]
  },
  {
   "cell_type": "markdown",
   "id": "83505720-e447-49a1-b1cc-dc73c4cb68f9",
   "metadata": {
    "tags": []
   },
   "source": [
    "# Introduction"
   ]
  },
  {
   "cell_type": "markdown",
   "id": "74e1ede4-e447-4666-b25f-4132321ccc12",
   "metadata": {
    "tags": []
   },
   "source": [
    "GitHub is one of the largest collection of open source software in the world (Borges et al., 2016). One feature of hosted repositories in Github is that they allow GitHub users to ***star*** them, which is mainly used for fellow developers to show appreciation, manifest interest or satisfaction with the current project, or bookmark a certain repository for future utility (Begel et al., 2013). Past research has shown that factors such as programming languages, number of forks, number of commits, application domains, and so on may affect the number of stars a GitHub repository obtains, according to Borges et al. (2016).\n",
    "\n",
    "Our project investigates potential statistical models on various factors that might relate to numbers of stars in popular GitHub repositories, based on a dataset of information of the most popular GitHub repositories. The dataset we are using is the \"Most Popular Github Repositories (Projects)\" dataset from Kaggle (URL: https://www.kaggle.com/datasets/donbarbos/github-repos/data), which contains a list of top GitHub project repositories by the number of stars. The data is collected using GitHub search API and the query function to obtain projects with over 167 stars.\n",
    "\n",
    "The repositories dataset consists of 215,029 project repositories (i.e., rows/observations) and 24 columns (i.e., variables) in total. Of the 24 columns, there are five columns containing the integer type of data of repositories: `Size`, `Stars`, `Forks`, `Issues`, and `Watchers`, and the data type of the remaining 19 variables are characters. Of those 19 columns, there are nine binary variables that contain data coded as \"True\" or \"False\" - `Has.Issues`, `Has.Projects`, `Has.Downloads`, `Has.Wiki`, `Has.Pages`, `Has.Discussions`, `Is.Fork`, `Is.Archived`, and `Is.Template`. There are also two columns, consisting of temporal data as character data type, within the rest ten variables: `Created.At` and `Updated.At`.\n",
    "\n",
    "For our purposes of the project, we aim to build a predictive model and an inferential model using the number of stars as the outcome variable, and figure out the most significant factors/characteristics of a repository that impact its number of stars received. Here are our two questions:\n",
    "1. What characteristic(s) of a GitHub repository can help to predict the number of stars/likes the repository received?\n",
    "2. Can we predict the popularity of the repository? Using the response variable: `Stars`.\n",
    "\n",
    "The first one is mostly proposed for making predictions on the number of stars the top repositories received based on the data. This question is an exploratory one and is aiming to find a best predictive model for Stars, using the knowledge from model selection and evaluation.\n",
    "\n",
    "***!!! SAY SOMETHING ABOUT THE SECOND ONE?***"
   ]
  },
  {
   "cell_type": "markdown",
   "id": "43f59036-eece-4f72-b30c-57ed1f95d6cc",
   "metadata": {},
   "source": [
    "## Data Description"
   ]
  },
  {
   "cell_type": "markdown",
   "id": "dd3e0d36-e025-4d91-a203-8ac6978bb182",
   "metadata": {},
   "source": [
    "The dataset we were given is called the repository dataset from Kaggle. It is a dataset that lists the top 215k projects by star with over 167 stars on Github. This dataset contains data pertaining to the characteristics such as the size, creation date and homepage associated to the repo as well as its characteristics that tell us about its current state such as whether or not it has issues or projects. The dataset has a good diversity of numerical, text and categorical data which can also be combined to create metrics.\n",
    "The author of this dataset went through quite a tedious process to collect this data. They used the github search api and ran a query through it which would only allow the author to extract 1000 observations at a time. They were able to capture all the observation by changing the stars criteria by changing the min and max every time. This does raise the question on whether or not the author had trustworthy workflow to acquire the data as the repetition could compromise the data to human error.\n",
    "\n",
    "***!!! REPEATED INFO FROM THE DESCRIPTION THAT IS IN THE INTRODUCTION***"
   ]
  },
  {
   "cell_type": "markdown",
   "id": "e45b330d-56c6-49be-8858-e6ac3f799d92",
   "metadata": {},
   "source": [
    "### Breakdown of columns from Kaggle description\n",
    "\n",
    "| Variable Name | Data Type | Summary |\n",
    "| --- | --- | --- |\n",
    "| **`Name`** | chr (character) | The name of the GitHub repository |\n",
    "| **`Description`** | chr (character) | A brief textual description that summarizes the purpose or focus of the repository (may also include emojis) |\n",
    "| **`URL`** | chr (character | The URL or web address that links to the GitHub repository, which is a unique identified for the repository |\n",
    "| **`Created.At`** | dttm (date time) | The date and time when the repository was initially created on GitHub, in ISO 8601 format |\n",
    "| **`Updated.At`** | dttm (date time) | The date and time of the most recent update or modification to the repository, in ISO 8601 format |\n",
    "| **`Homepage`** | chr (character) | The URL to the homepage or landing page associated with the repository, providing additional information or resources |\n",
    "| **`Size`** | dbl (double) | The size of the repository in bytes, indicating the total storage space used by the repository's files and data |\n",
    "| **`Stars`** | dbl (double) | The number of stars or likes that the repository has received from other GitHub users, indicating its popularity or interest |\n",
    "| **`Forks`** | dbl (double) | The number of times the repository has been forked by other GitHub users |\n",
    "| **`Issues`** | dbl (double) | The total number of open issues (items that can be created to plan, discuss, and track work) |\n",
    "| **`Watchers`** | dbl (double) | The number of GitHub users who are \"watching\" or monitoring the repository for updates and changes |\n",
    "| **`Language`** | chr (character) | The primary programming language |\n",
    "| **`License`** | chr (character) | Information about the software license using a license identifier |\n",
    "| **`Topics`** | chr (character) | A list of topics or tags associated with the repository, helping users discover related projects and topics of interest |\n",
    "| **`Has.Issues`** | lgl (logical) | A boolean value indicating whether or not the repository has an issue tracker enabled (if true, then the repository has an issue tracker) |\n",
    "| **`Has.Projects`** | lgl (logical) | A boolean value indicating whether the repository uses GitHub Projects to manage and organize tasks and work items |\n",
    "| **`Has.Downloads`** | lgl (logical) | A boolean value indicating whether the repository offers downloadable files or assets to users |\n",
    "| **`Has.Wiki`** | lgl (logical) | A boolean value indicating whether the repository has an associated wiki with additional documentation and information |\n",
    "| **`Has.Pages`** | lgl (logical) | A boolean value indicating whether the repository has GitHub Pages enabled, allowing the creation of a website associated with the repository |\n",
    "| **`Has.Discussions`** | lgl (logical) | A boolean value indicating whether the repository has GitHub Discussions enabled, allowing community discussions and information |\n",
    "| **`Is.Fork`** | lgl (logical) | A boolean value indicating whether the repository is a fork of another repository (if false, then the repository is not a fork) |\n",
    "| **`Is.Archived`** | lgl (logical) | A boolean value indicating whether the repository is archived (typically read-only and no longer actively maintained) |\n",
    "| **`Is.Template`** | lgl (logical) | A boolean value indicating whether the repository is set up as a template |\n",
    "| **`Default.Branch`** | chr (character) | The name of the default branch |"
   ]
  },
  {
   "cell_type": "markdown",
   "id": "12647803-7bf4-42c6-b27b-0646a4953e40",
   "metadata": {},
   "source": [
    "# Methods and Results"
   ]
  },
  {
   "cell_type": "markdown",
   "id": "b3530c8c-0352-4d3b-8383-273718abeabb",
   "metadata": {},
   "source": [
    "## Exploratory Data Analysis"
   ]
  },
  {
   "cell_type": "markdown",
   "id": "e4b54ea1-9ccc-49c7-92ab-58947d5d112b",
   "metadata": {
    "tags": []
   },
   "source": [
    "### Data Wrangling"
   ]
  },
  {
   "cell_type": "code",
   "execution_count": 25,
   "id": "1e3b20a2-5969-4d4a-a89e-5daa21fcf5f3",
   "metadata": {
    "tags": []
   },
   "outputs": [],
   "source": [
    "# reading from the web into R using a github link to csv dataset\n",
    "link <- \"https://raw.githubusercontent.com/splashhhhhh/stat301/main/repositories.csv\"\n",
    "\n",
    "# read data\n",
    "data <- read.csv(link)"
   ]
  },
  {
   "cell_type": "code",
   "execution_count": 26,
   "id": "658f5898-c5dc-43c1-a7c3-c5827cb644bc",
   "metadata": {
    "tags": []
   },
   "outputs": [
    {
     "data": {
      "text/html": [
       "<table class=\"dataframe\">\n",
       "<caption>A data.frame: 6 × 24</caption>\n",
       "<thead>\n",
       "\t<tr><th></th><th scope=col>Name</th><th scope=col>Description</th><th scope=col>URL</th><th scope=col>Created.At</th><th scope=col>Updated.At</th><th scope=col>Homepage</th><th scope=col>Size</th><th scope=col>Stars</th><th scope=col>Forks</th><th scope=col>Issues</th><th scope=col>⋯</th><th scope=col>Has.Issues</th><th scope=col>Has.Projects</th><th scope=col>Has.Downloads</th><th scope=col>Has.Wiki</th><th scope=col>Has.Pages</th><th scope=col>Has.Discussions</th><th scope=col>Is.Fork</th><th scope=col>Is.Archived</th><th scope=col>Is.Template</th><th scope=col>Default.Branch</th></tr>\n",
       "\t<tr><th></th><th scope=col>&lt;chr&gt;</th><th scope=col>&lt;chr&gt;</th><th scope=col>&lt;chr&gt;</th><th scope=col>&lt;chr&gt;</th><th scope=col>&lt;chr&gt;</th><th scope=col>&lt;chr&gt;</th><th scope=col>&lt;int&gt;</th><th scope=col>&lt;int&gt;</th><th scope=col>&lt;int&gt;</th><th scope=col>&lt;int&gt;</th><th scope=col>⋯</th><th scope=col>&lt;chr&gt;</th><th scope=col>&lt;chr&gt;</th><th scope=col>&lt;chr&gt;</th><th scope=col>&lt;chr&gt;</th><th scope=col>&lt;chr&gt;</th><th scope=col>&lt;chr&gt;</th><th scope=col>&lt;chr&gt;</th><th scope=col>&lt;chr&gt;</th><th scope=col>&lt;chr&gt;</th><th scope=col>&lt;chr&gt;</th></tr>\n",
       "</thead>\n",
       "<tbody>\n",
       "\t<tr><th scope=row>1</th><td>freeCodeCamp               </td><td>freeCodeCamp.org's open-source codebase and curriculum. Learn to code for free.         </td><td>https://github.com/freeCodeCamp/freeCodeCamp             </td><td>2014-12-24T17:49:19Z</td><td>2023-09-21T11:32:33Z</td><td>http://contribute.freecodecamp.org/                      </td><td>387451</td><td>374074</td><td>33599</td><td>  248</td><td>⋯</td><td>True </td><td>True </td><td>True</td><td>False</td><td>True </td><td>False</td><td>False</td><td>False</td><td>False</td><td>main  </td></tr>\n",
       "\t<tr><th scope=row>2</th><td>free-programming-books     </td><td>:books: Freely available programming books                                              </td><td>https://github.com/EbookFoundation/free-programming-books</td><td>2013-10-11T06:50:37Z</td><td>2023-09-21T11:09:25Z</td><td>https://ebookfoundation.github.io/free-programming-books/</td><td> 17087</td><td>298393</td><td>57194</td><td>   46</td><td>⋯</td><td>True </td><td>False</td><td>True</td><td>False</td><td>True </td><td>False</td><td>False</td><td>False</td><td>False</td><td>main  </td></tr>\n",
       "\t<tr><th scope=row>3</th><td>awesome                    </td><td>😎 Awesome lists about all kinds of interesting topics                                  </td><td>https://github.com/sindresorhus/awesome                  </td><td>2014-07-11T13:42:37Z</td><td>2023-09-21T11:18:22Z</td><td>                                                         </td><td>  1441</td><td>269997</td><td>26485</td><td>   61</td><td>⋯</td><td>True </td><td>False</td><td>True</td><td>False</td><td>True </td><td>False</td><td>False</td><td>False</td><td>False</td><td>main  </td></tr>\n",
       "\t<tr><th scope=row>4</th><td>996.ICU                    </td><td>Repo for counting stars and contributing. Press F to pay respect to glorious developers.</td><td>https://github.com/996icu/996.ICU                        </td><td>2019-03-26T07:31:14Z</td><td>2023-09-21T08:09:01Z</td><td>https://996.icu                                          </td><td>187799</td><td>267901</td><td>21497</td><td>16712</td><td>⋯</td><td>False</td><td>False</td><td>True</td><td>False</td><td>False</td><td>False</td><td>False</td><td>True </td><td>False</td><td>master</td></tr>\n",
       "\t<tr><th scope=row>5</th><td>coding-interview-university</td><td>A complete computer science study plan to become a software engineer.                   </td><td>https://github.com/jwasham/coding-interview-university   </td><td>2016-06-06T02:34:12Z</td><td>2023-09-21T10:54:48Z</td><td>                                                         </td><td> 20998</td><td>265161</td><td>69434</td><td>   56</td><td>⋯</td><td>True </td><td>False</td><td>True</td><td>False</td><td>False</td><td>False</td><td>False</td><td>False</td><td>False</td><td>main  </td></tr>\n",
       "\t<tr><th scope=row>6</th><td>public-apis                </td><td>A collective list of free APIs                                                          </td><td>https://github.com/public-apis/public-apis               </td><td>2016-03-20T23:49:42Z</td><td>2023-09-21T11:22:06Z</td><td>http://public-apis.org                                   </td><td>  5088</td><td>256615</td><td>29254</td><td>  191</td><td>⋯</td><td>True </td><td>False</td><td>True</td><td>False</td><td>False</td><td>False</td><td>False</td><td>False</td><td>False</td><td>master</td></tr>\n",
       "</tbody>\n",
       "</table>\n"
      ],
      "text/latex": [
       "A data.frame: 6 × 24\n",
       "\\begin{tabular}{r|lllllllllllllllllllll}\n",
       "  & Name & Description & URL & Created.At & Updated.At & Homepage & Size & Stars & Forks & Issues & ⋯ & Has.Issues & Has.Projects & Has.Downloads & Has.Wiki & Has.Pages & Has.Discussions & Is.Fork & Is.Archived & Is.Template & Default.Branch\\\\\n",
       "  & <chr> & <chr> & <chr> & <chr> & <chr> & <chr> & <int> & <int> & <int> & <int> & ⋯ & <chr> & <chr> & <chr> & <chr> & <chr> & <chr> & <chr> & <chr> & <chr> & <chr>\\\\\n",
       "\\hline\n",
       "\t1 & freeCodeCamp                & freeCodeCamp.org's open-source codebase and curriculum. Learn to code for free.          & https://github.com/freeCodeCamp/freeCodeCamp              & 2014-12-24T17:49:19Z & 2023-09-21T11:32:33Z & http://contribute.freecodecamp.org/                       & 387451 & 374074 & 33599 &   248 & ⋯ & True  & True  & True & False & True  & False & False & False & False & main  \\\\\n",
       "\t2 & free-programming-books      & :books: Freely available programming books                                               & https://github.com/EbookFoundation/free-programming-books & 2013-10-11T06:50:37Z & 2023-09-21T11:09:25Z & https://ebookfoundation.github.io/free-programming-books/ &  17087 & 298393 & 57194 &    46 & ⋯ & True  & False & True & False & True  & False & False & False & False & main  \\\\\n",
       "\t3 & awesome                     & 😎 Awesome lists about all kinds of interesting topics                                   & https://github.com/sindresorhus/awesome                   & 2014-07-11T13:42:37Z & 2023-09-21T11:18:22Z &                                                           &   1441 & 269997 & 26485 &    61 & ⋯ & True  & False & True & False & True  & False & False & False & False & main  \\\\\n",
       "\t4 & 996.ICU                     & Repo for counting stars and contributing. Press F to pay respect to glorious developers. & https://github.com/996icu/996.ICU                         & 2019-03-26T07:31:14Z & 2023-09-21T08:09:01Z & https://996.icu                                           & 187799 & 267901 & 21497 & 16712 & ⋯ & False & False & True & False & False & False & False & True  & False & master\\\\\n",
       "\t5 & coding-interview-university & A complete computer science study plan to become a software engineer.                    & https://github.com/jwasham/coding-interview-university    & 2016-06-06T02:34:12Z & 2023-09-21T10:54:48Z &                                                           &  20998 & 265161 & 69434 &    56 & ⋯ & True  & False & True & False & False & False & False & False & False & main  \\\\\n",
       "\t6 & public-apis                 & A collective list of free APIs                                                           & https://github.com/public-apis/public-apis                & 2016-03-20T23:49:42Z & 2023-09-21T11:22:06Z & http://public-apis.org                                    &   5088 & 256615 & 29254 &   191 & ⋯ & True  & False & True & False & False & False & False & False & False & master\\\\\n",
       "\\end{tabular}\n"
      ],
      "text/markdown": [
       "\n",
       "A data.frame: 6 × 24\n",
       "\n",
       "| <!--/--> | Name &lt;chr&gt; | Description &lt;chr&gt; | URL &lt;chr&gt; | Created.At &lt;chr&gt; | Updated.At &lt;chr&gt; | Homepage &lt;chr&gt; | Size &lt;int&gt; | Stars &lt;int&gt; | Forks &lt;int&gt; | Issues &lt;int&gt; | ⋯ ⋯ | Has.Issues &lt;chr&gt; | Has.Projects &lt;chr&gt; | Has.Downloads &lt;chr&gt; | Has.Wiki &lt;chr&gt; | Has.Pages &lt;chr&gt; | Has.Discussions &lt;chr&gt; | Is.Fork &lt;chr&gt; | Is.Archived &lt;chr&gt; | Is.Template &lt;chr&gt; | Default.Branch &lt;chr&gt; |\n",
       "|---|---|---|---|---|---|---|---|---|---|---|---|---|---|---|---|---|---|---|---|---|---|\n",
       "| 1 | freeCodeCamp                | freeCodeCamp.org's open-source codebase and curriculum. Learn to code for free.          | https://github.com/freeCodeCamp/freeCodeCamp              | 2014-12-24T17:49:19Z | 2023-09-21T11:32:33Z | http://contribute.freecodecamp.org/                       | 387451 | 374074 | 33599 |   248 | ⋯ | True  | True  | True | False | True  | False | False | False | False | main   |\n",
       "| 2 | free-programming-books      | :books: Freely available programming books                                               | https://github.com/EbookFoundation/free-programming-books | 2013-10-11T06:50:37Z | 2023-09-21T11:09:25Z | https://ebookfoundation.github.io/free-programming-books/ |  17087 | 298393 | 57194 |    46 | ⋯ | True  | False | True | False | True  | False | False | False | False | main   |\n",
       "| 3 | awesome                     | 😎 Awesome lists about all kinds of interesting topics                                   | https://github.com/sindresorhus/awesome                   | 2014-07-11T13:42:37Z | 2023-09-21T11:18:22Z | <!----> |   1441 | 269997 | 26485 |    61 | ⋯ | True  | False | True | False | True  | False | False | False | False | main   |\n",
       "| 4 | 996.ICU                     | Repo for counting stars and contributing. Press F to pay respect to glorious developers. | https://github.com/996icu/996.ICU                         | 2019-03-26T07:31:14Z | 2023-09-21T08:09:01Z | https://996.icu                                           | 187799 | 267901 | 21497 | 16712 | ⋯ | False | False | True | False | False | False | False | True  | False | master |\n",
       "| 5 | coding-interview-university | A complete computer science study plan to become a software engineer.                    | https://github.com/jwasham/coding-interview-university    | 2016-06-06T02:34:12Z | 2023-09-21T10:54:48Z | <!----> |  20998 | 265161 | 69434 |    56 | ⋯ | True  | False | True | False | False | False | False | False | False | main   |\n",
       "| 6 | public-apis                 | A collective list of free APIs                                                           | https://github.com/public-apis/public-apis                | 2016-03-20T23:49:42Z | 2023-09-21T11:22:06Z | http://public-apis.org                                    |   5088 | 256615 | 29254 |   191 | ⋯ | True  | False | True | False | False | False | False | False | False | master |\n",
       "\n"
      ],
      "text/plain": [
       "  Name                       \n",
       "1 freeCodeCamp               \n",
       "2 free-programming-books     \n",
       "3 awesome                    \n",
       "4 996.ICU                    \n",
       "5 coding-interview-university\n",
       "6 public-apis                \n",
       "  Description                                                                             \n",
       "1 freeCodeCamp.org's open-source codebase and curriculum. Learn to code for free.         \n",
       "2 :books: Freely available programming books                                              \n",
       "3 😎 Awesome lists about all kinds of interesting topics                                  \n",
       "4 Repo for counting stars and contributing. Press F to pay respect to glorious developers.\n",
       "5 A complete computer science study plan to become a software engineer.                   \n",
       "6 A collective list of free APIs                                                          \n",
       "  URL                                                      \n",
       "1 https://github.com/freeCodeCamp/freeCodeCamp             \n",
       "2 https://github.com/EbookFoundation/free-programming-books\n",
       "3 https://github.com/sindresorhus/awesome                  \n",
       "4 https://github.com/996icu/996.ICU                        \n",
       "5 https://github.com/jwasham/coding-interview-university   \n",
       "6 https://github.com/public-apis/public-apis               \n",
       "  Created.At           Updated.At          \n",
       "1 2014-12-24T17:49:19Z 2023-09-21T11:32:33Z\n",
       "2 2013-10-11T06:50:37Z 2023-09-21T11:09:25Z\n",
       "3 2014-07-11T13:42:37Z 2023-09-21T11:18:22Z\n",
       "4 2019-03-26T07:31:14Z 2023-09-21T08:09:01Z\n",
       "5 2016-06-06T02:34:12Z 2023-09-21T10:54:48Z\n",
       "6 2016-03-20T23:49:42Z 2023-09-21T11:22:06Z\n",
       "  Homepage                                                  Size   Stars  Forks\n",
       "1 http://contribute.freecodecamp.org/                       387451 374074 33599\n",
       "2 https://ebookfoundation.github.io/free-programming-books/  17087 298393 57194\n",
       "3                                                             1441 269997 26485\n",
       "4 https://996.icu                                           187799 267901 21497\n",
       "5                                                            20998 265161 69434\n",
       "6 http://public-apis.org                                      5088 256615 29254\n",
       "  Issues ⋯ Has.Issues Has.Projects Has.Downloads Has.Wiki Has.Pages\n",
       "1   248  ⋯ True       True         True          False    True     \n",
       "2    46  ⋯ True       False        True          False    True     \n",
       "3    61  ⋯ True       False        True          False    True     \n",
       "4 16712  ⋯ False      False        True          False    False    \n",
       "5    56  ⋯ True       False        True          False    False    \n",
       "6   191  ⋯ True       False        True          False    False    \n",
       "  Has.Discussions Is.Fork Is.Archived Is.Template Default.Branch\n",
       "1 False           False   False       False       main          \n",
       "2 False           False   False       False       main          \n",
       "3 False           False   False       False       main          \n",
       "4 False           False   True        False       master        \n",
       "5 False           False   False       False       main          \n",
       "6 False           False   False       False       master        "
      ]
     },
     "metadata": {},
     "output_type": "display_data"
    }
   ],
   "source": [
    "head(data)"
   ]
  },
  {
   "cell_type": "code",
   "execution_count": 6,
   "id": "6d52a79e-9a6d-4f0e-80d0-d9d4d9f26794",
   "metadata": {},
   "outputs": [
    {
     "data": {
      "text/plain": [
       "     Name           Description            URL             Created.At       \n",
       " Length:215029      Length:215029      Length:215029      Length:215029     \n",
       " Class :character   Class :character   Class :character   Class :character  \n",
       " Mode  :character   Mode  :character   Mode  :character   Mode  :character  \n",
       "                                                                            \n",
       "                                                                            \n",
       "                                                                            \n",
       "  Updated.At          Homepage              Size               Stars       \n",
       " Length:215029      Length:215029      Min.   :        0   Min.   :   167  \n",
       " Class :character   Class :character   1st Qu.:      378   1st Qu.:   237  \n",
       " Mode  :character   Mode  :character   Median :     2389   Median :   377  \n",
       "                                       Mean   :    54283   Mean   :  1115  \n",
       "                                       3rd Qu.:    15282   3rd Qu.:   797  \n",
       "                                       Max.   :105078627   Max.   :374074  \n",
       "     Forks              Issues            Watchers        Language        \n",
       " Min.   :     0.0   Min.   :    0.00   Min.   :   167   Length:215029     \n",
       " 1st Qu.:    39.0   1st Qu.:    3.00   1st Qu.:   237   Class :character  \n",
       " Median :    79.0   Median :   10.00   Median :   377   Mode  :character  \n",
       " Mean   :   234.2   Mean   :   37.92   Mean   :  1115                     \n",
       " 3rd Qu.:   174.0   3rd Qu.:   28.00   3rd Qu.:   797                     \n",
       " Max.   :243339.0   Max.   :26543.00   Max.   :374074                     \n",
       "   License             Topics           Has.Issues        Has.Projects      \n",
       " Length:215029      Length:215029      Length:215029      Length:215029     \n",
       " Class :character   Class :character   Class :character   Class :character  \n",
       " Mode  :character   Mode  :character   Mode  :character   Mode  :character  \n",
       "                                                                            \n",
       "                                                                            \n",
       "                                                                            \n",
       " Has.Downloads        Has.Wiki          Has.Pages         Has.Discussions   \n",
       " Length:215029      Length:215029      Length:215029      Length:215029     \n",
       " Class :character   Class :character   Class :character   Class :character  \n",
       " Mode  :character   Mode  :character   Mode  :character   Mode  :character  \n",
       "                                                                            \n",
       "                                                                            \n",
       "                                                                            \n",
       "   Is.Fork          Is.Archived        Is.Template        Default.Branch    \n",
       " Length:215029      Length:215029      Length:215029      Length:215029     \n",
       " Class :character   Class :character   Class :character   Class :character  \n",
       " Mode  :character   Mode  :character   Mode  :character   Mode  :character  \n",
       "                                                                            \n",
       "                                                                            \n",
       "                                                                            "
      ]
     },
     "metadata": {},
     "output_type": "display_data"
    }
   ],
   "source": [
    "summary(data)"
   ]
  },
  {
   "cell_type": "markdown",
   "id": "50be1552-b858-425f-aedb-9e83c1f5575f",
   "metadata": {},
   "source": [
    "We can see that we may have some outliers in our data by looking at the median and mean values and comparing it to the max value. For example, observe the summary of `Size`."
   ]
  },
  {
   "cell_type": "code",
   "execution_count": 7,
   "id": "1b46ea87-4cb4-41a8-baac-4f612f1d01f3",
   "metadata": {},
   "outputs": [
    {
     "name": "stdout",
     "output_type": "stream",
     "text": [
      "           Name     Description             URL      Created.At      Updated.At \n",
      "              0               0               0               0               0 \n",
      "       Homepage            Size           Stars           Forks          Issues \n",
      "              0               0               0               0               0 \n",
      "       Watchers        Language         License          Topics      Has.Issues \n",
      "              0               0               0               0               0 \n",
      "   Has.Projects   Has.Downloads        Has.Wiki       Has.Pages Has.Discussions \n",
      "              0               0               0               0               0 \n",
      "        Is.Fork     Is.Archived     Is.Template  Default.Branch \n",
      "              0               0               0               0 \n"
     ]
    }
   ],
   "source": [
    "na_counts <- colSums(is.na(data)) # check for NA values\n",
    "print(na_counts)"
   ]
  },
  {
   "cell_type": "markdown",
   "id": "f633a985-05f4-4d75-9b66-1b4d663ac3c5",
   "metadata": {},
   "source": [
    "At this point, we can already recognize some columns that will either be out of the scope of this course's analysis or likely be noise in our models:\n",
    "\n",
    "- `Name`: likely noise, too difficult to Bag of Words encode\n",
    "- `Description`: likely noise, too difficult to Bag of Words encode\n",
    "- `URL`: likely noise, could turn into binary (Yes/No URL)\n",
    "- `Created.At`/`Updated.At`: could encode date, however that would be difficult given the scope what we have learned in this course\n",
    "- `Homepage`: likely noise, could turn into binary (Yes/No URL)\n",
    "- `Language`: could be meaningful but we would probably want to impute NA values\n",
    "- `License`: again, could be meaningful but we would probably want to impute NA values\n",
    "- `Topics`: formatted in a way where we can't handle the data (List of topics (str)), so for now we can remove it and hopefully we can deal with it later"
   ]
  },
  {
   "cell_type": "markdown",
   "id": "3dee754a-2188-47f0-80e3-ea3cc000468e",
   "metadata": {},
   "source": [
    "For the `Default.Branch` column, most of its data is either main and master. Therefore, we will filter out the rest."
   ]
  },
  {
   "cell_type": "code",
   "execution_count": 8,
   "id": "acf485aa-9130-4802-9f64-e11b0d25640a",
   "metadata": {},
   "outputs": [],
   "source": [
    "# filter default branch to contain only main and master\n",
    "data <- data %>%\n",
    "    filter(Default.Branch == \"main\" | Default.Branch == \"master\")"
   ]
  },
  {
   "cell_type": "code",
   "execution_count": 27,
   "id": "fb761f4a-af55-4f9c-953f-0ee9248a69fa",
   "metadata": {
    "tags": []
   },
   "outputs": [
    {
     "data": {
      "text/html": [
       "<table class=\"dataframe\">\n",
       "<caption>A data.frame: 6 × 15</caption>\n",
       "<thead>\n",
       "\t<tr><th></th><th scope=col>Size</th><th scope=col>Stars</th><th scope=col>Forks</th><th scope=col>Issues</th><th scope=col>Watchers</th><th scope=col>Has.Issues</th><th scope=col>Has.Projects</th><th scope=col>Has.Downloads</th><th scope=col>Has.Wiki</th><th scope=col>Has.Pages</th><th scope=col>Has.Discussions</th><th scope=col>Is.Fork</th><th scope=col>Is.Archived</th><th scope=col>Is.Template</th><th scope=col>Default.Branch</th></tr>\n",
       "\t<tr><th></th><th scope=col>&lt;int&gt;</th><th scope=col>&lt;int&gt;</th><th scope=col>&lt;int&gt;</th><th scope=col>&lt;int&gt;</th><th scope=col>&lt;int&gt;</th><th scope=col>&lt;chr&gt;</th><th scope=col>&lt;chr&gt;</th><th scope=col>&lt;chr&gt;</th><th scope=col>&lt;chr&gt;</th><th scope=col>&lt;chr&gt;</th><th scope=col>&lt;chr&gt;</th><th scope=col>&lt;chr&gt;</th><th scope=col>&lt;chr&gt;</th><th scope=col>&lt;chr&gt;</th><th scope=col>&lt;chr&gt;</th></tr>\n",
       "</thead>\n",
       "<tbody>\n",
       "\t<tr><th scope=row>1</th><td>387451</td><td>374074</td><td>33599</td><td>  248</td><td>374074</td><td>True </td><td>True </td><td>True</td><td>False</td><td>True </td><td>False</td><td>False</td><td>False</td><td>False</td><td>main  </td></tr>\n",
       "\t<tr><th scope=row>2</th><td> 17087</td><td>298393</td><td>57194</td><td>   46</td><td>298393</td><td>True </td><td>False</td><td>True</td><td>False</td><td>True </td><td>False</td><td>False</td><td>False</td><td>False</td><td>main  </td></tr>\n",
       "\t<tr><th scope=row>3</th><td>  1441</td><td>269997</td><td>26485</td><td>   61</td><td>269997</td><td>True </td><td>False</td><td>True</td><td>False</td><td>True </td><td>False</td><td>False</td><td>False</td><td>False</td><td>main  </td></tr>\n",
       "\t<tr><th scope=row>4</th><td>187799</td><td>267901</td><td>21497</td><td>16712</td><td>267901</td><td>False</td><td>False</td><td>True</td><td>False</td><td>False</td><td>False</td><td>False</td><td>True </td><td>False</td><td>master</td></tr>\n",
       "\t<tr><th scope=row>5</th><td> 20998</td><td>265161</td><td>69434</td><td>   56</td><td>265161</td><td>True </td><td>False</td><td>True</td><td>False</td><td>False</td><td>False</td><td>False</td><td>False</td><td>False</td><td>main  </td></tr>\n",
       "\t<tr><th scope=row>6</th><td>  5088</td><td>256615</td><td>29254</td><td>  191</td><td>256615</td><td>True </td><td>False</td><td>True</td><td>False</td><td>False</td><td>False</td><td>False</td><td>False</td><td>False</td><td>master</td></tr>\n",
       "</tbody>\n",
       "</table>\n"
      ],
      "text/latex": [
       "A data.frame: 6 × 15\n",
       "\\begin{tabular}{r|lllllllllllllll}\n",
       "  & Size & Stars & Forks & Issues & Watchers & Has.Issues & Has.Projects & Has.Downloads & Has.Wiki & Has.Pages & Has.Discussions & Is.Fork & Is.Archived & Is.Template & Default.Branch\\\\\n",
       "  & <int> & <int> & <int> & <int> & <int> & <chr> & <chr> & <chr> & <chr> & <chr> & <chr> & <chr> & <chr> & <chr> & <chr>\\\\\n",
       "\\hline\n",
       "\t1 & 387451 & 374074 & 33599 &   248 & 374074 & True  & True  & True & False & True  & False & False & False & False & main  \\\\\n",
       "\t2 &  17087 & 298393 & 57194 &    46 & 298393 & True  & False & True & False & True  & False & False & False & False & main  \\\\\n",
       "\t3 &   1441 & 269997 & 26485 &    61 & 269997 & True  & False & True & False & True  & False & False & False & False & main  \\\\\n",
       "\t4 & 187799 & 267901 & 21497 & 16712 & 267901 & False & False & True & False & False & False & False & True  & False & master\\\\\n",
       "\t5 &  20998 & 265161 & 69434 &    56 & 265161 & True  & False & True & False & False & False & False & False & False & main  \\\\\n",
       "\t6 &   5088 & 256615 & 29254 &   191 & 256615 & True  & False & True & False & False & False & False & False & False & master\\\\\n",
       "\\end{tabular}\n"
      ],
      "text/markdown": [
       "\n",
       "A data.frame: 6 × 15\n",
       "\n",
       "| <!--/--> | Size &lt;int&gt; | Stars &lt;int&gt; | Forks &lt;int&gt; | Issues &lt;int&gt; | Watchers &lt;int&gt; | Has.Issues &lt;chr&gt; | Has.Projects &lt;chr&gt; | Has.Downloads &lt;chr&gt; | Has.Wiki &lt;chr&gt; | Has.Pages &lt;chr&gt; | Has.Discussions &lt;chr&gt; | Is.Fork &lt;chr&gt; | Is.Archived &lt;chr&gt; | Is.Template &lt;chr&gt; | Default.Branch &lt;chr&gt; |\n",
       "|---|---|---|---|---|---|---|---|---|---|---|---|---|---|---|---|\n",
       "| 1 | 387451 | 374074 | 33599 |   248 | 374074 | True  | True  | True | False | True  | False | False | False | False | main   |\n",
       "| 2 |  17087 | 298393 | 57194 |    46 | 298393 | True  | False | True | False | True  | False | False | False | False | main   |\n",
       "| 3 |   1441 | 269997 | 26485 |    61 | 269997 | True  | False | True | False | True  | False | False | False | False | main   |\n",
       "| 4 | 187799 | 267901 | 21497 | 16712 | 267901 | False | False | True | False | False | False | False | True  | False | master |\n",
       "| 5 |  20998 | 265161 | 69434 |    56 | 265161 | True  | False | True | False | False | False | False | False | False | main   |\n",
       "| 6 |   5088 | 256615 | 29254 |   191 | 256615 | True  | False | True | False | False | False | False | False | False | master |\n",
       "\n"
      ],
      "text/plain": [
       "  Size   Stars  Forks Issues Watchers Has.Issues Has.Projects Has.Downloads\n",
       "1 387451 374074 33599   248  374074   True       True         True         \n",
       "2  17087 298393 57194    46  298393   True       False        True         \n",
       "3   1441 269997 26485    61  269997   True       False        True         \n",
       "4 187799 267901 21497 16712  267901   False      False        True         \n",
       "5  20998 265161 69434    56  265161   True       False        True         \n",
       "6   5088 256615 29254   191  256615   True       False        True         \n",
       "  Has.Wiki Has.Pages Has.Discussions Is.Fork Is.Archived Is.Template\n",
       "1 False    True      False           False   False       False      \n",
       "2 False    True      False           False   False       False      \n",
       "3 False    True      False           False   False       False      \n",
       "4 False    False     False           False   True        False      \n",
       "5 False    False     False           False   False       False      \n",
       "6 False    False     False           False   False       False      \n",
       "  Default.Branch\n",
       "1 main          \n",
       "2 main          \n",
       "3 main          \n",
       "4 master        \n",
       "5 main          \n",
       "6 master        "
      ]
     },
     "metadata": {},
     "output_type": "display_data"
    }
   ],
   "source": [
    "# Columns to drop\n",
    "columns_to_drop <- c(\"Name\", \"Description\", \"URL\", \"Created.At\", \"Updated.At\", \"Homepage\", \"Language\", \"License\", 'Topics')\n",
    "\n",
    "# Create a new data frame excluding the specified columns\n",
    "dropped_data <- data[, !(names(data) %in% columns_to_drop)]\n",
    "head(dropped_data)"
   ]
  },
  {
   "cell_type": "code",
   "execution_count": 28,
   "id": "5872d27c-c8fe-44f5-a10b-c980068a5a8f",
   "metadata": {
    "tags": []
   },
   "outputs": [],
   "source": [
    "features_to_scale <- c(\"Size\", \"Forks\", \"Issues\", \"Watchers\")\n",
    "\n",
    "dropped_data[features_to_scale] <- as.data.frame(scale(dropped_data[features_to_scale]))"
   ]
  },
  {
   "cell_type": "code",
   "execution_count": 29,
   "id": "212a9deb-818d-4129-ac6c-373f62dcee50",
   "metadata": {
    "tags": []
   },
   "outputs": [
    {
     "data": {
      "text/html": [
       "<table class=\"dataframe\">\n",
       "<caption>A data.frame: 6 × 15</caption>\n",
       "<thead>\n",
       "\t<tr><th></th><th scope=col>Size</th><th scope=col>Stars</th><th scope=col>Forks</th><th scope=col>Issues</th><th scope=col>Watchers</th><th scope=col>Has.Issues</th><th scope=col>Has.Projects</th><th scope=col>Has.Downloads</th><th scope=col>Has.Wiki</th><th scope=col>Has.Pages</th><th scope=col>Has.Discussions</th><th scope=col>Is.Fork</th><th scope=col>Is.Archived</th><th scope=col>Is.Template</th><th scope=col>Default.Branch</th></tr>\n",
       "\t<tr><th></th><th scope=col>&lt;dbl&gt;</th><th scope=col>&lt;int&gt;</th><th scope=col>&lt;dbl&gt;</th><th scope=col>&lt;dbl&gt;</th><th scope=col>&lt;dbl&gt;</th><th scope=col>&lt;chr&gt;</th><th scope=col>&lt;chr&gt;</th><th scope=col>&lt;chr&gt;</th><th scope=col>&lt;chr&gt;</th><th scope=col>&lt;chr&gt;</th><th scope=col>&lt;chr&gt;</th><th scope=col>&lt;chr&gt;</th><th scope=col>&lt;chr&gt;</th><th scope=col>&lt;chr&gt;</th><th scope=col>&lt;chr&gt;</th></tr>\n",
       "</thead>\n",
       "<tbody>\n",
       "\t<tr><th scope=row>1</th><td> 0.47432990</td><td>374074</td><td>26.84285</td><td> 1.06903622</td><td>93.41788</td><td>True </td><td>True </td><td>True</td><td>False</td><td>True </td><td>False</td><td>False</td><td>False</td><td>False</td><td>main  </td></tr>\n",
       "\t<tr><th scope=row>2</th><td>-0.05295532</td><td>298393</td><td>45.82565</td><td> 0.04109144</td><td>74.46148</td><td>True </td><td>False</td><td>True</td><td>False</td><td>True </td><td>False</td><td>False</td><td>False</td><td>False</td><td>main  </td></tr>\n",
       "\t<tr><th scope=row>3</th><td>-0.07523044</td><td>269997</td><td>21.11945</td><td> 0.11742398</td><td>67.34891</td><td>True </td><td>False</td><td>True</td><td>False</td><td>True </td><td>False</td><td>False</td><td>False</td><td>False</td><td>main  </td></tr>\n",
       "\t<tr><th scope=row>4</th><td> 0.19008643</td><td>267901</td><td>17.10648</td><td>84.85162450</td><td>66.82391</td><td>False</td><td>False</td><td>True</td><td>False</td><td>False</td><td>False</td><td>False</td><td>True </td><td>False</td><td>master</td></tr>\n",
       "\t<tr><th scope=row>5</th><td>-0.04738725</td><td>265161</td><td>55.67305</td><td> 0.09197980</td><td>66.13760</td><td>True </td><td>False</td><td>True</td><td>False</td><td>False</td><td>False</td><td>False</td><td>False</td><td>False</td><td>main  </td></tr>\n",
       "\t<tr><th scope=row>6</th><td>-0.07003823</td><td>256615</td><td>23.34719</td><td> 0.77897260</td><td>63.99702</td><td>True </td><td>False</td><td>True</td><td>False</td><td>False</td><td>False</td><td>False</td><td>False</td><td>False</td><td>master</td></tr>\n",
       "</tbody>\n",
       "</table>\n"
      ],
      "text/latex": [
       "A data.frame: 6 × 15\n",
       "\\begin{tabular}{r|lllllllllllllll}\n",
       "  & Size & Stars & Forks & Issues & Watchers & Has.Issues & Has.Projects & Has.Downloads & Has.Wiki & Has.Pages & Has.Discussions & Is.Fork & Is.Archived & Is.Template & Default.Branch\\\\\n",
       "  & <dbl> & <int> & <dbl> & <dbl> & <dbl> & <chr> & <chr> & <chr> & <chr> & <chr> & <chr> & <chr> & <chr> & <chr> & <chr>\\\\\n",
       "\\hline\n",
       "\t1 &  0.47432990 & 374074 & 26.84285 &  1.06903622 & 93.41788 & True  & True  & True & False & True  & False & False & False & False & main  \\\\\n",
       "\t2 & -0.05295532 & 298393 & 45.82565 &  0.04109144 & 74.46148 & True  & False & True & False & True  & False & False & False & False & main  \\\\\n",
       "\t3 & -0.07523044 & 269997 & 21.11945 &  0.11742398 & 67.34891 & True  & False & True & False & True  & False & False & False & False & main  \\\\\n",
       "\t4 &  0.19008643 & 267901 & 17.10648 & 84.85162450 & 66.82391 & False & False & True & False & False & False & False & True  & False & master\\\\\n",
       "\t5 & -0.04738725 & 265161 & 55.67305 &  0.09197980 & 66.13760 & True  & False & True & False & False & False & False & False & False & main  \\\\\n",
       "\t6 & -0.07003823 & 256615 & 23.34719 &  0.77897260 & 63.99702 & True  & False & True & False & False & False & False & False & False & master\\\\\n",
       "\\end{tabular}\n"
      ],
      "text/markdown": [
       "\n",
       "A data.frame: 6 × 15\n",
       "\n",
       "| <!--/--> | Size &lt;dbl&gt; | Stars &lt;int&gt; | Forks &lt;dbl&gt; | Issues &lt;dbl&gt; | Watchers &lt;dbl&gt; | Has.Issues &lt;chr&gt; | Has.Projects &lt;chr&gt; | Has.Downloads &lt;chr&gt; | Has.Wiki &lt;chr&gt; | Has.Pages &lt;chr&gt; | Has.Discussions &lt;chr&gt; | Is.Fork &lt;chr&gt; | Is.Archived &lt;chr&gt; | Is.Template &lt;chr&gt; | Default.Branch &lt;chr&gt; |\n",
       "|---|---|---|---|---|---|---|---|---|---|---|---|---|---|---|---|\n",
       "| 1 |  0.47432990 | 374074 | 26.84285 |  1.06903622 | 93.41788 | True  | True  | True | False | True  | False | False | False | False | main   |\n",
       "| 2 | -0.05295532 | 298393 | 45.82565 |  0.04109144 | 74.46148 | True  | False | True | False | True  | False | False | False | False | main   |\n",
       "| 3 | -0.07523044 | 269997 | 21.11945 |  0.11742398 | 67.34891 | True  | False | True | False | True  | False | False | False | False | main   |\n",
       "| 4 |  0.19008643 | 267901 | 17.10648 | 84.85162450 | 66.82391 | False | False | True | False | False | False | False | True  | False | master |\n",
       "| 5 | -0.04738725 | 265161 | 55.67305 |  0.09197980 | 66.13760 | True  | False | True | False | False | False | False | False | False | main   |\n",
       "| 6 | -0.07003823 | 256615 | 23.34719 |  0.77897260 | 63.99702 | True  | False | True | False | False | False | False | False | False | master |\n",
       "\n"
      ],
      "text/plain": [
       "  Size        Stars  Forks    Issues      Watchers Has.Issues Has.Projects\n",
       "1  0.47432990 374074 26.84285  1.06903622 93.41788 True       True        \n",
       "2 -0.05295532 298393 45.82565  0.04109144 74.46148 True       False       \n",
       "3 -0.07523044 269997 21.11945  0.11742398 67.34891 True       False       \n",
       "4  0.19008643 267901 17.10648 84.85162450 66.82391 False      False       \n",
       "5 -0.04738725 265161 55.67305  0.09197980 66.13760 True       False       \n",
       "6 -0.07003823 256615 23.34719  0.77897260 63.99702 True       False       \n",
       "  Has.Downloads Has.Wiki Has.Pages Has.Discussions Is.Fork Is.Archived\n",
       "1 True          False    True      False           False   False      \n",
       "2 True          False    True      False           False   False      \n",
       "3 True          False    True      False           False   False      \n",
       "4 True          False    False     False           False   True       \n",
       "5 True          False    False     False           False   False      \n",
       "6 True          False    False     False           False   False      \n",
       "  Is.Template Default.Branch\n",
       "1 False       main          \n",
       "2 False       main          \n",
       "3 False       main          \n",
       "4 False       master        \n",
       "5 False       main          \n",
       "6 False       master        "
      ]
     },
     "metadata": {},
     "output_type": "display_data"
    }
   ],
   "source": [
    "processed_data <-  dropped_data\n",
    "head(processed_data)"
   ]
  },
  {
   "cell_type": "markdown",
   "id": "96f901dd-dbfb-43bd-b7ef-c9c6332e6577",
   "metadata": {},
   "source": [
    "We can calculate our sample size as follows:\n",
    "\n",
    "$$n = \\frac{Z^2 * p * (1-p)}{E^2}$$\n",
    "\n",
    "Where:\n",
    "\n",
    "- $n$ = required sample size\n",
    "- $Z$ = $Z$-score corresponding to the desired confidence level (1.96 for 95% confidence level)\n",
    "- $p$ = estimated proportion of the population (0.5 to account for maximum variability)\n",
    "- $E$ = desired margin of error (0.05)"
   ]
  },
  {
   "cell_type": "code",
   "execution_count": 30,
   "id": "5f55d14f-af92-477c-be38-e774ed3bbdec",
   "metadata": {
    "tags": []
   },
   "outputs": [
    {
     "name": "stdout",
     "output_type": "stream",
     "text": [
      "[1] 384.16\n"
     ]
    }
   ],
   "source": [
    "# performing the above calculation\n",
    "n <- (1.96**2 * 0.5 * (1-0.5))/0.05**2\n",
    "print(n)"
   ]
  },
  {
   "cell_type": "code",
   "execution_count": 34,
   "id": "0fe1b957-4914-464f-b54e-88994993ad22",
   "metadata": {
    "tags": []
   },
   "outputs": [
    {
     "data": {
      "text/html": [
       "<table class=\"dataframe\">\n",
       "<caption>A data.frame: 6 × 15</caption>\n",
       "<thead>\n",
       "\t<tr><th></th><th scope=col>Size</th><th scope=col>Stars</th><th scope=col>Forks</th><th scope=col>Issues</th><th scope=col>Watchers</th><th scope=col>Has.Issues</th><th scope=col>Has.Projects</th><th scope=col>Has.Downloads</th><th scope=col>Has.Wiki</th><th scope=col>Has.Pages</th><th scope=col>Has.Discussions</th><th scope=col>Is.Fork</th><th scope=col>Is.Archived</th><th scope=col>Is.Template</th><th scope=col>Default.Branch</th></tr>\n",
       "\t<tr><th></th><th scope=col>&lt;dbl&gt;</th><th scope=col>&lt;int&gt;</th><th scope=col>&lt;dbl&gt;</th><th scope=col>&lt;dbl&gt;</th><th scope=col>&lt;dbl&gt;</th><th scope=col>&lt;chr&gt;</th><th scope=col>&lt;chr&gt;</th><th scope=col>&lt;chr&gt;</th><th scope=col>&lt;chr&gt;</th><th scope=col>&lt;chr&gt;</th><th scope=col>&lt;chr&gt;</th><th scope=col>&lt;chr&gt;</th><th scope=col>&lt;chr&gt;</th><th scope=col>&lt;chr&gt;</th><th scope=col>&lt;chr&gt;</th></tr>\n",
       "</thead>\n",
       "<tbody>\n",
       "\t<tr><th scope=row>1</th><td> 1.00830220</td><td> 479</td><td>-0.1481999</td><td>-0.17772848</td><td>-0.15932512</td><td>True</td><td>True </td><td>True</td><td>True </td><td>True </td><td>True </td><td>False</td><td>False</td><td>False</td><td>master</td></tr>\n",
       "\t<tr><th scope=row>2</th><td> 0.09745232</td><td> 941</td><td>-0.1441773</td><td>-0.09630712</td><td>-0.04360444</td><td>True</td><td>True </td><td>True</td><td>True </td><td>False</td><td>False</td><td>False</td><td>False</td><td>False</td><td>master</td></tr>\n",
       "\t<tr><th scope=row>3</th><td>-0.07527600</td><td> 211</td><td>-0.1490044</td><td> 0.11233514</td><td>-0.22645313</td><td>True</td><td>True </td><td>True</td><td>True </td><td>False</td><td>True </td><td>False</td><td>False</td><td>False</td><td>master</td></tr>\n",
       "\t<tr><th scope=row>4</th><td>-0.06397756</td><td>2166</td><td> 0.1132712</td><td> 0.69755123</td><td> 0.26323069</td><td>True</td><td>True </td><td>True</td><td>True </td><td>True </td><td>False</td><td>False</td><td>False</td><td>False</td><td>master</td></tr>\n",
       "\t<tr><th scope=row>5</th><td>-0.07454564</td><td>4917</td><td> 0.3618698</td><td>-0.12175129</td><td> 0.95229473</td><td>True</td><td>False</td><td>True</td><td>False</td><td>False</td><td>True </td><td>False</td><td>False</td><td>False</td><td>main  </td></tr>\n",
       "\t<tr><th scope=row>6</th><td>-0.07665271</td><td> 309</td><td>-0.1248686</td><td>-0.18790616</td><td>-0.20190632</td><td>True</td><td>True </td><td>True</td><td>True </td><td>False</td><td>False</td><td>False</td><td>False</td><td>False</td><td>master</td></tr>\n",
       "</tbody>\n",
       "</table>\n"
      ],
      "text/latex": [
       "A data.frame: 6 × 15\n",
       "\\begin{tabular}{r|lllllllllllllll}\n",
       "  & Size & Stars & Forks & Issues & Watchers & Has.Issues & Has.Projects & Has.Downloads & Has.Wiki & Has.Pages & Has.Discussions & Is.Fork & Is.Archived & Is.Template & Default.Branch\\\\\n",
       "  & <dbl> & <int> & <dbl> & <dbl> & <dbl> & <chr> & <chr> & <chr> & <chr> & <chr> & <chr> & <chr> & <chr> & <chr> & <chr>\\\\\n",
       "\\hline\n",
       "\t1 &  1.00830220 &  479 & -0.1481999 & -0.17772848 & -0.15932512 & True & True  & True & True  & True  & True  & False & False & False & master\\\\\n",
       "\t2 &  0.09745232 &  941 & -0.1441773 & -0.09630712 & -0.04360444 & True & True  & True & True  & False & False & False & False & False & master\\\\\n",
       "\t3 & -0.07527600 &  211 & -0.1490044 &  0.11233514 & -0.22645313 & True & True  & True & True  & False & True  & False & False & False & master\\\\\n",
       "\t4 & -0.06397756 & 2166 &  0.1132712 &  0.69755123 &  0.26323069 & True & True  & True & True  & True  & False & False & False & False & master\\\\\n",
       "\t5 & -0.07454564 & 4917 &  0.3618698 & -0.12175129 &  0.95229473 & True & False & True & False & False & True  & False & False & False & main  \\\\\n",
       "\t6 & -0.07665271 &  309 & -0.1248686 & -0.18790616 & -0.20190632 & True & True  & True & True  & False & False & False & False & False & master\\\\\n",
       "\\end{tabular}\n"
      ],
      "text/markdown": [
       "\n",
       "A data.frame: 6 × 15\n",
       "\n",
       "| <!--/--> | Size &lt;dbl&gt; | Stars &lt;int&gt; | Forks &lt;dbl&gt; | Issues &lt;dbl&gt; | Watchers &lt;dbl&gt; | Has.Issues &lt;chr&gt; | Has.Projects &lt;chr&gt; | Has.Downloads &lt;chr&gt; | Has.Wiki &lt;chr&gt; | Has.Pages &lt;chr&gt; | Has.Discussions &lt;chr&gt; | Is.Fork &lt;chr&gt; | Is.Archived &lt;chr&gt; | Is.Template &lt;chr&gt; | Default.Branch &lt;chr&gt; |\n",
       "|---|---|---|---|---|---|---|---|---|---|---|---|---|---|---|---|\n",
       "| 1 |  1.00830220 |  479 | -0.1481999 | -0.17772848 | -0.15932512 | True | True  | True | True  | True  | True  | False | False | False | master |\n",
       "| 2 |  0.09745232 |  941 | -0.1441773 | -0.09630712 | -0.04360444 | True | True  | True | True  | False | False | False | False | False | master |\n",
       "| 3 | -0.07527600 |  211 | -0.1490044 |  0.11233514 | -0.22645313 | True | True  | True | True  | False | True  | False | False | False | master |\n",
       "| 4 | -0.06397756 | 2166 |  0.1132712 |  0.69755123 |  0.26323069 | True | True  | True | True  | True  | False | False | False | False | master |\n",
       "| 5 | -0.07454564 | 4917 |  0.3618698 | -0.12175129 |  0.95229473 | True | False | True | False | False | True  | False | False | False | main   |\n",
       "| 6 | -0.07665271 |  309 | -0.1248686 | -0.18790616 | -0.20190632 | True | True  | True | True  | False | False | False | False | False | master |\n",
       "\n"
      ],
      "text/plain": [
       "  Size        Stars Forks      Issues      Watchers    Has.Issues Has.Projects\n",
       "1  1.00830220  479  -0.1481999 -0.17772848 -0.15932512 True       True        \n",
       "2  0.09745232  941  -0.1441773 -0.09630712 -0.04360444 True       True        \n",
       "3 -0.07527600  211  -0.1490044  0.11233514 -0.22645313 True       True        \n",
       "4 -0.06397756 2166   0.1132712  0.69755123  0.26323069 True       True        \n",
       "5 -0.07454564 4917   0.3618698 -0.12175129  0.95229473 True       False       \n",
       "6 -0.07665271  309  -0.1248686 -0.18790616 -0.20190632 True       True        \n",
       "  Has.Downloads Has.Wiki Has.Pages Has.Discussions Is.Fork Is.Archived\n",
       "1 True          True     True      True            False   False      \n",
       "2 True          True     False     False           False   False      \n",
       "3 True          True     False     True            False   False      \n",
       "4 True          True     True      False           False   False      \n",
       "5 True          False    False     True            False   False      \n",
       "6 True          True     False     False           False   False      \n",
       "  Is.Template Default.Branch\n",
       "1 False       master        \n",
       "2 False       master        \n",
       "3 False       master        \n",
       "4 False       master        \n",
       "5 False       main          \n",
       "6 False       master        "
      ]
     },
     "metadata": {},
     "output_type": "display_data"
    }
   ],
   "source": [
    "set.seed(2024)\n",
    "\n",
    "# running a sampling of the data using the above size\n",
    "sample_data <- processed_data %>%\n",
    "  sample_n(size = n, replace = FALSE)\n",
    "head(sample_data)"
   ]
  },
  {
   "cell_type": "code",
   "execution_count": 35,
   "id": "b3a11a43-b05f-4589-8c2e-989f4742494f",
   "metadata": {
    "tags": []
   },
   "outputs": [
    {
     "data": {
      "text/html": [
       "<table class=\"dataframe\">\n",
       "<caption>A data.frame: 6 × 15</caption>\n",
       "<thead>\n",
       "\t<tr><th></th><th scope=col>Size</th><th scope=col>Stars</th><th scope=col>Forks</th><th scope=col>Issues</th><th scope=col>Watchers</th><th scope=col>Has.Issues</th><th scope=col>Has.Projects</th><th scope=col>Has.Downloads</th><th scope=col>Has.Wiki</th><th scope=col>Has.Pages</th><th scope=col>Has.Discussions</th><th scope=col>Is.Fork</th><th scope=col>Is.Archived</th><th scope=col>Is.Template</th><th scope=col>Default.Branch</th></tr>\n",
       "\t<tr><th></th><th scope=col>&lt;dbl&gt;</th><th scope=col>&lt;int&gt;</th><th scope=col>&lt;dbl&gt;</th><th scope=col>&lt;dbl&gt;</th><th scope=col>&lt;dbl&gt;</th><th scope=col>&lt;dbl&gt;</th><th scope=col>&lt;dbl&gt;</th><th scope=col>&lt;dbl&gt;</th><th scope=col>&lt;dbl&gt;</th><th scope=col>&lt;dbl&gt;</th><th scope=col>&lt;dbl&gt;</th><th scope=col>&lt;dbl&gt;</th><th scope=col>&lt;dbl&gt;</th><th scope=col>&lt;dbl&gt;</th><th scope=col>&lt;dbl&gt;</th></tr>\n",
       "</thead>\n",
       "<tbody>\n",
       "\t<tr><th scope=row>1</th><td> 1.00830220</td><td> 479</td><td>-0.1481999</td><td>-0.17772848</td><td>-0.15932512</td><td>1</td><td>1</td><td>1</td><td>1</td><td>1</td><td>1</td><td>0</td><td>0</td><td>0</td><td>0</td></tr>\n",
       "\t<tr><th scope=row>2</th><td> 0.09745232</td><td> 941</td><td>-0.1441773</td><td>-0.09630712</td><td>-0.04360444</td><td>1</td><td>1</td><td>1</td><td>1</td><td>0</td><td>0</td><td>0</td><td>0</td><td>0</td><td>0</td></tr>\n",
       "\t<tr><th scope=row>3</th><td>-0.07527600</td><td> 211</td><td>-0.1490044</td><td> 0.11233514</td><td>-0.22645313</td><td>1</td><td>1</td><td>1</td><td>1</td><td>0</td><td>1</td><td>0</td><td>0</td><td>0</td><td>0</td></tr>\n",
       "\t<tr><th scope=row>4</th><td>-0.06397756</td><td>2166</td><td> 0.1132712</td><td> 0.69755123</td><td> 0.26323069</td><td>1</td><td>1</td><td>1</td><td>1</td><td>1</td><td>0</td><td>0</td><td>0</td><td>0</td><td>0</td></tr>\n",
       "\t<tr><th scope=row>5</th><td>-0.07454564</td><td>4917</td><td> 0.3618698</td><td>-0.12175129</td><td> 0.95229473</td><td>1</td><td>0</td><td>1</td><td>0</td><td>0</td><td>1</td><td>0</td><td>0</td><td>0</td><td>0</td></tr>\n",
       "\t<tr><th scope=row>6</th><td>-0.07665271</td><td> 309</td><td>-0.1248686</td><td>-0.18790616</td><td>-0.20190632</td><td>1</td><td>1</td><td>1</td><td>1</td><td>0</td><td>0</td><td>0</td><td>0</td><td>0</td><td>0</td></tr>\n",
       "</tbody>\n",
       "</table>\n"
      ],
      "text/latex": [
       "A data.frame: 6 × 15\n",
       "\\begin{tabular}{r|lllllllllllllll}\n",
       "  & Size & Stars & Forks & Issues & Watchers & Has.Issues & Has.Projects & Has.Downloads & Has.Wiki & Has.Pages & Has.Discussions & Is.Fork & Is.Archived & Is.Template & Default.Branch\\\\\n",
       "  & <dbl> & <int> & <dbl> & <dbl> & <dbl> & <dbl> & <dbl> & <dbl> & <dbl> & <dbl> & <dbl> & <dbl> & <dbl> & <dbl> & <dbl>\\\\\n",
       "\\hline\n",
       "\t1 &  1.00830220 &  479 & -0.1481999 & -0.17772848 & -0.15932512 & 1 & 1 & 1 & 1 & 1 & 1 & 0 & 0 & 0 & 0\\\\\n",
       "\t2 &  0.09745232 &  941 & -0.1441773 & -0.09630712 & -0.04360444 & 1 & 1 & 1 & 1 & 0 & 0 & 0 & 0 & 0 & 0\\\\\n",
       "\t3 & -0.07527600 &  211 & -0.1490044 &  0.11233514 & -0.22645313 & 1 & 1 & 1 & 1 & 0 & 1 & 0 & 0 & 0 & 0\\\\\n",
       "\t4 & -0.06397756 & 2166 &  0.1132712 &  0.69755123 &  0.26323069 & 1 & 1 & 1 & 1 & 1 & 0 & 0 & 0 & 0 & 0\\\\\n",
       "\t5 & -0.07454564 & 4917 &  0.3618698 & -0.12175129 &  0.95229473 & 1 & 0 & 1 & 0 & 0 & 1 & 0 & 0 & 0 & 0\\\\\n",
       "\t6 & -0.07665271 &  309 & -0.1248686 & -0.18790616 & -0.20190632 & 1 & 1 & 1 & 1 & 0 & 0 & 0 & 0 & 0 & 0\\\\\n",
       "\\end{tabular}\n"
      ],
      "text/markdown": [
       "\n",
       "A data.frame: 6 × 15\n",
       "\n",
       "| <!--/--> | Size &lt;dbl&gt; | Stars &lt;int&gt; | Forks &lt;dbl&gt; | Issues &lt;dbl&gt; | Watchers &lt;dbl&gt; | Has.Issues &lt;dbl&gt; | Has.Projects &lt;dbl&gt; | Has.Downloads &lt;dbl&gt; | Has.Wiki &lt;dbl&gt; | Has.Pages &lt;dbl&gt; | Has.Discussions &lt;dbl&gt; | Is.Fork &lt;dbl&gt; | Is.Archived &lt;dbl&gt; | Is.Template &lt;dbl&gt; | Default.Branch &lt;dbl&gt; |\n",
       "|---|---|---|---|---|---|---|---|---|---|---|---|---|---|---|---|\n",
       "| 1 |  1.00830220 |  479 | -0.1481999 | -0.17772848 | -0.15932512 | 1 | 1 | 1 | 1 | 1 | 1 | 0 | 0 | 0 | 0 |\n",
       "| 2 |  0.09745232 |  941 | -0.1441773 | -0.09630712 | -0.04360444 | 1 | 1 | 1 | 1 | 0 | 0 | 0 | 0 | 0 | 0 |\n",
       "| 3 | -0.07527600 |  211 | -0.1490044 |  0.11233514 | -0.22645313 | 1 | 1 | 1 | 1 | 0 | 1 | 0 | 0 | 0 | 0 |\n",
       "| 4 | -0.06397756 | 2166 |  0.1132712 |  0.69755123 |  0.26323069 | 1 | 1 | 1 | 1 | 1 | 0 | 0 | 0 | 0 | 0 |\n",
       "| 5 | -0.07454564 | 4917 |  0.3618698 | -0.12175129 |  0.95229473 | 1 | 0 | 1 | 0 | 0 | 1 | 0 | 0 | 0 | 0 |\n",
       "| 6 | -0.07665271 |  309 | -0.1248686 | -0.18790616 | -0.20190632 | 1 | 1 | 1 | 1 | 0 | 0 | 0 | 0 | 0 | 0 |\n",
       "\n"
      ],
      "text/plain": [
       "  Size        Stars Forks      Issues      Watchers    Has.Issues Has.Projects\n",
       "1  1.00830220  479  -0.1481999 -0.17772848 -0.15932512 1          1           \n",
       "2  0.09745232  941  -0.1441773 -0.09630712 -0.04360444 1          1           \n",
       "3 -0.07527600  211  -0.1490044  0.11233514 -0.22645313 1          1           \n",
       "4 -0.06397756 2166   0.1132712  0.69755123  0.26323069 1          1           \n",
       "5 -0.07454564 4917   0.3618698 -0.12175129  0.95229473 1          0           \n",
       "6 -0.07665271  309  -0.1248686 -0.18790616 -0.20190632 1          1           \n",
       "  Has.Downloads Has.Wiki Has.Pages Has.Discussions Is.Fork Is.Archived\n",
       "1 1             1        1         1               0       0          \n",
       "2 1             1        0         0               0       0          \n",
       "3 1             1        0         1               0       0          \n",
       "4 1             1        1         0               0       0          \n",
       "5 1             0        0         1               0       0          \n",
       "6 1             1        0         0               0       0          \n",
       "  Is.Template Default.Branch\n",
       "1 0           0             \n",
       "2 0           0             \n",
       "3 0           0             \n",
       "4 0           0             \n",
       "5 0           0             \n",
       "6 0           0             "
      ]
     },
     "metadata": {},
     "output_type": "display_data"
    }
   ],
   "source": [
    "# Factorize the T/F data\n",
    "sample_data_factored <- sample_data |> \n",
    "                        mutate(Has.Issues = ifelse(Has.Issues == \"True\", 1, 0),\n",
    "                               Has.Projects = ifelse(Has.Projects == \"True\", 1, 0),\n",
    "                               Has.Downloads = ifelse(Has.Downloads == \"True\", 1, 0),\n",
    "                               Has.Wiki = ifelse(Has.Wiki == \"True\", 1, 0),\n",
    "                               Has.Pages = ifelse(Has.Pages == \"True\", 1, 0),\n",
    "                               Has.Discussions = ifelse(Has.Discussions == \"True\", 1, 0),\n",
    "                               Is.Fork = ifelse(Is.Fork == \"True\", 1, 0),\n",
    "                               Is.Archived = ifelse(Is.Archived == \"True\", 1, 0),\n",
    "                               Default.Branch = ifelse(Default.Branch == \"True\", 1, 0),\n",
    "                               Is.Template = ifelse(Is.Template == \"True\", 1, 0))\n",
    "head(sample_data_factored)\n",
    "\n",
    "## IF WE NEED I HAVE A TRAIN TEST SPLIT HERE WE CAN USE TOO\n",
    "# train_index <- createDataPartition(sample_data_factored$Stars, p = 0.7, list = FALSE)\n",
    "\n",
    "# # Split the data based on the indices\n",
    "# train_data <- sample_data_factored[train_index, ]\n",
    "# test_data <- sample_data_factored[-train_index, ]\n",
    "\n",
    "\n",
    "# train_index <- sample(1:nrow(sample_data_factored), 0.7*nrow(sample_data_factored))\n",
    "# train_data <- sample_data_factored[train_index, ]\n",
    "# test_data <- sample_data_factored[-train_index, ]\n",
    "\n",
    "\n",
    "# head(train_data)\n",
    "# head(test_data)"
   ]
  },
  {
   "cell_type": "markdown",
   "id": "4d59f308-f1f7-4990-a5b8-c5a652ca97c7",
   "metadata": {},
   "source": [
    "# VISUALIZATION PCKGE REQ'D"
   ]
  },
  {
   "cell_type": "code",
   "execution_count": 36,
   "id": "30964b68-0899-4427-a123-99ba051a0b64",
   "metadata": {
    "tags": []
   },
   "outputs": [],
   "source": [
    "# melted_data <- melt(sample_data[, c(\"Size\", \"Forks\", \"Issues\", \"Watchers\")])\n",
    "\n",
    "# # Create a boxplot\n",
    "# ggplot(melted_data, aes(x = variable, y = value)) +\n",
    "#   geom_boxplot() +\n",
    "#   labs(title = \"Distribution of Size, Stars, Forks, Issues, and Watchers\") +\n",
    "#   xlab(\"Variable\") +\n",
    "#   ylab(\"Value\")"
   ]
  },
  {
   "cell_type": "markdown",
   "id": "0788da4b-577e-48aa-a56f-f30ead880cce",
   "metadata": {},
   "source": [
    "# We can get rid of NA but should we keep 0s? They are still a value"
   ]
  },
  {
   "cell_type": "code",
   "execution_count": 37,
   "id": "a6573f21-0319-42b6-9d92-4e17096b436a",
   "metadata": {
    "tags": []
   },
   "outputs": [
    {
     "data": {
      "text/html": [
       "<style>\n",
       ".dl-inline {width: auto; margin:0; padding: 0}\n",
       ".dl-inline>dt, .dl-inline>dd {float: none; width: auto; display: inline-block}\n",
       ".dl-inline>dt::after {content: \":\\0020\"; padding-right: .5ex}\n",
       ".dl-inline>dt:not(:first-of-type) {padding-left: .5ex}\n",
       "</style><dl class=dl-inline><dt>Name</dt><dd>0</dd><dt>Description</dt><dd>0</dd><dt>URL</dt><dd>0</dd><dt>Created.At</dt><dd>0</dd><dt>Updated.At</dt><dd>0</dd><dt>Homepage</dt><dd>0</dd><dt>Size</dt><dd>151</dd><dt>Stars</dt><dd>0</dd><dt>Forks</dt><dd>216</dd><dt>Issues</dt><dd>23647</dd><dt>Watchers</dt><dd>0</dd><dt>Language</dt><dd>0</dd><dt>License</dt><dd>0</dd><dt>Topics</dt><dd>0</dd><dt>Has.Issues</dt><dd>0</dd><dt>Has.Projects</dt><dd>0</dd><dt>Has.Downloads</dt><dd>0</dd><dt>Has.Wiki</dt><dd>0</dd><dt>Has.Pages</dt><dd>0</dd><dt>Has.Discussions</dt><dd>0</dd><dt>Is.Fork</dt><dd>0</dd><dt>Is.Archived</dt><dd>0</dd><dt>Is.Template</dt><dd>0</dd><dt>Default.Branch</dt><dd>0</dd></dl>\n"
      ],
      "text/latex": [
       "\\begin{description*}\n",
       "\\item[Name] 0\n",
       "\\item[Description] 0\n",
       "\\item[URL] 0\n",
       "\\item[Created.At] 0\n",
       "\\item[Updated.At] 0\n",
       "\\item[Homepage] 0\n",
       "\\item[Size] 151\n",
       "\\item[Stars] 0\n",
       "\\item[Forks] 216\n",
       "\\item[Issues] 23647\n",
       "\\item[Watchers] 0\n",
       "\\item[Language] 0\n",
       "\\item[License] 0\n",
       "\\item[Topics] 0\n",
       "\\item[Has.Issues] 0\n",
       "\\item[Has.Projects] 0\n",
       "\\item[Has.Downloads] 0\n",
       "\\item[Has.Wiki] 0\n",
       "\\item[Has.Pages] 0\n",
       "\\item[Has.Discussions] 0\n",
       "\\item[Is.Fork] 0\n",
       "\\item[Is.Archived] 0\n",
       "\\item[Is.Template] 0\n",
       "\\item[Default.Branch] 0\n",
       "\\end{description*}\n"
      ],
      "text/markdown": [
       "Name\n",
       ":   0Description\n",
       ":   0URL\n",
       ":   0Created.At\n",
       ":   0Updated.At\n",
       ":   0Homepage\n",
       ":   0Size\n",
       ":   151Stars\n",
       ":   0Forks\n",
       ":   216Issues\n",
       ":   23647Watchers\n",
       ":   0Language\n",
       ":   0License\n",
       ":   0Topics\n",
       ":   0Has.Issues\n",
       ":   0Has.Projects\n",
       ":   0Has.Downloads\n",
       ":   0Has.Wiki\n",
       ":   0Has.Pages\n",
       ":   0Has.Discussions\n",
       ":   0Is.Fork\n",
       ":   0Is.Archived\n",
       ":   0Is.Template\n",
       ":   0Default.Branch\n",
       ":   0\n",
       "\n"
      ],
      "text/plain": [
       "           Name     Description             URL      Created.At      Updated.At \n",
       "              0               0               0               0               0 \n",
       "       Homepage            Size           Stars           Forks          Issues \n",
       "              0             151               0             216           23647 \n",
       "       Watchers        Language         License          Topics      Has.Issues \n",
       "              0               0               0               0               0 \n",
       "   Has.Projects   Has.Downloads        Has.Wiki       Has.Pages Has.Discussions \n",
       "              0               0               0               0               0 \n",
       "        Is.Fork     Is.Archived     Is.Template  Default.Branch \n",
       "              0               0               0               0 "
      ]
     },
     "metadata": {},
     "output_type": "display_data"
    },
    {
     "data": {
      "text/html": [
       "<style>\n",
       ".dl-inline {width: auto; margin:0; padding: 0}\n",
       ".dl-inline>dt, .dl-inline>dd {float: none; width: auto; display: inline-block}\n",
       ".dl-inline>dt::after {content: \":\\0020\"; padding-right: .5ex}\n",
       ".dl-inline>dt:not(:first-of-type) {padding-left: .5ex}\n",
       "</style><dl class=dl-inline><dt>Name</dt><dd>2</dd><dt>Description</dt><dd>8032</dd><dt>URL</dt><dd>0</dd><dt>Created.At</dt><dd>0</dd><dt>Updated.At</dt><dd>0</dd><dt>Homepage</dt><dd>136639</dd><dt>Size</dt><dd>0</dd><dt>Stars</dt><dd>0</dd><dt>Forks</dt><dd>0</dd><dt>Issues</dt><dd>0</dd><dt>Watchers</dt><dd>0</dd><dt>Language</dt><dd>16076</dd><dt>License</dt><dd>53039</dd><dt>Topics</dt><dd>0</dd><dt>Has.Issues</dt><dd>0</dd><dt>Has.Projects</dt><dd>0</dd><dt>Has.Downloads</dt><dd>0</dd><dt>Has.Wiki</dt><dd>0</dd><dt>Has.Pages</dt><dd>0</dd><dt>Has.Discussions</dt><dd>0</dd><dt>Is.Fork</dt><dd>0</dd><dt>Is.Archived</dt><dd>0</dd><dt>Is.Template</dt><dd>0</dd><dt>Default.Branch</dt><dd>0</dd></dl>\n"
      ],
      "text/latex": [
       "\\begin{description*}\n",
       "\\item[Name] 2\n",
       "\\item[Description] 8032\n",
       "\\item[URL] 0\n",
       "\\item[Created.At] 0\n",
       "\\item[Updated.At] 0\n",
       "\\item[Homepage] 136639\n",
       "\\item[Size] 0\n",
       "\\item[Stars] 0\n",
       "\\item[Forks] 0\n",
       "\\item[Issues] 0\n",
       "\\item[Watchers] 0\n",
       "\\item[Language] 16076\n",
       "\\item[License] 53039\n",
       "\\item[Topics] 0\n",
       "\\item[Has.Issues] 0\n",
       "\\item[Has.Projects] 0\n",
       "\\item[Has.Downloads] 0\n",
       "\\item[Has.Wiki] 0\n",
       "\\item[Has.Pages] 0\n",
       "\\item[Has.Discussions] 0\n",
       "\\item[Is.Fork] 0\n",
       "\\item[Is.Archived] 0\n",
       "\\item[Is.Template] 0\n",
       "\\item[Default.Branch] 0\n",
       "\\end{description*}\n"
      ],
      "text/markdown": [
       "Name\n",
       ":   2Description\n",
       ":   8032URL\n",
       ":   0Created.At\n",
       ":   0Updated.At\n",
       ":   0Homepage\n",
       ":   136639Size\n",
       ":   0Stars\n",
       ":   0Forks\n",
       ":   0Issues\n",
       ":   0Watchers\n",
       ":   0Language\n",
       ":   16076License\n",
       ":   53039Topics\n",
       ":   0Has.Issues\n",
       ":   0Has.Projects\n",
       ":   0Has.Downloads\n",
       ":   0Has.Wiki\n",
       ":   0Has.Pages\n",
       ":   0Has.Discussions\n",
       ":   0Is.Fork\n",
       ":   0Is.Archived\n",
       ":   0Is.Template\n",
       ":   0Default.Branch\n",
       ":   0\n",
       "\n"
      ],
      "text/plain": [
       "           Name     Description             URL      Created.At      Updated.At \n",
       "              2            8032               0               0               0 \n",
       "       Homepage            Size           Stars           Forks          Issues \n",
       "         136639               0               0               0               0 \n",
       "       Watchers        Language         License          Topics      Has.Issues \n",
       "              0           16076           53039               0               0 \n",
       "   Has.Projects   Has.Downloads        Has.Wiki       Has.Pages Has.Discussions \n",
       "              0               0               0               0               0 \n",
       "        Is.Fork     Is.Archived     Is.Template  Default.Branch \n",
       "              0               0               0               0 "
      ]
     },
     "metadata": {},
     "output_type": "display_data"
    }
   ],
   "source": [
    "# check NAs, 0s, and empty values\n",
    "colSums(data==0)\n",
    "colSums(data==\"\")"
   ]
  },
  {
   "cell_type": "code",
   "execution_count": 39,
   "id": "338483c6-238a-4a6e-b684-1f81b12847e9",
   "metadata": {
    "tags": []
   },
   "outputs": [],
   "source": [
    "# # Filter out 0s and empty values\n",
    "# data <- data %>%\n",
    "#     filter(Size != 0, Forks != 0, Issues != 0) %>%\n",
    "#     filter(Name != \"\")"
   ]
  },
  {
   "cell_type": "markdown",
   "id": "14289a52-b138-409e-a8db-00c4f3a90937",
   "metadata": {},
   "source": [
    "Since the dataset contains huge number of observations, we are only going to use 3,000 observations randomly drawn from the entire data."
   ]
  },
  {
   "cell_type": "code",
   "execution_count": 40,
   "id": "e565118f-0b56-401d-b52f-81ca171e6788",
   "metadata": {
    "tags": []
   },
   "outputs": [],
   "source": [
    "# # random selection of 3,000 observations\n",
    "# data_s <- sample_n(data, 3000, replace = FALSE)"
   ]
  },
  {
   "cell_type": "markdown",
   "id": "ca936a11-6e35-4b01-93da-0b526bafea5f",
   "metadata": {},
   "source": [
    "# The prediction won't work because I commented out the data_s (above)"
   ]
  },
  {
   "cell_type": "markdown",
   "id": "85629338-2f2e-490d-86f0-957a88dc0204",
   "metadata": {
    "jp-MarkdownHeadingCollapsed": true
   },
   "source": [
    "#### Predictive question (Needs to be updated):\n",
    "We were going to first split the sample data containing 3,000 random selected samples into training set and testing set using a 70-30 ratio basis, use training set to determine a well-trained model using Linear Regression function, and test our model using the testing set, which contains 30% of 3000-observation sample data (i.e., 0.3*3000 = 900 observations) randomly selected from our dataset.\n",
    "\n",
    "Using the forward stepwise selection, we can use the BIC (Bayesian Information Criterion) of each model to select the model, since we want the model to be predictive rather than generative. We can also plot the Cp plot of the model out and select the minimum Cp model. Also, BIC can be used to approximate the test MSE, without looking at the test data."
   ]
  },
  {
   "cell_type": "markdown",
   "id": "ae4614c1-9da5-428e-8e41-07c526f0a41c",
   "metadata": {
    "tags": []
   },
   "source": [
    "###  Implementation of a proposed model"
   ]
  },
  {
   "cell_type": "markdown",
   "id": "6ce89b3e-bade-4641-be89-2fe5228bdb91",
   "metadata": {},
   "source": [
    "#### Prediction"
   ]
  },
  {
   "cell_type": "code",
   "execution_count": 7,
   "id": "ae979bbf-48f5-4ed7-8515-e427c50fa7fd",
   "metadata": {},
   "outputs": [],
   "source": [
    "# split the data into training and testing set\n",
    "data_s$ID <- rownames(data_s)\n",
    "training_data <- sample_n(data_s, size = nrow(data_s) * 0.70,\n",
    "  replace = FALSE\n",
    ")\n",
    "\n",
    "testing_data <- anti_join(data_s,\n",
    "  training_data,\n",
    "  by = \"ID\"\n",
    ")\n",
    "\n",
    "training_data <- training_data %>% select(-\"ID\")\n",
    "testing_data <- testing_data %>% select(-\"ID\")\n"
   ]
  },
  {
   "cell_type": "code",
   "execution_count": 10,
   "id": "7aec20cd-3d7a-4c5f-979e-d8f184dc0c5c",
   "metadata": {},
   "outputs": [
    {
     "ename": "ERROR",
     "evalue": "Error in `contrasts<-`(`*tmp*`, value = contr.funs[1 + isOF[nn]]): contrasts can be applied only to factors with 2 or more levels\n",
     "output_type": "error",
     "traceback": [
      "Error in `contrasts<-`(`*tmp*`, value = contr.funs[1 + isOF[nn]]): contrasts can be applied only to factors with 2 or more levels\nTraceback:\n",
      "1. lm(Stars ~ ., data = training_data)",
      "2. model.matrix(mt, mf, contrasts)",
      "3. model.matrix.default(mt, mf, contrasts)",
      "4. `contrasts<-`(`*tmp*`, value = contr.funs[1 + isOF[nn]])",
      "5. stop(\"contrasts can be applied only to factors with 2 or more levels\")"
     ]
    }
   ],
   "source": [
    "# build an additive predictive model\n",
    "data_full_OLS <- lm(Stars ~ ., data = training_data)\n",
    "# data_full_OLS"
   ]
  },
  {
   "cell_type": "code",
   "execution_count": 4,
   "id": "ccf98b59-1f69-48cd-b448-9e7395ace119",
   "metadata": {},
   "outputs": [
    {
     "ename": "ERROR",
     "evalue": "Error in eval(expr, envir, enclos): object 'data_full_OLS' not found\n",
     "output_type": "error",
     "traceback": [
      "Error in eval(expr, envir, enclos): object 'data_full_OLS' not found\nTraceback:\n",
      "1. predict(data_full_OLS, newdata = testing_data)"
     ]
    }
   ],
   "source": [
    "# obtain the (out-of-sample) predicted values\n",
    "data_test_pred_full_OLS <- predict(data_full_OLS, newdata = testing_data)\n",
    "# head(data_test_pred_full_OLS)"
   ]
  },
  {
   "cell_type": "code",
   "execution_count": 5,
   "id": "b6410ad9-cd79-4db1-9c57-61ac6594f45f",
   "metadata": {},
   "outputs": [
    {
     "ename": "ERROR",
     "evalue": "Error in rmse(data_test_pred_full_OLS, testing_data$Stars): could not find function \"rmse\"\n",
     "output_type": "error",
     "traceback": [
      "Error in rmse(data_test_pred_full_OLS, testing_data$Stars): could not find function \"rmse\"\nTraceback:\n",
      "1. tibble(Model = \"OLS Full Regression\", RMSE = rmse(data_test_pred_full_OLS, \n .     testing_data$Stars))",
      "2. tibble_quos(xs, .rows, .name_repair)",
      "3. eval_tidy(xs[[j]], mask)"
     ]
    }
   ],
   "source": [
    "# compute the Root Mean Squared Error (RMSE) using data from the test set \n",
    "data_RMSE_models <- tibble(\n",
    "  Model = \"OLS Full Regression\",\n",
    "  RMSE = rmse(\n",
    "    data_test_pred_full_OLS,\n",
    "    testing_data$Stars\n",
    "  )\n",
    ")\n",
    "# data_RMSE_models"
   ]
  },
  {
   "cell_type": "code",
   "execution_count": 6,
   "id": "4f0dc2a2-9736-4ed4-83e7-d13ec857ede2",
   "metadata": {},
   "outputs": [
    {
     "ename": "ERROR",
     "evalue": "Error in regsubsets(x = Stars ~ ., nvmax = 9, data = training_data, method = \"forward\"): could not find function \"regsubsets\"\n",
     "output_type": "error",
     "traceback": [
      "Error in regsubsets(x = Stars ~ ., nvmax = 9, data = training_data, method = \"forward\"): could not find function \"regsubsets\"\nTraceback:\n"
     ]
    }
   ],
   "source": [
    "# select a reduced LR using the forward selection algorithm from training set\n",
    "data_forward_sel <- regsubsets(\n",
    "  x = Stars ~., nvmax = 9,\n",
    "  data = training_data,\n",
    "  method = \"forward\"\n",
    ")\n",
    "# data_forward_sel\n",
    "\n",
    "data_fwd_summary <- summary(data_forward_sel)\n",
    "\n",
    "data_fwd_summary <- tibble(\n",
    "   n_input_variables = 1:9,\n",
    "   RSS = data_fwd_summary$rss,\n",
    "   BIC = data_fwd_summary$bic,\n",
    "   Cp = data_fwd_summary$cp\n",
    ")"
   ]
  },
  {
   "cell_type": "code",
   "execution_count": 7,
   "id": "37666b33-c63d-452c-a5b7-a6daad32f805",
   "metadata": {},
   "outputs": [
    {
     "ename": "ERROR",
     "evalue": "Error in eval(expr, envir, enclos): object 'data_fwd_summary' not found\n",
     "output_type": "error",
     "traceback": [
      "Error in eval(expr, envir, enclos): object 'data_fwd_summary' not found\nTraceback:\n",
      "1. which.min(data_fwd_summary$Cp)"
     ]
    }
   ],
   "source": [
    "# Identify the size of the model that minimizes Cp\n",
    "cp_min = which.min(data_fwd_summary$Cp)\n",
    "\n",
    "# Find the name of the variables for the best model\n",
    "selected_var <- names(coef(data_forward_sel, cp_min))[-1]\n",
    "\n",
    "# Reduce dataset to only include the selected predictors\n",
    "training_subset <- training_data %>% select(all_of(selected_var),Stars)\n",
    "\n",
    "# Train the predictive model\n",
    "data_red_OLS <- lm(Stars ~ .,\n",
    "  data = training_subset\n",
    ")\n",
    "\n",
    "# summary(data_red_OLS)"
   ]
  },
  {
   "cell_type": "code",
   "execution_count": 8,
   "id": "4427c1fb-caa1-4b83-bc4a-9720c55f2949",
   "metadata": {},
   "outputs": [
    {
     "ename": "ERROR",
     "evalue": "Error in eval(expr, envir, enclos): object 'data_red_OLS' not found\n",
     "output_type": "error",
     "traceback": [
      "Error in eval(expr, envir, enclos): object 'data_red_OLS' not found\nTraceback:\n",
      "1. predict(data_red_OLS, newdata = testing_data)"
     ]
    }
   ],
   "source": [
    "# use the trained model to predict the responses of the testing set\n",
    "data_test_pred_red_OLS <- predict(data_red_OLS, newdata = testing_data)"
   ]
  },
  {
   "cell_type": "code",
   "execution_count": 9,
   "id": "997e1ef5-a251-430c-b402-809d25f6a0e8",
   "metadata": {},
   "outputs": [
    {
     "ename": "ERROR",
     "evalue": "Error in eval(expr, envir, enclos): object 'data_RMSE_models' not found\n",
     "output_type": "error",
     "traceback": [
      "Error in eval(expr, envir, enclos): object 'data_RMSE_models' not found\nTraceback:\n",
      "1. rbind(data_RMSE_models, tibble(Model = \"OLS Reduced Regression\", \n .     RMSE = rmse(data_test_pred_red_OLS, testing_data$Stars)))"
     ]
    }
   ],
   "source": [
    "# compute the RMSE of predicted stars in testing set\n",
    "data_RMSE_models <- rbind(\n",
    "  data_RMSE_models,\n",
    "  tibble(\n",
    "    Model = \"OLS Reduced Regression\",\n",
    "    RMSE = rmse(data_test_pred_red_OLS, testing_data$Stars)\n",
    "    )\n",
    "  )\n",
    "data_RMSE_models"
   ]
  },
  {
   "cell_type": "markdown",
   "id": "8743a8bd-76cc-4817-982c-f9128f64f1d7",
   "metadata": {
    "tags": []
   },
   "source": [
    "## Discussion"
   ]
  },
  {
   "cell_type": "markdown",
   "id": "dc3ba838-bc0c-4b0e-bc18-8f6611d29d5b",
   "metadata": {},
   "source": [
    "### Prediction"
   ]
  },
  {
   "cell_type": "markdown",
   "id": "b1959f14-87a0-42d7-8e9e-68610cb75aae",
   "metadata": {},
   "source": [
    "The results showed that the full regression model had a better out-of-sample prediction performance compared to our reduced ones, which indicates that the full OLS regression model is better at making predictions when considering all factors.\n",
    "\n",
    "However, note that this is only a one-time estimate of the true test RMSE based on a random split of the data. If we split the data in a different way or by a different ratio, we might be very likely to obtain a different result, given that the RMSE value difference between the full regression and the reduced regression is quite trivial. \n",
    "\n",
    "Also, since we tend to use simpler statistical model since we would like to have a balance between fit and parsimony when selecting models, we finally would pick the reduced regression model, since it has a similar RMSE compared to the full model, but includes less variables/predictors.\n",
    "\n",
    "Future study might want to include different ways and ratios of splitting the data and see if a similar result can be obtained. Moreover, while making predictions using the current dataset, note that the dataset is relatively large and we only included a random selected sample from it (3000 observations out of 215,029) and it contains a lot of missing data, although we did not include them in our analysis. In addition, the dataset only focused on the most popular repositories on GitHub. Therefore, future studies can use other datasets with more diverse data in terms of the popularity of repositories, and see if the result and prediction can be generalized to the overall GitHub repository population at large."
   ]
  },
  {
   "cell_type": "markdown",
   "id": "c94f8c0a-e507-4f25-aa1e-fa1ea4f49f3d",
   "metadata": {},
   "source": [
    "## References"
   ]
  },
  {
   "cell_type": "markdown",
   "id": "7e9b4ffd-460c-46d6-9d7c-a83d2ea386bc",
   "metadata": {},
   "source": [
    "A. Begel, J. Bosch and M. -A. Storey, \"Social Networking Meets Software Development: Perspectives from GitHub, MSDN, Stack Exchange, and TopCoder,\" in IEEE Software, vol. 30, no. 1, pp. 52-66, Jan.-Feb. 2013, doi: 10.1109/MS.2013.13.\n",
    "\n",
    "H. Borges, A. Hora and M. T. Valente, \"Understanding the Factors That Impact the Popularity of GitHub Repositories,\" 2016 IEEE International Conference on Software Maintenance and Evolution (ICSME), Raleigh, NC, USA, 2016, pp. 334-344, doi: 10.1109/ICSME.2016.31. \n"
   ]
  },
  {
   "cell_type": "code",
   "execution_count": null,
   "id": "59393ed0-2358-4b76-95c6-dcbf49a09d5a",
   "metadata": {},
   "outputs": [],
   "source": []
  }
 ],
 "metadata": {
  "kernelspec": {
   "display_name": "R",
   "language": "R",
   "name": "ir"
  },
  "language_info": {
   "codemirror_mode": "r",
   "file_extension": ".r",
   "mimetype": "text/x-r-source",
   "name": "R",
   "pygments_lexer": "r",
   "version": "4.3.2"
  }
 },
 "nbformat": 4,
 "nbformat_minor": 5
}
